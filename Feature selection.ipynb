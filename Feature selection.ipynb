{
 "cells": [
  {
   "cell_type": "markdown",
   "metadata": {},
   "source": [
    "# Feature selection"
   ]
  },
  {
   "cell_type": "markdown",
   "metadata": {},
   "source": [
    "Feature selection is very important in machine learning. It allows you to select the most important features for model training. The features have a huge impact on model's performance."
   ]
  },
  {
   "cell_type": "markdown",
   "metadata": {},
   "source": [
    "### How to use the notebook:\n",
    "###### 1. Import all needed libararies below\n",
    "###### 2. Import  dataset\n",
    "###### 3. Transform data using chosen feature selection method\n",
    "###### 4. Compare results with original dataset"
   ]
  },
  {
   "cell_type": "code",
   "execution_count": 29,
   "metadata": {},
   "outputs": [],
   "source": [
    "import numpy as np\n",
    "import matplotlib.pyplot as plt\n",
    "import pandas as pd\n",
    "import seaborn as sns\n",
    "sns.set()\n",
    "from time import time"
   ]
  },
  {
   "cell_type": "markdown",
   "metadata": {},
   "source": [
    "Simple 4-dimensional dataset with additional 20 noise dimensions."
   ]
  },
  {
   "cell_type": "code",
   "execution_count": 30,
   "metadata": {},
   "outputs": [],
   "source": [
    "from sklearn import datasets\n",
    "\n",
    "# The iris dataset\n",
    "iris = datasets.load_iris()\n",
    "\n",
    "# Some noisy data not correlated\n",
    "E = np.random.uniform(0, 0.1, size=(len(iris.data), 20))\n",
    "\n",
    "# Add the noisy data to the informative features\n",
    "X = np.hstack((iris.data, E))\n",
    "y = iris.target"
   ]
  },
  {
   "cell_type": "code",
   "execution_count": 31,
   "metadata": {},
   "outputs": [],
   "source": [
    "from sklearn.model_selection import train_test_split\n",
    "\n",
    "X_train, X_test, y_train, y_test = train_test_split(X, y, test_size=0.2)"
   ]
  },
  {
   "cell_type": "code",
   "execution_count": 32,
   "metadata": {},
   "outputs": [],
   "source": [
    "X_train_indices = np.arange(X_train.shape[-1])"
   ]
  },
  {
   "cell_type": "markdown",
   "metadata": {},
   "source": [
    "## 1 Filter methods\n"
   ]
  },
  {
   "cell_type": "markdown",
   "metadata": {},
   "source": [
    "Filter methods are generally used as a preprocessing step. The selection of features is independent of any machine learning algorithms. Instead, features are selected on the basis of their scores in various statistical tests for their correlation with the outcome variable"
   ]
  },
  {
   "cell_type": "markdown",
   "metadata": {},
   "source": [
    "### 1.1 Pearson’s correlation"
   ]
  },
  {
   "cell_type": "markdown",
   "metadata": {},
   "source": [
    "Requirements:\n",
    "- Normalization: no\n",
    "- Impute missing values: yes\n",
    "\n",
    "It is used as a measure for quantifying linear dependence between two continuous variables X and Y. Its value varies from -1 to +1.\n"
   ]
  },
  {
   "cell_type": "code",
   "execution_count": 33,
   "metadata": {},
   "outputs": [
    {
     "name": "stdout",
     "output_type": "stream",
     "text": [
      "Input data shape:  (120, 24)\n",
      "Output data shape:  (120, 3)\n",
      "Selected features:  [0, 2, 3]\n",
      "Elapsed time: 0.00s\n"
     ]
    },
    {
     "data": {
      "text/plain": [
       "<BarContainer object of 24 artists>"
      ]
     },
     "execution_count": 33,
     "metadata": {},
     "output_type": "execute_result"
    },
    {
     "data": {
      "image/png": "[encoded data removed]",
      "text/plain": [
       "<Figure size 432x288 with 2 Axes>"
      ]
     },
     "metadata": {},
     "output_type": "display_data"
    },
    {
     "data": {
      "image/png": "[encoded data removed]",
      "text/plain": [
       "<Figure size 432x288 with 1 Axes>"
      ]
     },
     "metadata": {},
     "output_type": "display_data"
    }
   ],
   "source": [
    "start = time()\n",
    "\n",
    "df = pd.DataFrame(X_train)\n",
    "df['target'] = y_train\n",
    "\n",
    "cor = df.corr()\n",
    "cor_target = abs(cor['target'][:-1])\n",
    "\n",
    "print('Input data shape: ', X_train.shape)\n",
    "\n",
    "relevant_features = cor_target[cor_target>0.5]\n",
    "X_train_new = df[list(relevant_features.index)].values\n",
    "\n",
    "print('Output data shape: ', X_train_new.shape)\n",
    "print('Selected features: ', list(relevant_features.index))\n",
    "print('Elapsed time: %.2fs' % (time() - start))\n",
    "\n",
    "plt.figure(0)\n",
    "sns.heatmap(cor)\n",
    "\n",
    "plt.figure(1)\n",
    "plt.bar(X_train_indices, cor_target, width=.2, color='black', edgecolor='black')"
   ]
  },
  {
   "cell_type": "code",
   "execution_count": 34,
   "metadata": {},
   "outputs": [
    {
     "name": "stdout",
     "output_type": "stream",
     "text": [
      "Output data shape:  (30, 3)\n"
     ]
    }
   ],
   "source": [
    "df = pd.DataFrame(X_test)\n",
    "X_test_new = df[list(relevant_features.index)].values\n",
    "print('Output data shape: ', X_test_new.shape)"
   ]
  },
  {
   "cell_type": "markdown",
   "metadata": {},
   "source": [
    "### 1.2 ANOVA"
   ]
  },
  {
   "cell_type": "markdown",
   "metadata": {},
   "source": [
    "ANOVA stands for Analysis of variance. It is similar to LDA except for the fact that it is operated using one or more categorical independent features and one continuous dependent feature. It provides a statistical test of whether the means of several groups are equal or not."
   ]
  },
  {
   "cell_type": "code",
   "execution_count": 35,
   "metadata": {},
   "outputs": [
    {
     "name": "stdout",
     "output_type": "stream",
     "text": [
      "Input data shape:  (120, 24)\n",
      "Output data shape:  (120, 4)\n",
      "Selected features:  [0 1 2 3]\n",
      "Elapsed time: 0.00s\n"
     ]
    },
    {
     "data": {
      "text/plain": [
       "<BarContainer object of 24 artists>"
      ]
     },
     "execution_count": 35,
     "metadata": {},
     "output_type": "execute_result"
    },
    {
     "data": {
      "image/png": "[encoded data removed]",
      "text/plain": [
       "<Figure size 432x288 with 1 Axes>"
      ]
     },
     "metadata": {},
     "output_type": "display_data"
    }
   ],
   "source": [
    "from sklearn.feature_selection import SelectPercentile, SelectKBest, f_classif\n",
    "\n",
    "start = time()\n",
    "\n",
    "#selector = SelectPercentile(f_classif, percentile=20)\n",
    "selector = SelectKBest(f_classif, k=4)\n",
    "selector.fit(X_train, y_train)\n",
    "\n",
    "print('Input data shape: ', X_train.shape)\n",
    "\n",
    "X_train_new = selector.transform(X_train)\n",
    "\n",
    "print('Output data shape: ', X_train_new.shape)\n",
    "print('Selected features: ', selector.get_support(indices=True))\n",
    "print('Elapsed time: %.2fs' % (time() - start))\n",
    "\n",
    "scores = -np.log10(selector.pvalues_)\n",
    "scores /= scores.max()\n",
    "\n",
    "plt.bar(X_train_indices, scores, width=.2, color='black', edgecolor='black')\n",
    "\n",
    "# Anova needs contignous target so its results are not perfect in this case of iris"
   ]
  },
  {
   "cell_type": "code",
   "execution_count": 36,
   "metadata": {},
   "outputs": [
    {
     "name": "stdout",
     "output_type": "stream",
     "text": [
      "Output data shape:  (30, 4)\n"
     ]
    }
   ],
   "source": [
    "X_test_new = selector.transform(X_test)\n",
    "print('Output data shape: ', X_test_new.shape)"
   ]
  },
  {
   "cell_type": "markdown",
   "metadata": {},
   "source": [
    "### 1.3 Chi-Square"
   ]
  },
  {
   "cell_type": "markdown",
   "metadata": {},
   "source": [
    "Requirements:\n",
    "- Normalization: yes (MinMaxScaler – values should be bigger than 0)\n",
    "- Impute missing values: yes\n",
    "\n",
    "It is a statistical test applied to the groups of categorical features to evaluate the likelihood of correlation or association between them using their frequency distribution."
   ]
  },
  {
   "cell_type": "code",
   "execution_count": 85,
   "metadata": {},
   "outputs": [],
   "source": [
    "from sklearn.preprocessing import MinMaxScaler\n",
    "\n",
    "scaler = MinMaxScaler()\n",
    "X_train_new = scaler.fit_transform(X_train)"
   ]
  },
  {
   "cell_type": "code",
   "execution_count": 86,
   "metadata": {},
   "outputs": [
    {
     "name": "stdout",
     "output_type": "stream",
     "text": [
      "Input data shape:  (120, 24)\n",
      "Output data shape:  (120, 4)\n",
      "Selected features:  [0 1 2 3]\n",
      "Elapsed time: 0.00s\n"
     ]
    },
    {
     "data": {
      "text/plain": [
       "<BarContainer object of 24 artists>"
      ]
     },
     "execution_count": 86,
     "metadata": {},
     "output_type": "execute_result"
    },
    {
     "data": {
      "image/png": "[encoded data removed]",
      "text/plain": [
       "<Figure size 432x288 with 1 Axes>"
      ]
     },
     "metadata": {},
     "output_type": "display_data"
    }
   ],
   "source": [
    "from sklearn.feature_selection import SelectKBest, chi2\n",
    "\n",
    "start = time()\n",
    "\n",
    "selector = SelectKBest(chi2, k=4)\n",
    "selector.fit(X_train_new, y_train)\n",
    "\n",
    "print('Input data shape: ', X_train_new.shape)\n",
    "\n",
    "X_train_new = selector.transform(X_train_new)\n",
    "\n",
    "print('Output data shape: ', X_train_new.shape)\n",
    "print('Selected features: ', selector.get_support(indices=True))\n",
    "print('Elapsed time: %.2fs' % (time() - start))\n",
    "\n",
    "scores = -np.log10(selector.pvalues_)\n",
    "scores /= scores.max()\n",
    "\n",
    "plt.bar(X_train_indices, scores, width=.2, color='black', edgecolor='black')"
   ]
  },
  {
   "cell_type": "code",
   "execution_count": 87,
   "metadata": {},
   "outputs": [
    {
     "name": "stdout",
     "output_type": "stream",
     "text": [
      "Output data shape:  (30, 4)\n"
     ]
    }
   ],
   "source": [
    "X_test_new = scaler.transform(X_test)\n",
    "X_test_new = selector.transform(X_test_new)\n",
    "print('Output data shape: ', X_test_new.shape)"
   ]
  },
  {
   "cell_type": "markdown",
   "metadata": {},
   "source": [
    "### 1.4 Variance threshold"
   ]
  },
  {
   "cell_type": "markdown",
   "metadata": {},
   "source": [
    "This approach of feature selection removes all features whose variance does not meet some threshold. Generally, it removes all the zero-variance features which means all the features that have the same value in all samples."
   ]
  },
  {
   "cell_type": "code",
   "execution_count": 40,
   "metadata": {},
   "outputs": [
    {
     "name": "stdout",
     "output_type": "stream",
     "text": [
      "Input data shape:  (120, 24)\n",
      "Output data shape:  (120, 4)\n",
      "Selected features:  [0 1 2 3]\n",
      "Deleted features:  {4, 5, 6, 7, 8, 9, 10, 11, 12, 13, 14, 15, 16, 17, 18, 19, 20, 21, 22, 23}\n",
      "Elapsed time: 0.00s\n"
     ]
    }
   ],
   "source": [
    "from sklearn.feature_selection import VarianceThreshold\n",
    "\n",
    "start = time()\n",
    "\n",
    "selector = VarianceThreshold(threshold=(.8 * (1 - .8)))\n",
    "\n",
    "print('Input data shape: ', X_train.shape)\n",
    "\n",
    "X_train_new = selector.fit_transform(X_train)\n",
    "\n",
    "print('Output data shape: ', X_train_new.shape)\n",
    "print('Selected features: ', selector.get_support(indices=True))\n",
    "print('Deleted features: ', set(X_train_indices) - set(selector.get_support(indices=True)))\n",
    "print('Elapsed time: %.2fs' % (time() - start))"
   ]
  },
  {
   "cell_type": "code",
   "execution_count": 41,
   "metadata": {},
   "outputs": [
    {
     "name": "stdout",
     "output_type": "stream",
     "text": [
      "Output data shape:  (30, 4)\n"
     ]
    }
   ],
   "source": [
    "X_test_new = selector.transform(X_test)\n",
    "print('Output data shape: ', X_test_new.shape)"
   ]
  },
  {
   "cell_type": "markdown",
   "metadata": {},
   "source": [
    "### 1.5 Information gain (mutual information)"
   ]
  },
  {
   "cell_type": "markdown",
   "metadata": {},
   "source": [
    "Information gain or IG measures how much information a feature gives about the class. Thus, we can determine which attribute in a given set of training feature is the most meaningful for discriminating between the classes to be learned."
   ]
  },
  {
   "cell_type": "code",
   "execution_count": 42,
   "metadata": {},
   "outputs": [
    {
     "name": "stdout",
     "output_type": "stream",
     "text": [
      "Input data shape:  (120, 24)\n",
      "Output data shape:  (120, 4)\n",
      "Selected features:  [0 1 2 3]\n",
      "Elapsed time: 0.04s\n"
     ]
    },
    {
     "data": {
      "text/plain": [
       "<BarContainer object of 24 artists>"
      ]
     },
     "execution_count": 42,
     "metadata": {},
     "output_type": "execute_result"
    },
    {
     "data": {
      "image/png": "[encoded data removed]",
      "text/plain": [
       "<Figure size 432x288 with 1 Axes>"
      ]
     },
     "metadata": {},
     "output_type": "display_data"
    }
   ],
   "source": [
    "from sklearn.feature_selection import SelectKBest, mutual_info_classif\n",
    "\n",
    "start = time()\n",
    "\n",
    "selector = SelectKBest(mutual_info_classif, k=4)\n",
    "selector.fit(X_train, y_train)\n",
    "\n",
    "print('Input data shape: ', X_train.shape)\n",
    "\n",
    "X_train_new = selector.transform(X_train)\n",
    "\n",
    "print('Output data shape: ', X_train_new.shape)\n",
    "print('Selected features: ', selector.get_support(indices=True))\n",
    "print('Elapsed time: %.2fs' % (time() - start))\n",
    "\n",
    "scores = selector.scores_\n",
    "\n",
    "plt.bar(X_train_indices, scores, width=.2, color='black', edgecolor='black')"
   ]
  },
  {
   "cell_type": "code",
   "execution_count": 43,
   "metadata": {},
   "outputs": [
    {
     "name": "stdout",
     "output_type": "stream",
     "text": [
      "Output data shape:  (30, 4)\n"
     ]
    }
   ],
   "source": [
    "X_test_new = selector.transform(X_test)\n",
    "print('Output data shape: ', X_test_new.shape)"
   ]
  },
  {
   "cell_type": "markdown",
   "metadata": {},
   "source": [
    "## 2 Wrapper methods"
   ]
  },
  {
   "cell_type": "markdown",
   "metadata": {},
   "source": [
    "In wrapper methods, we try to use a subset of features and train a model using them. Based on the inferences that we draw from the previous model, we decide to add or remove features from your subset. The problem is essentially reduced to a search problem. These methods are usually computationally very expensive."
   ]
  },
  {
   "cell_type": "code",
   "execution_count": 44,
   "metadata": {},
   "outputs": [],
   "source": [
    "from sklearn.ensemble import RandomForestClassifier"
   ]
  },
  {
   "cell_type": "markdown",
   "metadata": {},
   "source": [
    "### 2.1 Genetic algorithms"
   ]
  },
  {
   "cell_type": "markdown",
   "metadata": {},
   "source": [
    "This algorithm is complex and will be covered in another notebook\n",
    "\n",
    "Genetic Algorithms might be very expensive in computational terms, since evaluation of each individual requires building a predictive model."
   ]
  },
  {
   "cell_type": "markdown",
   "metadata": {},
   "source": [
    "### 2.2 Forward selection"
   ]
  },
  {
   "cell_type": "markdown",
   "metadata": {},
   "source": [
    "The procedure starts with an empty set of features [reduced set]. The best of the original features is determined and added to the reduced set. At each subsequent iteration, the best of the remaining original attributes is added to the set.\n",
    "\n",
    "Very expensive method."
   ]
  },
  {
   "cell_type": "code",
   "execution_count": 45,
   "metadata": {},
   "outputs": [],
   "source": [
    "# from mlxtend.feature_selection import SequentialFeatureSelector as sfs\n",
    "\n",
    "# rfc = RandomForestClassifier(n_estimators=100, n_jobs=-1, class_weight='balanced')\n",
    "# selector = sfs(rfc,\n",
    "#            k_features=4,\n",
    "#            forward=True,\n",
    "#            verbose=2,\n",
    "#            scoring='accuracy',\n",
    "#            cv=2)\n",
    "# selector.fit(X_train, y_train)\n",
    "\n",
    "# print(X_train.shape)\n",
    "# X_train_new = selector.transform(X_train)\n",
    "# print(X_train_new.shape)\n",
    "\n",
    "# print(selector.k_feature_idx_)\n",
    "# print(selector.k_feature_names_)"
   ]
  },
  {
   "cell_type": "markdown",
   "metadata": {},
   "source": [
    "### 2.3 Backward selection"
   ]
  },
  {
   "cell_type": "markdown",
   "metadata": {},
   "source": [
    "The procedure starts with the full set of attributes. At each step, it removes the worst attribute remaining in the set.\n",
    "\n",
    "Very expensive method."
   ]
  },
  {
   "cell_type": "code",
   "execution_count": 46,
   "metadata": {},
   "outputs": [],
   "source": [
    "# Weak method\n",
    "\n",
    "# from mlxtend.feature_selection import SequentialFeatureSelector as sfs\n",
    "\n",
    "# rfc = RandomForestClassifier(n_estimators=100, n_jobs=-1, class_weight='balanced')\n",
    "# selector = sfs(rfc,\n",
    "#            k_features=4,\n",
    "#            forward=False,\n",
    "#            verbose=2,\n",
    "#            scoring='accuracy',\n",
    "#            cv=2)\n",
    "# selector.fit(X_train, y_train)\n",
    "\n",
    "# print(X_train.shape)\n",
    "# X_train_new = selector.transform(X_train)\n",
    "# print(X_train_new.shape)\n",
    "\n",
    "# print(selector.k_feature_idx_)\n",
    "# print(selector.k_feature_names_)"
   ]
  },
  {
   "cell_type": "markdown",
   "metadata": {},
   "source": [
    "### 2.4 Recursive feature elimination (RFE)"
   ]
  },
  {
   "cell_type": "markdown",
   "metadata": {},
   "source": [
    "Recursive feature elimination performs a greedy search to find the best performing feature subset. It iteratively creates models and determines the best or the worst performing feature at each iteration. It constructs the subsequent models with the left features until all the features are explored. It then ranks the features based on the order of their elimination. In the worst case, if a dataset contains N number of features RFE will do a greedy search for 2N combinations of features."
   ]
  },
  {
   "cell_type": "code",
   "execution_count": 75,
   "metadata": {},
   "outputs": [
    {
     "name": "stdout",
     "output_type": "stream",
     "text": [
      "Input data shape:  (120, 24)\n",
      "Output data shape:  (120, 4)\n",
      "Selected features:  [0 1 2 3]\n",
      "Features ranking:  [ 1  1  1  1 14 20 12  4 11 16  9  7 18 19  5 10 17  8 13 21  6  3  2 15]\n",
      "Elapsed time: 5.71s\n"
     ]
    }
   ],
   "source": [
    "# A:\n",
    "from sklearn.feature_selection import RFE\n",
    "\n",
    "start = time()\n",
    "\n",
    "rfc = RandomForestClassifier(n_estimators=100, n_jobs=-1, class_weight='balanced')\n",
    "rfe = RFE(estimator=rfc, n_features_to_select=4, step=1)\n",
    "rfe.fit(X_train, y_train)\n",
    "\n",
    "print('Input data shape: ', X_train.shape)\n",
    "\n",
    "X_train_new = rfe.transform(X_train)\n",
    "\n",
    "print('Output data shape: ', X_train_new.shape)\n",
    "print('Selected features: ', rfe.get_support(indices=True))\n",
    "print('Features ranking: ', rfe.ranking_)\n",
    "print('Elapsed time: %.2fs' % (time() - start))"
   ]
  },
  {
   "cell_type": "code",
   "execution_count": 76,
   "metadata": {},
   "outputs": [
    {
     "name": "stdout",
     "output_type": "stream",
     "text": [
      "Output data shape:  (30, 4)\n"
     ]
    }
   ],
   "source": [
    "X_test_new = rfe.transform(X_test)\n",
    "print('Output data shape: ', X_test_new.shape)"
   ]
  },
  {
   "cell_type": "code",
   "execution_count": 73,
   "metadata": {},
   "outputs": [
    {
     "name": "stdout",
     "output_type": "stream",
     "text": [
      "Input data shape:  (120, 24)\n",
      "Output data shape:  (120, 5)\n",
      "Optimal number of features : 5\n",
      "Selected features:  [ 0  1  2  3 22]\n",
      "Features ranking:  [ 1  1  1  1 13 18 17  8 11 14  9  5 20 16  4  3 19 10 15 12  7  2  1  6]\n",
      "Elapsed time: 95.57s\n"
     ]
    },
    {
     "data": {
      "image/png": "[encoded data removed]",
      "text/plain": [
       "<Figure size 432x288 with 1 Axes>"
      ]
     },
     "metadata": {},
     "output_type": "display_data"
    }
   ],
   "source": [
    "# B: Feature ranking with recursive feature elimination and cross-validated selection of the best number of features.\n",
    "\n",
    "from sklearn.feature_selection import RFECV\n",
    "from sklearn.model_selection import StratifiedKFold\n",
    "\n",
    "start = time()\n",
    "\n",
    "rfc = RandomForestClassifier(n_estimators=100, n_jobs=-1, class_weight='balanced')\n",
    "rfecv = RFECV(estimator=rfc, step=1, cv=StratifiedKFold(10), scoring='accuracy')\n",
    "rfecv.fit(X_train, y_train)\n",
    "\n",
    "print('Input data shape: ', X_train.shape)\n",
    "\n",
    "X_train_new = rfecv.transform(X_train)\n",
    "\n",
    "print('Output data shape: ', X_train_new.shape)\n",
    "print(\"Optimal number of features : %d\" % rfecv.n_features_)\n",
    "print('Selected features: ', rfecv.get_support(indices=True))\n",
    "print('Features ranking: ', rfecv.ranking_)\n",
    "print('Elapsed time: %.2fs' % (time() - start))\n",
    "\n",
    "plt.figure()\n",
    "plt.xlabel(\"Number of features selected\")\n",
    "plt.ylabel(\"Cross validation score (nb of correct classifications)\")\n",
    "plt.plot(range(1, len(rfecv.grid_scores_) + 1), rfecv.grid_scores_)\n",
    "plt.show()"
   ]
  },
  {
   "cell_type": "code",
   "execution_count": 74,
   "metadata": {},
   "outputs": [
    {
     "name": "stdout",
     "output_type": "stream",
     "text": [
      "Output data shape:  (30, 5)\n"
     ]
    }
   ],
   "source": [
    "X_test_new = rfecv.transform(X_test)\n",
    "print('Output data shape: ', X_test_new.shape)"
   ]
  },
  {
   "cell_type": "markdown",
   "metadata": {},
   "source": [
    "### 2.5 Boruta"
   ]
  },
  {
   "cell_type": "markdown",
   "metadata": {},
   "source": [
    "The Boruta algorithm is a wrapper built around the random forest classification algorithm.\n",
    "It works well for both classification and regression problem.\n"
   ]
  },
  {
   "cell_type": "code",
   "execution_count": 79,
   "metadata": {},
   "outputs": [
    {
     "name": "stdout",
     "output_type": "stream",
     "text": [
      "Input data shape:  (120, 24)\n",
      "Output data shape:  (120, 2)\n",
      "Optimal number of features : 2\n",
      "Selected features:  [2, 3]\n",
      "Features ranking:  [ 2  3  1  1 18 22 18 12  9  8 18 18 18  7 18 18 22 11 14 10  4  6  5 12]\n",
      "Elapsed time: 21.91s\n"
     ]
    }
   ],
   "source": [
    "from boruta import BorutaPy\n",
    "\n",
    "start = time()\n",
    "\n",
    "rfc = RandomForestClassifier(n_estimators=10, n_jobs=-1, class_weight='balanced')\n",
    "selector = BorutaPy(rfc, n_estimators=1, verbose=0)\n",
    "selector.fit(X_train, y_train)\n",
    "\n",
    "print('Input data shape: ', X_train.shape)\n",
    "\n",
    "X_train_new = selector.transform(X_train)\n",
    "\n",
    "print('Output data shape: ', X_train_new.shape)\n",
    "print(\"Optimal number of features : %d\" % selector.n_features_)\n",
    "print('Selected features: ', [i for i, s in enumerate(selector.support_) if s == True])\n",
    "print('Features ranking: ', selector.ranking_)\n",
    "print('Elapsed time: %.2fs' % (time() - start))"
   ]
  },
  {
   "cell_type": "code",
   "execution_count": 80,
   "metadata": {},
   "outputs": [
    {
     "name": "stdout",
     "output_type": "stream",
     "text": [
      "Output data shape:  (30, 2)\n"
     ]
    }
   ],
   "source": [
    "X_test_new = selector.transform(X_test)\n",
    "print('Output data shape: ', X_test_new.shape)"
   ]
  },
  {
   "cell_type": "markdown",
   "metadata": {},
   "source": [
    "## 3 Embedded methods"
   ]
  },
  {
   "cell_type": "markdown",
   "metadata": {},
   "source": [
    "Embedded methods combine the qualities of filter and wrapper methods. It’s implemented by algorithms that have their own built-in feature selection methods.\n",
    "\n",
    "Some of the most popular examples of these methods are LASSO and RIDGE regression which have inbuilt penalization functions to reduce overfitting.\n"
   ]
  },
  {
   "cell_type": "markdown",
   "metadata": {},
   "source": [
    "### 3.1 Lasso regression"
   ]
  },
  {
   "cell_type": "code",
   "execution_count": 53,
   "metadata": {},
   "outputs": [
    {
     "name": "stdout",
     "output_type": "stream",
     "text": [
      "Input data shape:  (120, 24)\n",
      "Output data shape:  (120, 4)\n",
      "Selected features:  [0 1 2 3]\n",
      "Elapsed time: 0.00s\n"
     ]
    },
    {
     "data": {
      "text/plain": [
       "<BarContainer object of 24 artists>"
      ]
     },
     "execution_count": 53,
     "metadata": {},
     "output_type": "execute_result"
    },
    {
     "data": {
      "image/png": "[encoded data removed]",
      "text/plain": [
       "<Figure size 432x288 with 1 Axes>"
      ]
     },
     "metadata": {},
     "output_type": "display_data"
    }
   ],
   "source": [
    "from sklearn.linear_model import Lasso\n",
    "from sklearn.feature_selection import SelectFromModel\n",
    "\n",
    "start = time()\n",
    "\n",
    "rfc = Lasso(alpha=0.01)\n",
    "rfc.fit(X_train, y_train)\n",
    "sfm = SelectFromModel(rfc, prefit=True)\n",
    "\n",
    "print('Input data shape: ', X_train.shape)\n",
    "\n",
    "X_train_new = sfm.transform(X_train)\n",
    "\n",
    "print('Output data shape: ', X_train_new.shape)\n",
    "print('Selected features: ', sfm.get_support(indices=True))\n",
    "print('Elapsed time: %.2fs' % (time() - start))\n",
    "\n",
    "scores = abs(rfc.coef_)\n",
    "\n",
    "plt.bar(X_train_indices, scores, width=.2, color='black', edgecolor='black')"
   ]
  },
  {
   "cell_type": "code",
   "execution_count": 54,
   "metadata": {},
   "outputs": [
    {
     "name": "stdout",
     "output_type": "stream",
     "text": [
      "Output data shape:  (30, 4)\n"
     ]
    }
   ],
   "source": [
    "X_test_new = sfm.transform(X_test)\n",
    "print('Output data shape: ', X_test_new.shape)"
   ]
  },
  {
   "cell_type": "markdown",
   "metadata": {},
   "source": [
    "### 3.2 Ridge regression"
   ]
  },
  {
   "cell_type": "code",
   "execution_count": 55,
   "metadata": {},
   "outputs": [
    {
     "name": "stdout",
     "output_type": "stream",
     "text": [
      "Input data shape:  (120, 24)\n",
      "Output data shape:  (120, 8)\n",
      "Selected features:  [ 0  2  3  9 17 20 21 22]\n",
      "Elapsed time: 0.00s\n"
     ]
    },
    {
     "data": {
      "text/plain": [
       "<BarContainer object of 24 artists>"
      ]
     },
     "execution_count": 55,
     "metadata": {},
     "output_type": "execute_result"
    },
    {
     "data": {
      "image/png": "[encoded data removed]",
      "text/plain": [
       "<Figure size 432x288 with 1 Axes>"
      ]
     },
     "metadata": {},
     "output_type": "display_data"
    }
   ],
   "source": [
    "from sklearn.linear_model import Ridge\n",
    "from sklearn.feature_selection import SelectFromModel\n",
    "\n",
    "start = time()\n",
    "\n",
    "rfc = Ridge(alpha=1)\n",
    "rfc.fit(X_train, y_train)\n",
    "sfm = SelectFromModel(rfc, prefit=True)\n",
    "\n",
    "print('Input data shape: ', X_train.shape)\n",
    "\n",
    "X_train_new = sfm.transform(X_train)\n",
    "\n",
    "print('Output data shape: ', X_train_new.shape)\n",
    "print('Selected features: ', sfm.get_support(indices=True))\n",
    "print('Elapsed time: %.2fs' % (time() - start))\n",
    "\n",
    "scores = abs(rfc.coef_)\n",
    "\n",
    "plt.bar(X_train_indices, scores, width=.2, color='black', edgecolor='black')"
   ]
  },
  {
   "cell_type": "code",
   "execution_count": 56,
   "metadata": {},
   "outputs": [
    {
     "name": "stdout",
     "output_type": "stream",
     "text": [
      "Output data shape:  (30, 8)\n"
     ]
    }
   ],
   "source": [
    "X_test_new = sfm.transform(X_test)\n",
    "print('Output data shape: ', X_test_new.shape)"
   ]
  },
  {
   "cell_type": "markdown",
   "metadata": {},
   "source": [
    "### 3.3 Logistic regression"
   ]
  },
  {
   "cell_type": "code",
   "execution_count": 57,
   "metadata": {},
   "outputs": [
    {
     "name": "stdout",
     "output_type": "stream",
     "text": [
      "Input data shape:  (120, 24)\n",
      "Output data shape:  (120, 4)\n",
      "Selected features:  [0 1 2 3]\n",
      "Elapsed time: 0.00s\n"
     ]
    },
    {
     "data": {
      "text/plain": [
       "<BarContainer object of 24 artists>"
      ]
     },
     "execution_count": 57,
     "metadata": {},
     "output_type": "execute_result"
    },
    {
     "data": {
      "image/png": "[encoded data removed]",
      "text/plain": [
       "<Figure size 432x288 with 1 Axes>"
      ]
     },
     "metadata": {},
     "output_type": "display_data"
    }
   ],
   "source": [
    "from sklearn.linear_model import LogisticRegression\n",
    "from sklearn.feature_selection import SelectFromModel\n",
    "\n",
    "start = time()\n",
    "\n",
    "rfc = LogisticRegression()\n",
    "rfc.fit(X_train, y_train)\n",
    "sfm = SelectFromModel(rfc, prefit=True)\n",
    "\n",
    "print('Input data shape: ', X_train.shape)\n",
    "\n",
    "X_train_new = sfm.transform(X_train)\n",
    "\n",
    "print('Output data shape: ', X_train_new.shape)\n",
    "print('Selected features: ', sfm.get_support(indices=True))\n",
    "print('Elapsed time: %.2fs' % (time() - start))\n",
    "\n",
    "scores = abs(rfc.coef_)\n",
    "scores = [(scores[0][i] + scores[1][i] + scores[2][i])/3 for i in range(len(scores[0]))]\n",
    "\n",
    "plt.bar(X_train_indices, scores, width=.2, color='black', edgecolor='black')"
   ]
  },
  {
   "cell_type": "code",
   "execution_count": 58,
   "metadata": {},
   "outputs": [
    {
     "name": "stdout",
     "output_type": "stream",
     "text": [
      "Output data shape:  (30, 4)\n"
     ]
    }
   ],
   "source": [
    "X_test_new = sfm.transform(X_test)\n",
    "print('Output data shape: ', X_test_new.shape)"
   ]
  },
  {
   "cell_type": "markdown",
   "metadata": {},
   "source": [
    "### 3.4 Elastic Net"
   ]
  },
  {
   "cell_type": "code",
   "execution_count": 59,
   "metadata": {},
   "outputs": [
    {
     "name": "stdout",
     "output_type": "stream",
     "text": [
      "Input data shape:  (120, 24)\n",
      "Output data shape:  (120, 3)\n",
      "Selected features:  [0 2 3]\n",
      "Elapsed time: 0.00s\n"
     ]
    },
    {
     "data": {
      "text/plain": [
       "<BarContainer object of 24 artists>"
      ]
     },
     "execution_count": 59,
     "metadata": {},
     "output_type": "execute_result"
    },
    {
     "data": {
      "image/png": "[encoded data removed]",
      "text/plain": [
       "<Figure size 432x288 with 1 Axes>"
      ]
     },
     "metadata": {},
     "output_type": "display_data"
    }
   ],
   "source": [
    "from sklearn.linear_model import ElasticNet\n",
    "from sklearn.feature_selection import SelectFromModel\n",
    "\n",
    "start = time()\n",
    "\n",
    "rfc = ElasticNet(alpha=0.01)\n",
    "rfc.fit(X_train, y_train)\n",
    "sfm = SelectFromModel(rfc, prefit=True)\n",
    "\n",
    "print('Input data shape: ', X_train.shape)\n",
    "\n",
    "X_train_new = sfm.transform(X_train)\n",
    "\n",
    "print('Output data shape: ', X_train_new.shape)\n",
    "print('Selected features: ', sfm.get_support(indices=True))\n",
    "print('Elapsed time: %.2fs' % (time() - start))\n",
    "\n",
    "scores = abs(rfc.coef_)\n",
    "\n",
    "plt.bar(X_train_indices, scores, width=.2, color='black', edgecolor='black')"
   ]
  },
  {
   "cell_type": "code",
   "execution_count": 60,
   "metadata": {},
   "outputs": [
    {
     "name": "stdout",
     "output_type": "stream",
     "text": [
      "Output data shape:  (30, 3)\n"
     ]
    }
   ],
   "source": [
    "X_test_new = sfm.transform(X_test)\n",
    "print('Output data shape: ', X_test_new.shape)"
   ]
  },
  {
   "cell_type": "markdown",
   "metadata": {},
   "source": [
    "### 3.5 Random Forest"
   ]
  },
  {
   "cell_type": "code",
   "execution_count": 61,
   "metadata": {},
   "outputs": [
    {
     "name": "stdout",
     "output_type": "stream",
     "text": [
      "Input data shape:  (120, 24)\n",
      "Output data shape:  (120, 5)\n",
      "Optimal number of features : 24\n",
      "Selected features:  [ 0  1  2  3 22]\n",
      "Elapsed time: 0.01s\n"
     ]
    },
    {
     "data": {
      "text/plain": [
       "<BarContainer object of 24 artists>"
      ]
     },
     "execution_count": 61,
     "metadata": {},
     "output_type": "execute_result"
    },
    {
     "data": {
      "image/png": "[encoded data removed]",
      "text/plain": [
       "<Figure size 432x288 with 1 Axes>"
      ]
     },
     "metadata": {},
     "output_type": "display_data"
    }
   ],
   "source": [
    "from sklearn.ensemble import RandomForestClassifier\n",
    "from sklearn.feature_selection import SelectFromModel\n",
    "\n",
    "start = time()\n",
    "\n",
    "rfc = RandomForestClassifier()\n",
    "rfc.fit(X_train, y_train)\n",
    "sfm = SelectFromModel(rfc, prefit=True)\n",
    "\n",
    "print('Input data shape: ', X_train.shape)\n",
    "\n",
    "X_train_new = sfm.transform(X_train)\n",
    "\n",
    "print('Output data shape: ', X_train_new.shape)\n",
    "print(\"Optimal number of features : %d\" % rfc.n_features_)\n",
    "print('Selected features: ', sfm.get_support(indices=True))\n",
    "print('Elapsed time: %.2fs' % (time() - start))\n",
    "\n",
    "scores = rfc.feature_importances_\n",
    "\n",
    "plt.bar(X_train_indices, scores, width=.2, color='black', edgecolor='black')"
   ]
  },
  {
   "cell_type": "code",
   "execution_count": 62,
   "metadata": {},
   "outputs": [
    {
     "name": "stdout",
     "output_type": "stream",
     "text": [
      "Output data shape:  (30, 5)\n"
     ]
    }
   ],
   "source": [
    "X_test_new = sfm.transform(X_test)\n",
    "print('Output data shape: ', X_test_new.shape)"
   ]
  },
  {
   "cell_type": "markdown",
   "metadata": {},
   "source": [
    "### 3.6 LightGBM"
   ]
  },
  {
   "cell_type": "code",
   "execution_count": 63,
   "metadata": {},
   "outputs": [
    {
     "name": "stdout",
     "output_type": "stream",
     "text": [
      "Input data shape:  (120, 24)\n",
      "Output data shape:  (120, 2)\n",
      "Optimal number of features : 24\n",
      "Selected features:  [2 3]\n",
      "Elapsed time: 0.03s\n"
     ]
    },
    {
     "data": {
      "text/plain": [
       "<BarContainer object of 24 artists>"
      ]
     },
     "execution_count": 63,
     "metadata": {},
     "output_type": "execute_result"
    },
    {
     "data": {
      "image/png": "[encoded data removed]",
      "text/plain": [
       "<Figure size 432x288 with 1 Axes>"
      ]
     },
     "metadata": {},
     "output_type": "display_data"
    }
   ],
   "source": [
    "from lightgbm import LGBMModel\n",
    "from sklearn.feature_selection import SelectFromModel\n",
    "\n",
    "start = time()\n",
    "\n",
    "rfc = LGBMModel(boosting_type='gbdt', objective='multiclass', num_class=3, importance_type='gain')\n",
    "rfc.fit(X_train, y_train)\n",
    "sfm = SelectFromModel(rfc, prefit=True)\n",
    "\n",
    "print('Input data shape: ', X_train.shape)\n",
    "\n",
    "X_train_new = sfm.transform(X_train)\n",
    "\n",
    "print('Output data shape: ', X_train_new.shape)\n",
    "print(\"Optimal number of features : %d\" % rfc.n_features_)\n",
    "print('Selected features: ', sfm.get_support(indices=True))\n",
    "print('Elapsed time: %.2fs' % (time() - start))\n",
    "\n",
    "scores = rfc.feature_importances_\n",
    "\n",
    "plt.bar(X_train_indices, scores, width=.2, color='black', edgecolor='black')"
   ]
  },
  {
   "cell_type": "code",
   "execution_count": 64,
   "metadata": {},
   "outputs": [
    {
     "name": "stdout",
     "output_type": "stream",
     "text": [
      "Output data shape:  (30, 2)\n"
     ]
    }
   ],
   "source": [
    "X_test_new = sfm.transform(X_test)\n",
    "print('Output data shape: ', X_test_new.shape)"
   ]
  },
  {
   "cell_type": "markdown",
   "metadata": {},
   "source": [
    "### 3.7 XGBoost"
   ]
  },
  {
   "cell_type": "code",
   "execution_count": 65,
   "metadata": {},
   "outputs": [
    {
     "name": "stdout",
     "output_type": "stream",
     "text": [
      "Input data shape:  (120, 24)\n",
      "Output data shape:  (120, 4)\n",
      "Selected features:  [ 2  3  8 20]\n",
      "Elapsed time: 0.47s\n"
     ]
    },
    {
     "data": {
      "text/plain": [
       "<BarContainer object of 24 artists>"
      ]
     },
     "execution_count": 65,
     "metadata": {},
     "output_type": "execute_result"
    },
    {
     "data": {
      "image/png": "[encoded data removed]",
      "text/plain": [
       "<Figure size 432x288 with 1 Axes>"
      ]
     },
     "metadata": {},
     "output_type": "display_data"
    }
   ],
   "source": [
    "from xgboost import XGBClassifier\n",
    "from sklearn.feature_selection import SelectFromModel\n",
    "\n",
    "start = time()\n",
    "\n",
    "rfc = XGBClassifier()\n",
    "rfc.fit(X_train, y_train)\n",
    "sfm = SelectFromModel(rfc, prefit=True)\n",
    "\n",
    "print('Input data shape: ', X_train.shape)\n",
    "\n",
    "X_train_new = sfm.transform(X_train)\n",
    "\n",
    "print('Output data shape: ', X_train_new.shape)\n",
    "print('Selected features: ', sfm.get_support(indices=True))\n",
    "print('Elapsed time: %.2fs' % (time() - start))\n",
    "\n",
    "scores = rfc.feature_importances_\n",
    "\n",
    "plt.bar(X_train_indices, scores, width=.2, color='black', edgecolor='black')"
   ]
  },
  {
   "cell_type": "code",
   "execution_count": 66,
   "metadata": {},
   "outputs": [
    {
     "name": "stdout",
     "output_type": "stream",
     "text": [
      "Output data shape:  (30, 4)\n"
     ]
    }
   ],
   "source": [
    "X_test_new = sfm.transform(X_test)\n",
    "print('Output data shape: ', X_test_new.shape)"
   ]
  },
  {
   "cell_type": "markdown",
   "metadata": {},
   "source": [
    "### 3.8 CatBoost"
   ]
  },
  {
   "cell_type": "code",
   "execution_count": 89,
   "metadata": {},
   "outputs": [
    {
     "name": "stdout",
     "output_type": "stream",
     "text": [
      "Input data shape:  (120, 24)\n",
      "Output data shape:  (120, 2)\n",
      "Selected features:  [2 3]\n",
      "Elapsed time: 33.53s\n"
     ]
    },
    {
     "data": {
      "text/plain": [
       "<BarContainer object of 24 artists>"
      ]
     },
     "execution_count": 89,
     "metadata": {},
     "output_type": "execute_result"
    },
    {
     "data": {
      "image/png": "[encoded data removed]",
      "text/plain": [
       "<Figure size 432x288 with 1 Axes>"
      ]
     },
     "metadata": {},
     "output_type": "display_data"
    }
   ],
   "source": [
    "from catboost import CatBoostClassifier\n",
    "from sklearn.feature_selection import SelectFromModel\n",
    "\n",
    "start = time()\n",
    "\n",
    "rfc = CatBoostClassifier()\n",
    "rfc.fit(X_train, y_train, verbose=0)\n",
    "sfm = SelectFromModel(rfc, prefit=True)\n",
    "\n",
    "print('Input data shape: ', X_train.shape)\n",
    "\n",
    "X_train_new = sfm.transform(X_train)\n",
    "\n",
    "print('Output data shape: ', X_train_new.shape)\n",
    "print('Selected features: ', sfm.get_support(indices=True))\n",
    "print('Elapsed time: %.2fs' % (time() - start))\n",
    "\n",
    "scores = rfc.feature_importances_\n",
    "\n",
    "plt.bar(X_train_indices, scores, width=.2, color='black', edgecolor='black')"
   ]
  },
  {
   "cell_type": "code",
   "execution_count": 90,
   "metadata": {},
   "outputs": [
    {
     "name": "stdout",
     "output_type": "stream",
     "text": [
      "Output data shape:  (30, 2)\n"
     ]
    }
   ],
   "source": [
    "X_test_new = sfm.transform(X_test)\n",
    "print('Output data shape: ', X_test_new.shape)"
   ]
  },
  {
   "cell_type": "markdown",
   "metadata": {},
   "source": [
    "## Testing"
   ]
  },
  {
   "cell_type": "markdown",
   "metadata": {},
   "source": [
    "### Original dataset:"
   ]
  },
  {
   "cell_type": "code",
   "execution_count": 82,
   "metadata": {},
   "outputs": [],
   "source": [
    "from sklearn.ensemble import RandomForestClassifier\n",
    "from sklearn.metrics import roc_auc_score, accuracy_score"
   ]
  },
  {
   "cell_type": "code",
   "execution_count": 83,
   "metadata": {},
   "outputs": [
    {
     "name": "stdout",
     "output_type": "stream",
     "text": [
      "Accuracy score:0.9666666666666667\n"
     ]
    }
   ],
   "source": [
    "rfc = RandomForestClassifier(n_estimators=1000, random_state=0, n_jobs=-1)\n",
    "\n",
    "rfc.fit(X_train, y_train)\n",
    "pred = rfc.predict(X_test)\n",
    "# pred = rfc.predict_proba(X_test)[:,1]\n",
    "\n",
    "print(\"Accuracy score:\" + str(accuracy_score(y_test, pred)))\n",
    "# print(\"AUC score:\" + str(roc_auc_score(y_test, pred)))"
   ]
  },
  {
   "cell_type": "markdown",
   "metadata": {},
   "source": [
    "### Modified dataset:"
   ]
  },
  {
   "cell_type": "markdown",
   "metadata": {},
   "source": [
    "Model presented below was trained on the data after Boruta feature selection. It selected only 2 features: 2 and 3. As we can see the result is the same as on the original data. It means that we can train our model much faster without loss of important information. Thanks to this we can faster search model parameters space."
   ]
  },
  {
   "cell_type": "code",
   "execution_count": 88,
   "metadata": {},
   "outputs": [
    {
     "name": "stdout",
     "output_type": "stream",
     "text": [
      "Accuracy score:0.9666666666666667\n"
     ]
    }
   ],
   "source": [
    "rfc = RandomForestClassifier(n_estimators=1000, random_state=0, n_jobs=-1)\n",
    "\n",
    "rfc.fit(X_train_new, y_train)\n",
    "pred = rfc.predict(X_test_new)\n",
    "# pred = rfc.predict_proba(X_test_new)[:,1]\n",
    "\n",
    "# print(\"AUC score:\" + str(roc_auc_score(y_test, pred)))\n",
    "print(\"Accuracy score:\" + str(accuracy_score(y_test, pred)))"
   ]
  },
  {
   "cell_type": "markdown",
   "metadata": {},
   "source": [
    "## References:\n"
   ]
  },
  {
   "cell_type": "code",
   "execution_count": 72,
   "metadata": {},
   "outputs": [],
   "source": [
    "# https://scikit-learn.org/stable/modules/feature_selection.html\n",
    "# https://scikit-learn.org/stable/modules/classes.html#module-sklearn.feature_selection"
   ]
  }
 ],
 "metadata": {
  "kernelspec": {
   "display_name": "Python 3",
   "language": "python",
   "name": "python3"
  },
  "language_info": {
   "codemirror_mode": {
    "name": "ipython",
    "version": 3
   },
   "file_extension": ".py",
   "mimetype": "text/x-python",
   "name": "python",
   "nbconvert_exporter": "python",
   "pygments_lexer": "ipython3",
   "version": "3.6.6"
  }
 },
 "nbformat": 4,
 "nbformat_minor": 2
}
