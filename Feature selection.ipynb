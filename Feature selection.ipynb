{
 "cells": [
  {
   "cell_type": "markdown",
   "metadata": {},
   "source": [
    "# Feature selection"
   ]
  },
  {
   "cell_type": "code",
   "execution_count": 2,
   "metadata": {},
   "outputs": [],
   "source": [
    "import numpy as np\n",
    "import matplotlib.pyplot as plt\n",
    "import pandas as pd\n",
    "import seaborn as sns\n",
    "sns.set()\n",
    "from time import time"
   ]
  },
  {
   "cell_type": "code",
   "execution_count": 3,
   "metadata": {},
   "outputs": [],
   "source": [
    "from sklearn import datasets\n",
    "\n",
    "# The iris dataset\n",
    "iris = datasets.load_iris()\n",
    "\n",
    "# Some noisy data not correlated\n",
    "E = np.random.uniform(0, 0.1, size=(len(iris.data), 20))\n",
    "\n",
    "# Add the noisy data to the informative features\n",
    "X = np.hstack((iris.data, E))\n",
    "y = iris.target"
   ]
  },
  {
   "cell_type": "code",
   "execution_count": 4,
   "metadata": {},
   "outputs": [],
   "source": [
    "from sklearn.model_selection import train_test_split\n",
    "\n",
    "X_train, X_test, y_train, y_test = train_test_split(X, y, test_size=0.2)"
   ]
  },
  {
   "cell_type": "code",
   "execution_count": 5,
   "metadata": {},
   "outputs": [],
   "source": [
    "X_train_indices = np.arange(X_train.shape[-1])"
   ]
  },
  {
   "cell_type": "markdown",
   "metadata": {},
   "source": [
    "## 1 Filter methods\n",
    "### 1.1 Pearson’s correlation"
   ]
  },
  {
   "cell_type": "code",
   "execution_count": 5,
   "metadata": {},
   "outputs": [
    {
     "name": "stdout",
     "output_type": "stream",
     "text": [
      "Input data shape:  (120, 24)\n",
      "Output data shape:  (120, 3)\n",
      "Selected features:  [0, 2, 3]\n",
      "Elapsed time: 0.00s\n"
     ]
    },
    {
     "data": {
      "text/plain": [
       "<BarContainer object of 24 artists>"
      ]
     },
     "execution_count": 5,
     "metadata": {},
     "output_type": "execute_result"
    },
    {
     "data": {
      "image/png": "[encoded data removed]",
      "text/plain": [
       "<Figure size 432x288 with 2 Axes>"
      ]
     },
     "metadata": {
      "needs_background": "light"
     },
     "output_type": "display_data"
    },
    {
     "data": {
      "image/png": "[encoded data removed]",
      "text/plain": [
       "<Figure size 432x288 with 1 Axes>"
      ]
     },
     "metadata": {
      "needs_background": "light"
     },
     "output_type": "display_data"
    }
   ],
   "source": [
    "start = time()\n",
    "\n",
    "df = pd.DataFrame(X_train)\n",
    "df['target'] = y_train\n",
    "\n",
    "cor = df.corr()\n",
    "cor_target = abs(cor['target'][:-1])\n",
    "\n",
    "print('Input data shape: ', X_train.shape)\n",
    "\n",
    "relevant_features = cor_target[cor_target>0.5]\n",
    "X_train_new = df[list(relevant_features.index)].values\n",
    "\n",
    "print('Output data shape: ', X_train_new.shape)\n",
    "print('Selected features: ', list(relevant_features.index))\n",
    "print('Elapsed time: %.2fs' % (time() - start))\n",
    "\n",
    "plt.figure(0)\n",
    "sns.heatmap(cor)\n",
    "\n",
    "plt.figure(1)\n",
    "plt.bar(X_train_indices, cor_target, width=.2, color='black', edgecolor='black')"
   ]
  },
  {
   "cell_type": "code",
   "execution_count": 6,
   "metadata": {},
   "outputs": [
    {
     "name": "stdout",
     "output_type": "stream",
     "text": [
      "Output data shape:  (30, 3)\n"
     ]
    }
   ],
   "source": [
    "df = pd.DataFrame(X_test)\n",
    "X_test_new = df[list(relevant_features.index)].values\n",
    "print('Output data shape: ', X_test_new.shape)"
   ]
  },
  {
   "cell_type": "markdown",
   "metadata": {},
   "source": [
    "### 1.2 LDA"
   ]
  },
  {
   "cell_type": "code",
   "execution_count": 7,
   "metadata": {},
   "outputs": [
    {
     "name": "stdout",
     "output_type": "stream",
     "text": [
      "Input data shape:  (120, 24)\n",
      "Output data shape:  (120, 2)\n",
      "Elapsed time: 0.01s\n"
     ]
    }
   ],
   "source": [
    "from sklearn.discriminant_analysis import LinearDiscriminantAnalysis as LDA\n",
    "\n",
    "start = time()\n",
    "\n",
    "lda = LDA(n_components=None)\n",
    "\n",
    "print('Input data shape: ', X_train.shape)\n",
    "\n",
    "X_train_new = lda.fit_transform(X_train, y_train)\n",
    "\n",
    "print('Output data shape: ', X_train_new.shape)\n",
    "print('Elapsed time: %.2fs' % (time() - start))"
   ]
  },
  {
   "cell_type": "code",
   "execution_count": 8,
   "metadata": {},
   "outputs": [
    {
     "name": "stdout",
     "output_type": "stream",
     "text": [
      "Output data shape:  (30, 2)\n"
     ]
    }
   ],
   "source": [
    "X_test_new = lda.transform(X_test)\n",
    "print('Output data shape: ', X_test_new.shape)"
   ]
  },
  {
   "cell_type": "markdown",
   "metadata": {},
   "source": [
    "### 1.3 ANOVA"
   ]
  },
  {
   "cell_type": "code",
   "execution_count": 9,
   "metadata": {},
   "outputs": [
    {
     "name": "stdout",
     "output_type": "stream",
     "text": [
      "Input data shape:  (120, 24)\n",
      "Output data shape:  (120, 4)\n",
      "Selected features:  [0 1 2 3]\n",
      "Elapsed time: 0.00s\n"
     ]
    },
    {
     "data": {
      "text/plain": [
       "<BarContainer object of 24 artists>"
      ]
     },
     "execution_count": 9,
     "metadata": {},
     "output_type": "execute_result"
    },
    {
     "data": {
      "image/png": "[encoded data removed]",
      "text/plain": [
       "<Figure size 432x288 with 1 Axes>"
      ]
     },
     "metadata": {
      "needs_background": "light"
     },
     "output_type": "display_data"
    }
   ],
   "source": [
    "from sklearn.feature_selection import SelectPercentile, SelectKBest, f_classif\n",
    "\n",
    "start = time()\n",
    "\n",
    "#selector = SelectPercentile(f_classif, percentile=20)\n",
    "selector = SelectKBest(f_classif, k=4)\n",
    "selector.fit(X_train, y_train)\n",
    "\n",
    "print('Input data shape: ', X_train.shape)\n",
    "\n",
    "X_train_new = selector.transform(X_train)\n",
    "\n",
    "print('Output data shape: ', X_train_new.shape)\n",
    "print('Selected features: ', selector.get_support(indices=True))\n",
    "print('Elapsed time: %.2fs' % (time() - start))\n",
    "\n",
    "scores = -np.log10(selector.pvalues_)\n",
    "scores /= scores.max()\n",
    "\n",
    "plt.bar(X_train_indices, scores, width=.2, color='black', edgecolor='black')\n",
    "\n",
    "# Anova needs contignous target so its results are not perfect in this case of iris"
   ]
  },
  {
   "cell_type": "code",
   "execution_count": 10,
   "metadata": {},
   "outputs": [
    {
     "name": "stdout",
     "output_type": "stream",
     "text": [
      "Output data shape:  (30, 4)\n"
     ]
    }
   ],
   "source": [
    "X_test_new = selector.transform(X_test)\n",
    "print('Output data shape: ', X_test_new.shape)"
   ]
  },
  {
   "cell_type": "markdown",
   "metadata": {},
   "source": [
    "### 1.4 Chi-Square"
   ]
  },
  {
   "cell_type": "code",
   "execution_count": 11,
   "metadata": {},
   "outputs": [],
   "source": [
    "from sklearn.preprocessing import MinMaxScaler\n",
    "\n",
    "scaler = MinMaxScaler()\n",
    "X_train_new = scaler.fit_transform(X_train)"
   ]
  },
  {
   "cell_type": "code",
   "execution_count": 12,
   "metadata": {},
   "outputs": [
    {
     "name": "stdout",
     "output_type": "stream",
     "text": [
      "Input data shape:  (120, 24)\n",
      "Output data shape:  (120, 4)\n",
      "Selected features:  [0 1 2 3]\n",
      "Elapsed time: 0.00s\n"
     ]
    },
    {
     "data": {
      "text/plain": [
       "<BarContainer object of 24 artists>"
      ]
     },
     "execution_count": 12,
     "metadata": {},
     "output_type": "execute_result"
    },
    {
     "data": {
      "image/png": "[encoded data removed]",
      "text/plain": [
       "<Figure size 432x288 with 1 Axes>"
      ]
     },
     "metadata": {
      "needs_background": "light"
     },
     "output_type": "display_data"
    }
   ],
   "source": [
    "from sklearn.feature_selection import SelectKBest, chi2\n",
    "\n",
    "start = time()\n",
    "\n",
    "selector = SelectKBest(chi2, k=4)\n",
    "selector.fit(X_train_new, y_train)\n",
    "\n",
    "print('Input data shape: ', X_train_new.shape)\n",
    "\n",
    "X_train_new = selector.transform(X_train_new)\n",
    "\n",
    "print('Output data shape: ', X_train_new.shape)\n",
    "print('Selected features: ', selector.get_support(indices=True))\n",
    "print('Elapsed time: %.2fs' % (time() - start))\n",
    "\n",
    "scores = -np.log10(selector.pvalues_)\n",
    "scores /= scores.max()\n",
    "\n",
    "plt.bar(X_train_indices, scores, width=.2, color='black', edgecolor='black')"
   ]
  },
  {
   "cell_type": "code",
   "execution_count": 13,
   "metadata": {},
   "outputs": [
    {
     "name": "stdout",
     "output_type": "stream",
     "text": [
      "Output data shape:  (30, 4)\n"
     ]
    }
   ],
   "source": [
    "X_test_new = scaler.transform(X_test)\n",
    "X_test_new = selector.transform(X_test_new)\n",
    "print('Output data shape: ', X_test_new.shape)"
   ]
  },
  {
   "cell_type": "markdown",
   "metadata": {},
   "source": [
    "### 1.5 Variance threshold"
   ]
  },
  {
   "cell_type": "code",
   "execution_count": 14,
   "metadata": {},
   "outputs": [
    {
     "name": "stdout",
     "output_type": "stream",
     "text": [
      "Input data shape:  (120, 24)\n",
      "Output data shape:  (120, 4)\n",
      "Selected features:  [0 1 2 3]\n",
      "Deleted features:  {4, 5, 6, 7, 8, 9, 10, 11, 12, 13, 14, 15, 16, 17, 18, 19, 20, 21, 22, 23}\n",
      "Elapsed time: 0.00s\n"
     ]
    }
   ],
   "source": [
    "from sklearn.feature_selection import VarianceThreshold\n",
    "\n",
    "start = time()\n",
    "\n",
    "selector = VarianceThreshold(threshold=(.8 * (1 - .8)))\n",
    "\n",
    "print('Input data shape: ', X_train.shape)\n",
    "\n",
    "X_train_new = selector.fit_transform(X_train)\n",
    "\n",
    "print('Output data shape: ', X_train_new.shape)\n",
    "print('Selected features: ', selector.get_support(indices=True))\n",
    "print('Deleted features: ', set(X_train_indices) - set(selector.get_support(indices=True)))\n",
    "print('Elapsed time: %.2fs' % (time() - start))"
   ]
  },
  {
   "cell_type": "code",
   "execution_count": 15,
   "metadata": {},
   "outputs": [
    {
     "name": "stdout",
     "output_type": "stream",
     "text": [
      "Output data shape:  (30, 4)\n"
     ]
    }
   ],
   "source": [
    "X_test_new = selector.transform(X_test)\n",
    "print('Output data shape: ', X_test_new.shape)"
   ]
  },
  {
   "cell_type": "markdown",
   "metadata": {},
   "source": [
    "### 1.6 Information gain (mutual information)"
   ]
  },
  {
   "cell_type": "code",
   "execution_count": 16,
   "metadata": {},
   "outputs": [
    {
     "name": "stdout",
     "output_type": "stream",
     "text": [
      "Input data shape:  (120, 24)\n",
      "Output data shape:  (120, 4)\n",
      "Selected features:  [0 1 2 3]\n",
      "Elapsed time: 0.04s\n"
     ]
    },
    {
     "data": {
      "text/plain": [
       "<BarContainer object of 24 artists>"
      ]
     },
     "execution_count": 16,
     "metadata": {},
     "output_type": "execute_result"
    },
    {
     "data": {
      "image/png": "[encoded data removed]",
      "text/plain": [
       "<Figure size 432x288 with 1 Axes>"
      ]
     },
     "metadata": {
      "needs_background": "light"
     },
     "output_type": "display_data"
    }
   ],
   "source": [
    "from sklearn.feature_selection import SelectKBest, mutual_info_classif\n",
    "\n",
    "start = time()\n",
    "\n",
    "selector = SelectKBest(mutual_info_classif, k=4)\n",
    "selector.fit(X_train, y_train)\n",
    "\n",
    "print('Input data shape: ', X_train.shape)\n",
    "\n",
    "X_train_new = selector.transform(X_train)\n",
    "\n",
    "print('Output data shape: ', X_train_new.shape)\n",
    "print('Selected features: ', selector.get_support(indices=True))\n",
    "print('Elapsed time: %.2fs' % (time() - start))\n",
    "\n",
    "scores = selector.scores_\n",
    "\n",
    "plt.bar(X_train_indices, scores, width=.2, color='black', edgecolor='black')"
   ]
  },
  {
   "cell_type": "code",
   "execution_count": 17,
   "metadata": {},
   "outputs": [
    {
     "name": "stdout",
     "output_type": "stream",
     "text": [
      "Output data shape:  (30, 4)\n"
     ]
    }
   ],
   "source": [
    "X_test_new = selector.transform(X_test)\n",
    "print('Output data shape: ', X_test_new.shape)"
   ]
  },
  {
   "cell_type": "markdown",
   "metadata": {},
   "source": [
    "## 2 Wrapper methods"
   ]
  },
  {
   "cell_type": "code",
   "execution_count": 8,
   "metadata": {},
   "outputs": [
    {
     "name": "stderr",
     "output_type": "stream",
     "text": [
      "C:\\Users\\Piotr\\Anaconda3\\envs\\kaggle\\lib\\site-packages\\sklearn\\ensemble\\weight_boosting.py:29: DeprecationWarning: numpy.core.umath_tests is an internal NumPy module and should not be imported. It will be removed in a future NumPy release.\n",
      "  from numpy.core.umath_tests import inner1d\n"
     ]
    }
   ],
   "source": [
    "from sklearn.ensemble import RandomForestClassifier"
   ]
  },
  {
   "cell_type": "markdown",
   "metadata": {},
   "source": [
    "### 2.1 Recursive feature elimination (RFE)"
   ]
  },
  {
   "cell_type": "code",
   "execution_count": 19,
   "metadata": {},
   "outputs": [
    {
     "name": "stdout",
     "output_type": "stream",
     "text": [
      "Input data shape:  (120, 24)\n",
      "Output data shape:  (120, 24)\n",
      "Selected features:  [ 0  1  2  3  4  5  6  7  8  9 10 11 12 13 14 15 16 17 18 19 20 21 22 23]\n",
      "Features ranking:  [1 1 1 1 1 1 1 1 1 1 1 1 1 1 1 1 1 1 1 1 1 1 1 1]\n",
      "Elapsed time: 0.12s\n"
     ]
    }
   ],
   "source": [
    "# A:\n",
    "from sklearn.feature_selection import RFE\n",
    "\n",
    "start = time()\n",
    "\n",
    "rfc = RandomForestClassifier(n_estimators=10, n_jobs=-1, class_weight='balanced')\n",
    "rfe = RFE(estimator=rfc, n_features_to_select=81, step=1)\n",
    "rfe.fit(X_train, y_train)\n",
    "\n",
    "print('Input data shape: ', X_train.shape)\n",
    "\n",
    "X_train_new = rfe.transform(X_train)\n",
    "\n",
    "print('Output data shape: ', X_train_new.shape)\n",
    "print('Selected features: ', rfe.get_support(indices=True))\n",
    "print('Features ranking: ', rfe.ranking_)\n",
    "print('Elapsed time: %.2fs' % (time() - start))"
   ]
  },
  {
   "cell_type": "code",
   "execution_count": 20,
   "metadata": {},
   "outputs": [
    {
     "name": "stdout",
     "output_type": "stream",
     "text": [
      "Output data shape:  (30, 24)\n"
     ]
    }
   ],
   "source": [
    "X_test_new = rfe.transform(X_test)\n",
    "print('Output data shape: ', X_test_new.shape)"
   ]
  },
  {
   "cell_type": "code",
   "execution_count": 21,
   "metadata": {},
   "outputs": [
    {
     "name": "stdout",
     "output_type": "stream",
     "text": [
      "Input data shape:  (120, 24)\n",
      "Output data shape:  (120, 2)\n",
      "Optimal number of features : 2\n",
      "Selected features:  [2 3]\n",
      "Features ranking:  [ 2  3  1  1 11 14 17 22 12 20 16 15  8  7 18  9 21 13 19 10  5  6  4 23]\n",
      "Elapsed time: 83.36s\n"
     ]
    },
    {
     "data": {
      "image/png": "[encoded data removed]",
      "text/plain": [
       "<Figure size 432x288 with 1 Axes>"
      ]
     },
     "metadata": {
      "needs_background": "light"
     },
     "output_type": "display_data"
    }
   ],
   "source": [
    "# B: Feature ranking with recursive feature elimination and cross-validated selection of the best number of features.\n",
    "\n",
    "from sklearn.feature_selection import RFECV\n",
    "from sklearn.model_selection import StratifiedKFold\n",
    "\n",
    "start = time()\n",
    "\n",
    "rfc = RandomForestClassifier(n_estimators=10, n_jobs=-1, class_weight='balanced')\n",
    "rfecv = RFECV(estimator=rfc, step=1, cv=StratifiedKFold(10), scoring='accuracy')\n",
    "rfecv.fit(X_train, y_train)\n",
    "\n",
    "print('Input data shape: ', X_train.shape)\n",
    "\n",
    "X_train_new = rfecv.transform(X_train)\n",
    "\n",
    "print('Output data shape: ', X_train_new.shape)\n",
    "print(\"Optimal number of features : %d\" % rfecv.n_features_)\n",
    "print('Selected features: ', rfecv.get_support(indices=True))\n",
    "print('Features ranking: ', rfecv.ranking_)\n",
    "print('Elapsed time: %.2fs' % (time() - start))\n",
    "\n",
    "plt.figure()\n",
    "plt.xlabel(\"Number of features selected\")\n",
    "plt.ylabel(\"Cross validation score (nb of correct classifications)\")\n",
    "plt.plot(range(1, len(rfecv.grid_scores_) + 1), rfecv.grid_scores_)\n",
    "plt.show()"
   ]
  },
  {
   "cell_type": "code",
   "execution_count": 22,
   "metadata": {},
   "outputs": [
    {
     "name": "stdout",
     "output_type": "stream",
     "text": [
      "Output data shape:  (30, 2)\n"
     ]
    }
   ],
   "source": [
    "X_test_new = rfecv.transform(X_test)\n",
    "print('Output data shape: ', X_test_new.shape)"
   ]
  },
  {
   "cell_type": "markdown",
   "metadata": {},
   "source": [
    "### 2.2 Boruta"
   ]
  },
  {
   "cell_type": "code",
   "execution_count": 9,
   "metadata": {},
   "outputs": [
    {
     "name": "stdout",
     "output_type": "stream",
     "text": [
      "Input data shape:  (120, 24)\n",
      "Output data shape:  (120, 2)\n",
      "Optimal number of features : 2\n",
      "Selected features:  [2, 3]\n",
      "Features ranking:  [ 2  4  1  1 14 14 14 14  6 21 14  7 21  8 10 21  3  5 14 14  8 21 14 21]\n",
      "Elapsed time: 21.55s\n"
     ]
    }
   ],
   "source": [
    "from boruta import BorutaPy\n",
    "\n",
    "start = time()\n",
    "\n",
    "rfc = RandomForestClassifier(n_estimators=1, n_jobs=-1, class_weight='balanced')\n",
    "selector = BorutaPy(rfc, n_estimators=1)\n",
    "selector.fit(X_train, y_train)\n",
    "\n",
    "print('Input data shape: ', X_train.shape)\n",
    "\n",
    "X_train_new = selector.transform(X_train)\n",
    "\n",
    "print('Output data shape: ', X_train_new.shape)\n",
    "print(\"Optimal number of features : %d\" % selector.n_features_)\n",
    "print('Selected features: ', [i for i, s in enumerate(selector.support_) if s == True])\n",
    "print('Features ranking: ', selector.ranking_)\n",
    "print('Elapsed time: %.2fs' % (time() - start))"
   ]
  },
  {
   "cell_type": "code",
   "execution_count": 24,
   "metadata": {},
   "outputs": [
    {
     "name": "stdout",
     "output_type": "stream",
     "text": [
      "Output data shape:  (30, 2)\n"
     ]
    }
   ],
   "source": [
    "X_test_new = selector.transform(X_test)\n",
    "print('Output data shape: ', X_test_new.shape)"
   ]
  },
  {
   "cell_type": "markdown",
   "metadata": {},
   "source": [
    "## 3 Embedded methods\n",
    "### 3.1 Lasso regression"
   ]
  },
  {
   "cell_type": "code",
   "execution_count": 25,
   "metadata": {},
   "outputs": [
    {
     "name": "stdout",
     "output_type": "stream",
     "text": [
      "Input data shape:  (120, 24)\n",
      "Output data shape:  (120, 4)\n",
      "Selected features:  [0 1 2 3]\n",
      "Elapsed time: 0.00s\n"
     ]
    },
    {
     "data": {
      "text/plain": [
       "<BarContainer object of 24 artists>"
      ]
     },
     "execution_count": 25,
     "metadata": {},
     "output_type": "execute_result"
    },
    {
     "data": {
      "image/png": "[encoded data removed]",
      "text/plain": [
       "<Figure size 432x288 with 1 Axes>"
      ]
     },
     "metadata": {
      "needs_background": "light"
     },
     "output_type": "display_data"
    }
   ],
   "source": [
    "from sklearn.linear_model import Lasso\n",
    "from sklearn.feature_selection import SelectFromModel\n",
    "\n",
    "start = time()\n",
    "\n",
    "rfc = Lasso(alpha=0.01)\n",
    "rfc.fit(X_train, y_train)\n",
    "sfm = SelectFromModel(rfc, prefit=True)\n",
    "\n",
    "print('Input data shape: ', X_train.shape)\n",
    "\n",
    "X_train_new = sfm.transform(X_train)\n",
    "\n",
    "print('Output data shape: ', X_train_new.shape)\n",
    "print('Selected features: ', sfm.get_support(indices=True))\n",
    "print('Elapsed time: %.2fs' % (time() - start))\n",
    "\n",
    "scores = abs(rfc.coef_)\n",
    "\n",
    "plt.bar(X_train_indices, scores, width=.2, color='black', edgecolor='black')"
   ]
  },
  {
   "cell_type": "code",
   "execution_count": 26,
   "metadata": {},
   "outputs": [
    {
     "name": "stdout",
     "output_type": "stream",
     "text": [
      "Output data shape:  (30, 4)\n"
     ]
    }
   ],
   "source": [
    "X_test_new = sfm.transform(X_test)\n",
    "print('Output data shape: ', X_test_new.shape)"
   ]
  },
  {
   "cell_type": "markdown",
   "metadata": {},
   "source": [
    "### 3.2 Ridge regression"
   ]
  },
  {
   "cell_type": "code",
   "execution_count": 27,
   "metadata": {},
   "outputs": [
    {
     "name": "stdout",
     "output_type": "stream",
     "text": [
      "Input data shape:  (120, 24)\n",
      "Output data shape:  (120, 5)\n",
      "Selected features:  [ 0  2  3 12 17]\n",
      "Elapsed time: 0.00s\n"
     ]
    },
    {
     "data": {
      "text/plain": [
       "<BarContainer object of 24 artists>"
      ]
     },
     "execution_count": 27,
     "metadata": {},
     "output_type": "execute_result"
    },
    {
     "data": {
      "image/png": "[encoded data removed]",
      "text/plain": [
       "<Figure size 432x288 with 1 Axes>"
      ]
     },
     "metadata": {
      "needs_background": "light"
     },
     "output_type": "display_data"
    }
   ],
   "source": [
    "from sklearn.linear_model import Ridge\n",
    "from sklearn.feature_selection import SelectFromModel\n",
    "\n",
    "start = time()\n",
    "\n",
    "rfc = Ridge(alpha=1)\n",
    "rfc.fit(X_train, y_train)\n",
    "sfm = SelectFromModel(rfc, prefit=True)\n",
    "\n",
    "print('Input data shape: ', X_train.shape)\n",
    "\n",
    "X_train_new = sfm.transform(X_train)\n",
    "\n",
    "print('Output data shape: ', X_train_new.shape)\n",
    "print('Selected features: ', sfm.get_support(indices=True))\n",
    "print('Elapsed time: %.2fs' % (time() - start))\n",
    "\n",
    "scores = abs(rfc.coef_)\n",
    "\n",
    "plt.bar(X_train_indices, scores, width=.2, color='black', edgecolor='black')"
   ]
  },
  {
   "cell_type": "code",
   "execution_count": 28,
   "metadata": {},
   "outputs": [
    {
     "name": "stdout",
     "output_type": "stream",
     "text": [
      "Output data shape:  (30, 5)\n"
     ]
    }
   ],
   "source": [
    "X_test_new = sfm.transform(X_test)\n",
    "print('Output data shape: ', X_test_new.shape)"
   ]
  },
  {
   "cell_type": "markdown",
   "metadata": {},
   "source": [
    "### 3.3 Logistic regression"
   ]
  },
  {
   "cell_type": "code",
   "execution_count": 29,
   "metadata": {},
   "outputs": [
    {
     "name": "stdout",
     "output_type": "stream",
     "text": [
      "Input data shape:  (120, 24)\n",
      "Output data shape:  (120, 4)\n",
      "Selected features:  [0 1 2 3]\n",
      "Elapsed time: 0.00s\n"
     ]
    },
    {
     "data": {
      "text/plain": [
       "<BarContainer object of 24 artists>"
      ]
     },
     "execution_count": 29,
     "metadata": {},
     "output_type": "execute_result"
    },
    {
     "data": {
      "image/png": "[encoded data removed]",
      "text/plain": [
       "<Figure size 432x288 with 1 Axes>"
      ]
     },
     "metadata": {
      "needs_background": "light"
     },
     "output_type": "display_data"
    }
   ],
   "source": [
    "from sklearn.linear_model import LogisticRegression\n",
    "from sklearn.feature_selection import SelectFromModel\n",
    "\n",
    "start = time()\n",
    "\n",
    "rfc = LogisticRegression()\n",
    "rfc.fit(X_train, y_train)\n",
    "sfm = SelectFromModel(rfc, prefit=True)\n",
    "\n",
    "print('Input data shape: ', X_train.shape)\n",
    "\n",
    "X_train_new = sfm.transform(X_train)\n",
    "\n",
    "print('Output data shape: ', X_train_new.shape)\n",
    "print('Selected features: ', sfm.get_support(indices=True))\n",
    "print('Elapsed time: %.2fs' % (time() - start))\n",
    "\n",
    "scores = abs(rfc.coef_)\n",
    "scores = [(scores[0][i] + scores[1][i] + scores[2][i])/3 for i in range(len(scores[0]))]\n",
    "\n",
    "plt.bar(X_train_indices, scores, width=.2, color='black', edgecolor='black')"
   ]
  },
  {
   "cell_type": "code",
   "execution_count": 30,
   "metadata": {},
   "outputs": [
    {
     "name": "stdout",
     "output_type": "stream",
     "text": [
      "Output data shape:  (30, 4)\n"
     ]
    }
   ],
   "source": [
    "X_test_new = sfm.transform(X_test)\n",
    "print('Output data shape: ', X_test_new.shape)"
   ]
  },
  {
   "cell_type": "markdown",
   "metadata": {},
   "source": [
    "### 3.4 Elastic Net"
   ]
  },
  {
   "cell_type": "code",
   "execution_count": 31,
   "metadata": {},
   "outputs": [
    {
     "name": "stdout",
     "output_type": "stream",
     "text": [
      "Input data shape:  (120, 24)\n",
      "Output data shape:  (120, 3)\n",
      "Selected features:  [0 2 3]\n",
      "Elapsed time: 0.00s\n"
     ]
    },
    {
     "data": {
      "text/plain": [
       "<BarContainer object of 24 artists>"
      ]
     },
     "execution_count": 31,
     "metadata": {},
     "output_type": "execute_result"
    },
    {
     "data": {
      "image/png": "[encoded data removed]",
      "text/plain": [
       "<Figure size 432x288 with 1 Axes>"
      ]
     },
     "metadata": {
      "needs_background": "light"
     },
     "output_type": "display_data"
    }
   ],
   "source": [
    "from sklearn.linear_model import ElasticNet\n",
    "from sklearn.feature_selection import SelectFromModel\n",
    "\n",
    "start = time()\n",
    "\n",
    "rfc = ElasticNet(alpha=0.01)\n",
    "rfc.fit(X_train, y_train)\n",
    "sfm = SelectFromModel(rfc, prefit=True)\n",
    "\n",
    "print('Input data shape: ', X_train.shape)\n",
    "\n",
    "X_train_new = sfm.transform(X_train)\n",
    "\n",
    "print('Output data shape: ', X_train_new.shape)\n",
    "print('Selected features: ', sfm.get_support(indices=True))\n",
    "print('Elapsed time: %.2fs' % (time() - start))\n",
    "\n",
    "scores = abs(rfc.coef_)\n",
    "\n",
    "plt.bar(X_train_indices, scores, width=.2, color='black', edgecolor='black')"
   ]
  },
  {
   "cell_type": "code",
   "execution_count": 32,
   "metadata": {},
   "outputs": [
    {
     "name": "stdout",
     "output_type": "stream",
     "text": [
      "Output data shape:  (30, 3)\n"
     ]
    }
   ],
   "source": [
    "X_test_new = sfm.transform(X_test)\n",
    "print('Output data shape: ', X_test_new.shape)"
   ]
  },
  {
   "cell_type": "markdown",
   "metadata": {},
   "source": [
    "### 3.5 Random Forest"
   ]
  },
  {
   "cell_type": "code",
   "execution_count": 33,
   "metadata": {},
   "outputs": [
    {
     "name": "stdout",
     "output_type": "stream",
     "text": [
      "Input data shape:  (120, 24)\n",
      "Output data shape:  (120, 4)\n",
      "Optimal number of features : 24\n",
      "Selected features:  [0 1 2 3]\n",
      "Elapsed time: 0.01s\n"
     ]
    },
    {
     "data": {
      "text/plain": [
       "<BarContainer object of 24 artists>"
      ]
     },
     "execution_count": 33,
     "metadata": {},
     "output_type": "execute_result"
    },
    {
     "data": {
      "image/png": "[encoded data removed]",
      "text/plain": [
       "<Figure size 432x288 with 1 Axes>"
      ]
     },
     "metadata": {
      "needs_background": "light"
     },
     "output_type": "display_data"
    }
   ],
   "source": [
    "from sklearn.ensemble import RandomForestClassifier\n",
    "from sklearn.feature_selection import SelectFromModel\n",
    "\n",
    "start = time()\n",
    "\n",
    "rfc = RandomForestClassifier()\n",
    "rfc.fit(X_train, y_train)\n",
    "sfm = SelectFromModel(rfc, prefit=True)\n",
    "\n",
    "print('Input data shape: ', X_train.shape)\n",
    "\n",
    "X_train_new = sfm.transform(X_train)\n",
    "\n",
    "print('Output data shape: ', X_train_new.shape)\n",
    "print(\"Optimal number of features : %d\" % rfc.n_features_)\n",
    "print('Selected features: ', sfm.get_support(indices=True))\n",
    "print('Elapsed time: %.2fs' % (time() - start))\n",
    "\n",
    "scores = rfc.feature_importances_\n",
    "\n",
    "plt.bar(X_train_indices, scores, width=.2, color='black', edgecolor='black')"
   ]
  },
  {
   "cell_type": "code",
   "execution_count": 34,
   "metadata": {},
   "outputs": [
    {
     "name": "stdout",
     "output_type": "stream",
     "text": [
      "Output data shape:  (30, 4)\n"
     ]
    }
   ],
   "source": [
    "X_test_new = sfm.transform(X_test)\n",
    "print('Output data shape: ', X_test_new.shape)"
   ]
  },
  {
   "cell_type": "markdown",
   "metadata": {},
   "source": [
    "### 3.6 LightGBM"
   ]
  },
  {
   "cell_type": "code",
   "execution_count": 35,
   "metadata": {},
   "outputs": [
    {
     "name": "stdout",
     "output_type": "stream",
     "text": [
      "Input data shape:  (120, 24)\n",
      "Output data shape:  (120, 2)\n",
      "Optimal number of features : 24\n",
      "Selected features:  [2 3]\n",
      "Elapsed time: 0.04s\n"
     ]
    },
    {
     "data": {
      "text/plain": [
       "<BarContainer object of 24 artists>"
      ]
     },
     "execution_count": 35,
     "metadata": {},
     "output_type": "execute_result"
    },
    {
     "data": {
      "image/png": "[encoded data removed]",
      "text/plain": [
       "<Figure size 432x288 with 1 Axes>"
      ]
     },
     "metadata": {
      "needs_background": "light"
     },
     "output_type": "display_data"
    }
   ],
   "source": [
    "from lightgbm import LGBMModel\n",
    "from sklearn.feature_selection import SelectFromModel\n",
    "\n",
    "start = time()\n",
    "\n",
    "rfc = LGBMModel(boosting_type='gbdt', objective='multiclass', num_class=3, importance_type='gain')\n",
    "rfc.fit(X_train, y_train)\n",
    "sfm = SelectFromModel(rfc, prefit=True)\n",
    "\n",
    "print('Input data shape: ', X_train.shape)\n",
    "\n",
    "X_train_new = sfm.transform(X_train)\n",
    "\n",
    "print('Output data shape: ', X_train_new.shape)\n",
    "print(\"Optimal number of features : %d\" % rfc.n_features_)\n",
    "print('Selected features: ', sfm.get_support(indices=True))\n",
    "print('Elapsed time: %.2fs' % (time() - start))\n",
    "\n",
    "scores = rfc.feature_importances_\n",
    "\n",
    "plt.bar(X_train_indices, scores, width=.2, color='black', edgecolor='black')"
   ]
  },
  {
   "cell_type": "code",
   "execution_count": 36,
   "metadata": {},
   "outputs": [
    {
     "name": "stdout",
     "output_type": "stream",
     "text": [
      "Output data shape:  (30, 2)\n"
     ]
    }
   ],
   "source": [
    "X_test_new = sfm.transform(X_test)\n",
    "print('Output data shape: ', X_test_new.shape)"
   ]
  },
  {
   "cell_type": "markdown",
   "metadata": {},
   "source": [
    "### 3.7 XGBoost"
   ]
  },
  {
   "cell_type": "code",
   "execution_count": 37,
   "metadata": {},
   "outputs": [
    {
     "name": "stdout",
     "output_type": "stream",
     "text": [
      "Input data shape:  (120, 24)\n",
      "Output data shape:  (120, 4)\n",
      "Selected features:  [2 3 4 8]\n",
      "Elapsed time: 0.35s\n"
     ]
    },
    {
     "data": {
      "text/plain": [
       "<BarContainer object of 24 artists>"
      ]
     },
     "execution_count": 37,
     "metadata": {},
     "output_type": "execute_result"
    },
    {
     "data": {
      "image/png": "[encoded data removed]",
      "text/plain": [
       "<Figure size 432x288 with 1 Axes>"
      ]
     },
     "metadata": {
      "needs_background": "light"
     },
     "output_type": "display_data"
    }
   ],
   "source": [
    "from xgboost import XGBClassifier\n",
    "from sklearn.feature_selection import SelectFromModel\n",
    "\n",
    "start = time()\n",
    "\n",
    "rfc = XGBClassifier()\n",
    "rfc.fit(X_train, y_train)\n",
    "sfm = SelectFromModel(rfc, prefit=True)\n",
    "\n",
    "print('Input data shape: ', X_train.shape)\n",
    "\n",
    "X_train_new = sfm.transform(X_train)\n",
    "\n",
    "print('Output data shape: ', X_train_new.shape)\n",
    "print('Selected features: ', sfm.get_support(indices=True))\n",
    "print('Elapsed time: %.2fs' % (time() - start))\n",
    "\n",
    "scores = rfc.feature_importances_\n",
    "\n",
    "plt.bar(X_train_indices, scores, width=.2, color='black', edgecolor='black')"
   ]
  },
  {
   "cell_type": "code",
   "execution_count": 38,
   "metadata": {},
   "outputs": [
    {
     "name": "stdout",
     "output_type": "stream",
     "text": [
      "Output data shape:  (30, 4)\n"
     ]
    }
   ],
   "source": [
    "X_test_new = sfm.transform(X_test)\n",
    "print('Output data shape: ', X_test_new.shape)"
   ]
  },
  {
   "cell_type": "markdown",
   "metadata": {},
   "source": [
    "### 3.8 CatBoost"
   ]
  },
  {
   "cell_type": "code",
   "execution_count": 6,
   "metadata": {},
   "outputs": [
    {
     "name": "stdout",
     "output_type": "stream",
     "text": [
      "Input data shape:  (120, 24)\n",
      "Output data shape:  (120, 2)\n",
      "Selected features:  [2 3]\n",
      "Elapsed time: 31.64s\n"
     ]
    },
    {
     "data": {
      "text/plain": [
       "<BarContainer object of 24 artists>"
      ]
     },
     "execution_count": 6,
     "metadata": {},
     "output_type": "execute_result"
    },
    {
     "data": {
      "image/png": "[encoded data removed]",
      "text/plain": [
       "<Figure size 432x288 with 1 Axes>"
      ]
     },
     "metadata": {
      "needs_background": "light"
     },
     "output_type": "display_data"
    }
   ],
   "source": [
    "from catboost import CatBoostClassifier\n",
    "from sklearn.feature_selection import SelectFromModel\n",
    "\n",
    "start = time()\n",
    "\n",
    "rfc = CatBoostClassifier()\n",
    "rfc.fit(X_train, y_train, silent=True)\n",
    "sfm = SelectFromModel(rfc, prefit=True)\n",
    "\n",
    "print('Input data shape: ', X_train.shape)\n",
    "\n",
    "X_train_new = sfm.transform(X_train)\n",
    "\n",
    "print('Output data shape: ', X_train_new.shape)\n",
    "print('Selected features: ', sfm.get_support(indices=True))\n",
    "print('Elapsed time: %.2fs' % (time() - start))\n",
    "\n",
    "scores = rfc.feature_importances_\n",
    "\n",
    "plt.bar(X_train_indices, scores, width=.2, color='black', edgecolor='black')"
   ]
  },
  {
   "cell_type": "code",
   "execution_count": 40,
   "metadata": {},
   "outputs": [
    {
     "name": "stdout",
     "output_type": "stream",
     "text": [
      "Output data shape:  (30, 2)\n"
     ]
    }
   ],
   "source": [
    "X_test_new = sfm.transform(X_test)\n",
    "print('Output data shape: ', X_test_new.shape)"
   ]
  },
  {
   "cell_type": "markdown",
   "metadata": {},
   "source": [
    "## Testing"
   ]
  },
  {
   "cell_type": "code",
   "execution_count": 41,
   "metadata": {},
   "outputs": [],
   "source": [
    "# Use it if you selected features using small subset of data and want to train using 80% of dataset\n",
    "\n",
    "X_train2 = np.concatenate((X_train, X_test[:14000]))\n",
    "X_test2 = X_test[14000:18000]\n",
    "\n",
    "y_train2 = np.concatenate((y_train, y_test[:14000]))\n",
    "y_test2 = y_test[14000:18000]\n",
    "\n",
    "X_train_new2 = np.concatenate((X_train_new, X_test_new[:14000]))\n",
    "X_test_new2 = X_test_new[14000:18000]"
   ]
  },
  {
   "cell_type": "markdown",
   "metadata": {},
   "source": [
    "### Original dataset:"
   ]
  },
  {
   "cell_type": "code",
   "execution_count": 42,
   "metadata": {},
   "outputs": [],
   "source": [
    "from sklearn.ensemble import RandomForestClassifier\n",
    "from sklearn.metrics import roc_auc_score, accuracy_score"
   ]
  },
  {
   "cell_type": "code",
   "execution_count": 46,
   "metadata": {},
   "outputs": [
    {
     "name": "stdout",
     "output_type": "stream",
     "text": [
      "Accuracy score:0.9\n"
     ]
    }
   ],
   "source": [
    "rfc = RandomForestClassifier(n_estimators=1000, random_state=0, n_jobs=-1)\n",
    "\n",
    "rfc.fit(X_train, y_train)\n",
    "pred = rfc.predict(X_test)\n",
    "# pred = rfc.predict_proba(X_test)[:,1]\n",
    "\n",
    "print(\"Accuracy score:\" + str(accuracy_score(y_test, pred)))\n",
    "# print(\"AUC score:\" + str(roc_auc_score(y_test, pred)))"
   ]
  },
  {
   "cell_type": "markdown",
   "metadata": {},
   "source": [
    "### Modified dataset:"
   ]
  },
  {
   "cell_type": "code",
   "execution_count": 45,
   "metadata": {},
   "outputs": [
    {
     "name": "stdout",
     "output_type": "stream",
     "text": [
      "Accuracy score:0.9666666666666667\n"
     ]
    }
   ],
   "source": [
    "rfc = RandomForestClassifier(n_estimators=1000, random_state=0, n_jobs=-1)\n",
    "\n",
    "rfc.fit(X_train_new, y_train)\n",
    "pred = rfc.predict(X_test_new)\n",
    "\n",
    "print(\"Accuracy score:\" + str(accuracy_score(y_test, pred)))"
   ]
  },
  {
   "cell_type": "code",
   "execution_count": null,
   "metadata": {},
   "outputs": [],
   "source": []
  },
  {
   "cell_type": "code",
   "execution_count": null,
   "metadata": {},
   "outputs": [],
   "source": [
    "# Santander train: 0.8, test: 0.2\n",
    "\n",
    "# Original(200): 0.8489\n",
    "\n",
    "# Pearson's correlation(81): 0.8419\n",
    "# LDA(1): 0.7716\n",
    "# Anova(81): 0.8419\n",
    "# Chi-Square(81): 0.8413\n",
    "# Variance threshold(186): 0.8376\n",
    "# Information gain(81): 0.8266\n",
    "\n",
    "# RFE(81): 0.8361 (1) 0.8396 (10)\n",
    "# RFECV(46): 0.8153 (1)\n",
    "# Boruta(29): 0.7891 (1)\n",
    "\n",
    "\n",
    "\n"
   ]
  },
  {
   "cell_type": "code",
   "execution_count": null,
   "metadata": {},
   "outputs": [],
   "source": [
    "# Santander train: 0.1, test: 0.9\n",
    "\n",
    "# Original(200): 0.8297\n",
    "\n",
    "# RFECV(181): 0.83 (10)"
   ]
  },
  {
   "cell_type": "code",
   "execution_count": null,
   "metadata": {},
   "outputs": [],
   "source": [
    "# Santander train: 0.1, test: 0.9 -> train: 0.8, test: 0.2\n",
    "# Features selected using 10% of dataset, model trained on 80% of dataset\n",
    "\n",
    "# Original(200): 0.8474\n",
    "\n",
    "# RFECV(181): 0.8511 (10)"
   ]
  },
  {
   "cell_type": "markdown",
   "metadata": {},
   "source": [
    "## References:\n"
   ]
  },
  {
   "cell_type": "code",
   "execution_count": null,
   "metadata": {},
   "outputs": [],
   "source": [
    "# https://scikit-learn.org/stable/modules/feature_selection.html\n",
    "# https://scikit-learn.org/stable/modules/classes.html#module-sklearn.feature_selection"
   ]
  }
 ],
 "metadata": {
  "kernelspec": {
   "display_name": "Python 3",
   "language": "python",
   "name": "python3"
  },
  "language_info": {
   "codemirror_mode": {
    "name": "ipython",
    "version": 3
   },
   "file_extension": ".py",
   "mimetype": "text/x-python",
   "name": "python",
   "nbconvert_exporter": "python",
   "pygments_lexer": "ipython3",
   "version": "3.6.6"
  }
 },
 "nbformat": 4,
 "nbformat_minor": 2
}
