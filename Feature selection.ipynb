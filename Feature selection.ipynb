{
 "cells": [
  {
   "cell_type": "markdown",
   "metadata": {},
   "source": [
    "# Feature selection"
   ]
  },
  {
   "cell_type": "code",
   "execution_count": 1,
   "metadata": {},
   "outputs": [],
   "source": [
    "import numpy as np\n",
    "import matplotlib.pyplot as plt\n",
    "import pandas as pd\n",
    "import seaborn as sns\n",
    "sns.set()\n",
    "from time import time"
   ]
  },
  {
   "cell_type": "code",
   "execution_count": 2,
   "metadata": {},
   "outputs": [],
   "source": [
    "from sklearn import datasets\n",
    "\n",
    "# The iris dataset\n",
    "iris = datasets.load_iris()\n",
    "\n",
    "# Some noisy data not correlated\n",
    "E = np.random.uniform(0, 0.1, size=(len(iris.data), 20))\n",
    "\n",
    "# Add the noisy data to the informative features\n",
    "X = np.hstack((iris.data, E))\n",
    "y = iris.target"
   ]
  },
  {
   "cell_type": "code",
   "execution_count": 3,
   "metadata": {},
   "outputs": [],
   "source": [
    "from sklearn.model_selection import train_test_split\n",
    "\n",
    "X_train, X_test, y_train, y_test = train_test_split(X, y, test_size=0.2)"
   ]
  },
  {
   "cell_type": "code",
   "execution_count": 4,
   "metadata": {},
   "outputs": [],
   "source": [
    "X_train_indices = np.arange(X_train.shape[-1])"
   ]
  },
  {
   "cell_type": "markdown",
   "metadata": {},
   "source": [
    "## 1 Filter methods\n",
    "### 1.1 Pearson’s correlation"
   ]
  },
  {
   "cell_type": "code",
   "execution_count": 5,
   "metadata": {},
   "outputs": [
    {
     "name": "stdout",
     "output_type": "stream",
     "text": [
      "Input data shape:  (120, 24)\n",
      "Output data shape:  (120, 3)\n",
      "Selected features:  [0, 2, 3]\n",
      "Elapsed time: 0.00s\n"
     ]
    },
    {
     "data": {
      "text/plain": [
       "<BarContainer object of 24 artists>"
      ]
     },
     "execution_count": 5,
     "metadata": {},
     "output_type": "execute_result"
    },
    {
     "data": {
      "image/png": "[encoded data removed]",
      "text/plain": [
       "<Figure size 432x288 with 2 Axes>"
      ]
     },
     "metadata": {
      "needs_background": "light"
     },
     "output_type": "display_data"
    },
    {
     "data": {
      "image/png": "[encoded data removed]",
      "text/plain": [
       "<Figure size 432x288 with 1 Axes>"
      ]
     },
     "metadata": {
      "needs_background": "light"
     },
     "output_type": "display_data"
    }
   ],
   "source": [
    "start = time()\n",
    "\n",
    "df = pd.DataFrame(X_train)\n",
    "df['target'] = y_train\n",
    "\n",
    "cor = df.corr()\n",
    "cor_target = abs(cor['target'][:-1])\n",
    "\n",
    "print('Input data shape: ', X_train.shape)\n",
    "\n",
    "relevant_features = cor_target[cor_target>0.5]\n",
    "X_train_new = df[list(relevant_features.index)].values\n",
    "\n",
    "print('Output data shape: ', X_train_new.shape)\n",
    "print('Selected features: ', list(relevant_features.index))\n",
    "print('Elapsed time: %.2fs' % (time() - start))\n",
    "\n",
    "plt.figure(0)\n",
    "sns.heatmap(cor)\n",
    "\n",
    "plt.figure(1)\n",
    "plt.bar(X_train_indices, cor_target, width=.2, color='black', edgecolor='black')"
   ]
  },
  {
   "cell_type": "code",
   "execution_count": 6,
   "metadata": {},
   "outputs": [
    {
     "name": "stdout",
     "output_type": "stream",
     "text": [
      "Output data shape:  (30, 3)\n"
     ]
    }
   ],
   "source": [
    "df = pd.DataFrame(X_test)\n",
    "X_test_new = df[list(relevant_features.index)].values\n",
    "print('Output data shape: ', X_test_new.shape)"
   ]
  },
  {
   "cell_type": "markdown",
   "metadata": {},
   "source": [
    "### 1.2 LDA"
   ]
  },
  {
   "cell_type": "code",
   "execution_count": 7,
   "metadata": {},
   "outputs": [
    {
     "name": "stdout",
     "output_type": "stream",
     "text": [
      "Input data shape:  (120, 24)\n",
      "Output data shape:  (120, 2)\n",
      "Elapsed time: 0.01s\n"
     ]
    }
   ],
   "source": [
    "from sklearn.discriminant_analysis import LinearDiscriminantAnalysis as LDA\n",
    "\n",
    "start = time()\n",
    "\n",
    "lda = LDA(n_components=None)\n",
    "\n",
    "print('Input data shape: ', X_train.shape)\n",
    "\n",
    "X_train_new = lda.fit_transform(X_train, y_train)\n",
    "\n",
    "print('Output data shape: ', X_train_new.shape)\n",
    "print('Elapsed time: %.2fs' % (time() - start))"
   ]
  },
  {
   "cell_type": "code",
   "execution_count": 8,
   "metadata": {},
   "outputs": [
    {
     "name": "stdout",
     "output_type": "stream",
     "text": [
      "Output data shape:  (30, 2)\n"
     ]
    }
   ],
   "source": [
    "X_test_new = lda.transform(X_test)\n",
    "print('Output data shape: ', X_test_new.shape)"
   ]
  },
  {
   "cell_type": "markdown",
   "metadata": {},
   "source": [
    "### 1.3 ANOVA"
   ]
  },
  {
   "cell_type": "code",
   "execution_count": 9,
   "metadata": {},
   "outputs": [
    {
     "name": "stdout",
     "output_type": "stream",
     "text": [
      "Input data shape:  (120, 24)\n",
      "Output data shape:  (120, 4)\n",
      "Selected features:  [0 1 2 3]\n",
      "Elapsed time: 0.00s\n"
     ]
    },
    {
     "data": {
      "text/plain": [
       "<BarContainer object of 24 artists>"
      ]
     },
     "execution_count": 9,
     "metadata": {},
     "output_type": "execute_result"
    },
    {
     "data": {
      "image/png": "[encoded data removed]",
      "text/plain": [
       "<Figure size 432x288 with 1 Axes>"
      ]
     },
     "metadata": {
      "needs_background": "light"
     },
     "output_type": "display_data"
    }
   ],
   "source": [
    "from sklearn.feature_selection import SelectPercentile, SelectKBest, f_classif\n",
    "\n",
    "start = time()\n",
    "\n",
    "#selector = SelectPercentile(f_classif, percentile=20)\n",
    "selector = SelectKBest(f_classif, k=4)\n",
    "selector.fit(X_train, y_train)\n",
    "\n",
    "print('Input data shape: ', X_train.shape)\n",
    "\n",
    "X_train_new = selector.transform(X_train)\n",
    "\n",
    "print('Output data shape: ', X_train_new.shape)\n",
    "print('Selected features: ', selector.get_support(indices=True))\n",
    "print('Elapsed time: %.2fs' % (time() - start))\n",
    "\n",
    "scores = -np.log10(selector.pvalues_)\n",
    "scores /= scores.max()\n",
    "\n",
    "plt.bar(X_train_indices, scores, width=.2, color='black', edgecolor='black')\n",
    "\n",
    "# Anova needs contignous target so its results are not perfect in this case of iris"
   ]
  },
  {
   "cell_type": "code",
   "execution_count": 10,
   "metadata": {},
   "outputs": [
    {
     "name": "stdout",
     "output_type": "stream",
     "text": [
      "Output data shape:  (30, 4)\n"
     ]
    }
   ],
   "source": [
    "X_test_new = selector.transform(X_test)\n",
    "print('Output data shape: ', X_test_new.shape)"
   ]
  },
  {
   "cell_type": "markdown",
   "metadata": {},
   "source": [
    "### 1.4 Chi-Square"
   ]
  },
  {
   "cell_type": "code",
   "execution_count": 11,
   "metadata": {},
   "outputs": [],
   "source": [
    "from sklearn.preprocessing import MinMaxScaler\n",
    "\n",
    "scaler = MinMaxScaler()\n",
    "X_train_new = scaler.fit_transform(X_train)"
   ]
  },
  {
   "cell_type": "code",
   "execution_count": 12,
   "metadata": {},
   "outputs": [
    {
     "name": "stdout",
     "output_type": "stream",
     "text": [
      "Input data shape:  (120, 24)\n",
      "Output data shape:  (120, 4)\n",
      "Selected features:  [0 1 2 3]\n",
      "Elapsed time: 0.00s\n"
     ]
    },
    {
     "data": {
      "text/plain": [
       "<BarContainer object of 24 artists>"
      ]
     },
     "execution_count": 12,
     "metadata": {},
     "output_type": "execute_result"
    },
    {
     "data": {
      "image/png": "[encoded data removed]",
      "text/plain": [
       "<Figure size 432x288 with 1 Axes>"
      ]
     },
     "metadata": {
      "needs_background": "light"
     },
     "output_type": "display_data"
    }
   ],
   "source": [
    "from sklearn.feature_selection import SelectKBest, chi2\n",
    "\n",
    "start = time()\n",
    "\n",
    "selector = SelectKBest(chi2, k=4)\n",
    "selector.fit(X_train_new, y_train)\n",
    "\n",
    "print('Input data shape: ', X_train_new.shape)\n",
    "\n",
    "X_train_new = selector.transform(X_train_new)\n",
    "\n",
    "print('Output data shape: ', X_train_new.shape)\n",
    "print('Selected features: ', selector.get_support(indices=True))\n",
    "print('Elapsed time: %.2fs' % (time() - start))\n",
    "\n",
    "scores = -np.log10(selector.pvalues_)\n",
    "scores /= scores.max()\n",
    "\n",
    "plt.bar(X_train_indices, scores, width=.2, color='black', edgecolor='black')"
   ]
  },
  {
   "cell_type": "code",
   "execution_count": 13,
   "metadata": {},
   "outputs": [
    {
     "name": "stdout",
     "output_type": "stream",
     "text": [
      "Output data shape:  (30, 4)\n"
     ]
    }
   ],
   "source": [
    "X_test_new = scaler.transform(X_test)\n",
    "X_test_new = selector.transform(X_test_new)\n",
    "print('Output data shape: ', X_test_new.shape)"
   ]
  },
  {
   "cell_type": "markdown",
   "metadata": {},
   "source": [
    "### 1.5 Variance threshold"
   ]
  },
  {
   "cell_type": "code",
   "execution_count": 14,
   "metadata": {},
   "outputs": [
    {
     "name": "stdout",
     "output_type": "stream",
     "text": [
      "Input data shape:  (120, 24)\n",
      "Output data shape:  (120, 4)\n",
      "Selected features:  [0 1 2 3]\n",
      "Deleted features:  {4, 5, 6, 7, 8, 9, 10, 11, 12, 13, 14, 15, 16, 17, 18, 19, 20, 21, 22, 23}\n",
      "Elapsed time: 0.00s\n"
     ]
    }
   ],
   "source": [
    "from sklearn.feature_selection import VarianceThreshold\n",
    "\n",
    "start = time()\n",
    "\n",
    "selector = VarianceThreshold(threshold=(.8 * (1 - .8)))\n",
    "\n",
    "print('Input data shape: ', X_train.shape)\n",
    "\n",
    "X_train_new = selector.fit_transform(X_train)\n",
    "\n",
    "print('Output data shape: ', X_train_new.shape)\n",
    "print('Selected features: ', selector.get_support(indices=True))\n",
    "print('Deleted features: ', set(X_train_indices) - set(selector.get_support(indices=True)))\n",
    "print('Elapsed time: %.2fs' % (time() - start))"
   ]
  },
  {
   "cell_type": "code",
   "execution_count": 15,
   "metadata": {},
   "outputs": [
    {
     "name": "stdout",
     "output_type": "stream",
     "text": [
      "Output data shape:  (30, 4)\n"
     ]
    }
   ],
   "source": [
    "X_test_new = selector.transform(X_test)\n",
    "print('Output data shape: ', X_test_new.shape)"
   ]
  },
  {
   "cell_type": "markdown",
   "metadata": {},
   "source": [
    "### 1.6 Information gain (mutual information)"
   ]
  },
  {
   "cell_type": "code",
   "execution_count": 16,
   "metadata": {},
   "outputs": [
    {
     "name": "stdout",
     "output_type": "stream",
     "text": [
      "Input data shape:  (120, 24)\n",
      "Output data shape:  (120, 4)\n",
      "Selected features:  [0 1 2 3]\n",
      "Elapsed time: 0.04s\n"
     ]
    },
    {
     "data": {
      "text/plain": [
       "<BarContainer object of 24 artists>"
      ]
     },
     "execution_count": 16,
     "metadata": {},
     "output_type": "execute_result"
    },
    {
     "data": {
      "image/png": "[encoded data removed]",
      "text/plain": [
       "<Figure size 432x288 with 1 Axes>"
      ]
     },
     "metadata": {
      "needs_background": "light"
     },
     "output_type": "display_data"
    }
   ],
   "source": [
    "from sklearn.feature_selection import SelectKBest, mutual_info_classif\n",
    "\n",
    "start = time()\n",
    "\n",
    "selector = SelectKBest(mutual_info_classif, k=4)\n",
    "selector.fit(X_train, y_train)\n",
    "\n",
    "print('Input data shape: ', X_train.shape)\n",
    "\n",
    "X_train_new = selector.transform(X_train)\n",
    "\n",
    "print('Output data shape: ', X_train_new.shape)\n",
    "print('Selected features: ', selector.get_support(indices=True))\n",
    "print('Elapsed time: %.2fs' % (time() - start))\n",
    "\n",
    "scores = selector.scores_\n",
    "\n",
    "plt.bar(X_train_indices, scores, width=.2, color='black', edgecolor='black')"
   ]
  },
  {
   "cell_type": "code",
   "execution_count": 17,
   "metadata": {},
   "outputs": [
    {
     "name": "stdout",
     "output_type": "stream",
     "text": [
      "Output data shape:  (30, 4)\n"
     ]
    }
   ],
   "source": [
    "X_test_new = selector.transform(X_test)\n",
    "print('Output data shape: ', X_test_new.shape)"
   ]
  },
  {
   "cell_type": "markdown",
   "metadata": {},
   "source": [
    "## 2 Wrapper methods"
   ]
  },
  {
   "cell_type": "code",
   "execution_count": 18,
   "metadata": {},
   "outputs": [
    {
     "name": "stderr",
     "output_type": "stream",
     "text": [
      "C:\\Users\\Piotr\\Anaconda3\\envs\\kaggle\\lib\\site-packages\\sklearn\\ensemble\\weight_boosting.py:29: DeprecationWarning: numpy.core.umath_tests is an internal NumPy module and should not be imported. It will be removed in a future NumPy release.\n",
      "  from numpy.core.umath_tests import inner1d\n"
     ]
    }
   ],
   "source": [
    "from sklearn.ensemble import RandomForestClassifier"
   ]
  },
  {
   "cell_type": "markdown",
   "metadata": {},
   "source": [
    "### 2.1 Recursive feature elimination (RFE)"
   ]
  },
  {
   "cell_type": "code",
   "execution_count": 19,
   "metadata": {},
   "outputs": [
    {
     "name": "stdout",
     "output_type": "stream",
     "text": [
      "Input data shape:  (120, 24)\n",
      "Output data shape:  (120, 24)\n",
      "Selected features:  [ 0  1  2  3  4  5  6  7  8  9 10 11 12 13 14 15 16 17 18 19 20 21 22 23]\n",
      "Features ranking:  [1 1 1 1 1 1 1 1 1 1 1 1 1 1 1 1 1 1 1 1 1 1 1 1]\n",
      "Elapsed time: 0.12s\n"
     ]
    }
   ],
   "source": [
    "# A:\n",
    "from sklearn.feature_selection import RFE\n",
    "\n",
    "start = time()\n",
    "\n",
    "rfc = RandomForestClassifier(n_estimators=10, n_jobs=-1, class_weight='balanced')\n",
    "rfe = RFE(estimator=rfc, n_features_to_select=81, step=1)\n",
    "rfe.fit(X_train, y_train)\n",
    "\n",
    "print('Input data shape: ', X_train.shape)\n",
    "\n",
    "X_train_new = rfe.transform(X_train)\n",
    "\n",
    "print('Output data shape: ', X_train_new.shape)\n",
    "print('Selected features: ', rfe.get_support(indices=True))\n",
    "print('Features ranking: ', rfe.ranking_)\n",
    "print('Elapsed time: %.2fs' % (time() - start))"
   ]
  },
  {
   "cell_type": "code",
   "execution_count": 20,
   "metadata": {},
   "outputs": [
    {
     "name": "stdout",
     "output_type": "stream",
     "text": [
      "Output data shape:  (30, 24)\n"
     ]
    }
   ],
   "source": [
    "X_test_new = rfe.transform(X_test)\n",
    "print('Output data shape: ', X_test_new.shape)"
   ]
  },
  {
   "cell_type": "code",
   "execution_count": 21,
   "metadata": {},
   "outputs": [
    {
     "name": "stdout",
     "output_type": "stream",
     "text": [
      "Input data shape:  (120, 24)\n",
      "Output data shape:  (120, 2)\n",
      "Optimal number of features : 2\n",
      "Selected features:  [2 3]\n",
      "Features ranking:  [ 2  3  1  1 11 14 17 22 12 20 16 15  8  7 18  9 21 13 19 10  5  6  4 23]\n",
      "Elapsed time: 83.36s\n"
     ]
    },
    {
     "data": {
      "image/png": "[encoded data removed]",
      "text/plain": [
       "<Figure size 432x288 with 1 Axes>"
      ]
     },
     "metadata": {
      "needs_background": "light"
     },
     "output_type": "display_data"
    }
   ],
   "source": [
    "# B: Feature ranking with recursive feature elimination and cross-validated selection of the best number of features.\n",
    "\n",
    "from sklearn.feature_selection import RFECV\n",
    "from sklearn.model_selection import StratifiedKFold\n",
    "\n",
    "start = time()\n",
    "\n",
    "rfc = RandomForestClassifier(n_estimators=10, n_jobs=-1, class_weight='balanced')\n",
    "rfecv = RFECV(estimator=rfc, step=1, cv=StratifiedKFold(10), scoring='accuracy')\n",
    "rfecv.fit(X_train, y_train)\n",
    "\n",
    "print('Input data shape: ', X_train.shape)\n",
    "\n",
    "X_train_new = rfecv.transform(X_train)\n",
    "\n",
    "print('Output data shape: ', X_train_new.shape)\n",
    "print(\"Optimal number of features : %d\" % rfecv.n_features_)\n",
    "print('Selected features: ', rfecv.get_support(indices=True))\n",
    "print('Features ranking: ', rfecv.ranking_)\n",
    "print('Elapsed time: %.2fs' % (time() - start))\n",
    "\n",
    "plt.figure()\n",
    "plt.xlabel(\"Number of features selected\")\n",
    "plt.ylabel(\"Cross validation score (nb of correct classifications)\")\n",
    "plt.plot(range(1, len(rfecv.grid_scores_) + 1), rfecv.grid_scores_)\n",
    "plt.show()"
   ]
  },
  {
   "cell_type": "code",
   "execution_count": 22,
   "metadata": {},
   "outputs": [
    {
     "name": "stdout",
     "output_type": "stream",
     "text": [
      "Output data shape:  (30, 2)\n"
     ]
    }
   ],
   "source": [
    "X_test_new = rfecv.transform(X_test)\n",
    "print('Output data shape: ', X_test_new.shape)"
   ]
  },
  {
   "cell_type": "markdown",
   "metadata": {},
   "source": [
    "### 2.2 Boruta"
   ]
  },
  {
   "cell_type": "code",
   "execution_count": 23,
   "metadata": {},
   "outputs": [
    {
     "name": "stdout",
     "output_type": "stream",
     "text": [
      "Iteration: \t1 / 100\n",
      "Confirmed: \t0\n",
      "Tentative: \t24\n",
      "Rejected: \t0\n",
      "Iteration: \t2 / 100\n",
      "Confirmed: \t0\n",
      "Tentative: \t24\n",
      "Rejected: \t0\n",
      "Iteration: \t3 / 100\n",
      "Confirmed: \t0\n",
      "Tentative: \t24\n",
      "Rejected: \t0\n",
      "Iteration: \t4 / 100\n",
      "Confirmed: \t0\n",
      "Tentative: \t24\n",
      "Rejected: \t0\n",
      "Iteration: \t5 / 100\n",
      "Confirmed: \t0\n",
      "Tentative: \t24\n",
      "Rejected: \t0\n",
      "Iteration: \t6 / 100\n",
      "Confirmed: \t0\n",
      "Tentative: \t24\n",
      "Rejected: \t0\n",
      "Iteration: \t7 / 100\n",
      "Confirmed: \t0\n",
      "Tentative: \t24\n",
      "Rejected: \t0\n",
      "Iteration: \t8 / 100\n",
      "Confirmed: \t0\n",
      "Tentative: \t7\n",
      "Rejected: \t17\n",
      "Iteration: \t9 / 100\n",
      "Confirmed: \t0\n",
      "Tentative: \t7\n",
      "Rejected: \t17\n",
      "Iteration: \t10 / 100\n",
      "Confirmed: \t0\n",
      "Tentative: \t7\n",
      "Rejected: \t17\n",
      "Iteration: \t11 / 100\n",
      "Confirmed: \t0\n",
      "Tentative: \t7\n",
      "Rejected: \t17\n",
      "Iteration: \t12 / 100\n",
      "Confirmed: \t0\n",
      "Tentative: \t5\n",
      "Rejected: \t19\n",
      "Iteration: \t13 / 100\n",
      "Confirmed: \t0\n",
      "Tentative: \t5\n",
      "Rejected: \t19\n",
      "Iteration: \t14 / 100\n",
      "Confirmed: \t0\n",
      "Tentative: \t5\n",
      "Rejected: \t19\n",
      "Iteration: \t15 / 100\n",
      "Confirmed: \t0\n",
      "Tentative: \t5\n",
      "Rejected: \t19\n",
      "Iteration: \t16 / 100\n",
      "Confirmed: \t0\n",
      "Tentative: \t5\n",
      "Rejected: \t19\n",
      "Iteration: \t17 / 100\n",
      "Confirmed: \t0\n",
      "Tentative: \t5\n",
      "Rejected: \t19\n",
      "Iteration: \t18 / 100\n",
      "Confirmed: \t0\n",
      "Tentative: \t5\n",
      "Rejected: \t19\n",
      "Iteration: \t19 / 100\n",
      "Confirmed: \t0\n",
      "Tentative: \t5\n",
      "Rejected: \t19\n",
      "Iteration: \t20 / 100\n",
      "Confirmed: \t0\n",
      "Tentative: \t5\n",
      "Rejected: \t19\n",
      "Iteration: \t21 / 100\n",
      "Confirmed: \t0\n",
      "Tentative: \t5\n",
      "Rejected: \t19\n",
      "Iteration: \t22 / 100\n",
      "Confirmed: \t0\n",
      "Tentative: \t4\n",
      "Rejected: \t20\n",
      "Iteration: \t23 / 100\n",
      "Confirmed: \t0\n",
      "Tentative: \t4\n",
      "Rejected: \t20\n",
      "Iteration: \t24 / 100\n",
      "Confirmed: \t0\n",
      "Tentative: \t4\n",
      "Rejected: \t20\n",
      "Iteration: \t25 / 100\n",
      "Confirmed: \t0\n",
      "Tentative: \t4\n",
      "Rejected: \t20\n",
      "Iteration: \t26 / 100\n",
      "Confirmed: \t0\n",
      "Tentative: \t4\n",
      "Rejected: \t20\n",
      "Iteration: \t27 / 100\n",
      "Confirmed: \t0\n",
      "Tentative: \t4\n",
      "Rejected: \t20\n",
      "Iteration: \t28 / 100\n",
      "Confirmed: \t0\n",
      "Tentative: \t4\n",
      "Rejected: \t20\n",
      "Iteration: \t29 / 100\n",
      "Confirmed: \t1\n",
      "Tentative: \t3\n",
      "Rejected: \t20\n",
      "Iteration: \t30 / 100\n",
      "Confirmed: \t1\n",
      "Tentative: \t3\n",
      "Rejected: \t20\n",
      "Iteration: \t31 / 100\n",
      "Confirmed: \t1\n",
      "Tentative: \t3\n",
      "Rejected: \t20\n",
      "Iteration: \t32 / 100\n",
      "Confirmed: \t1\n",
      "Tentative: \t3\n",
      "Rejected: \t20\n",
      "Iteration: \t33 / 100\n",
      "Confirmed: \t1\n",
      "Tentative: \t3\n",
      "Rejected: \t20\n",
      "Iteration: \t34 / 100\n",
      "Confirmed: \t1\n",
      "Tentative: \t3\n",
      "Rejected: \t20\n",
      "Iteration: \t35 / 100\n",
      "Confirmed: \t1\n",
      "Tentative: \t3\n",
      "Rejected: \t20\n",
      "Iteration: \t36 / 100\n",
      "Confirmed: \t1\n",
      "Tentative: \t3\n",
      "Rejected: \t20\n",
      "Iteration: \t37 / 100\n",
      "Confirmed: \t1\n",
      "Tentative: \t2\n",
      "Rejected: \t21\n",
      "Iteration: \t38 / 100\n",
      "Confirmed: \t1\n",
      "Tentative: \t2\n",
      "Rejected: \t21\n",
      "Iteration: \t39 / 100\n",
      "Confirmed: \t1\n",
      "Tentative: \t2\n",
      "Rejected: \t21\n",
      "Iteration: \t40 / 100\n",
      "Confirmed: \t1\n",
      "Tentative: \t2\n",
      "Rejected: \t21\n",
      "Iteration: \t41 / 100\n",
      "Confirmed: \t1\n",
      "Tentative: \t2\n",
      "Rejected: \t21\n",
      "Iteration: \t42 / 100\n",
      "Confirmed: \t1\n",
      "Tentative: \t2\n",
      "Rejected: \t21\n",
      "Iteration: \t43 / 100\n",
      "Confirmed: \t1\n",
      "Tentative: \t2\n",
      "Rejected: \t21\n",
      "Iteration: \t44 / 100\n",
      "Confirmed: \t1\n",
      "Tentative: \t2\n",
      "Rejected: \t21\n",
      "Iteration: \t45 / 100\n",
      "Confirmed: \t1\n",
      "Tentative: \t2\n",
      "Rejected: \t21\n",
      "Iteration: \t46 / 100\n",
      "Confirmed: \t2\n",
      "Tentative: \t1\n",
      "Rejected: \t21\n",
      "Iteration: \t47 / 100\n",
      "Confirmed: \t2\n",
      "Tentative: \t1\n",
      "Rejected: \t21\n",
      "Iteration: \t48 / 100\n",
      "Confirmed: \t2\n",
      "Tentative: \t1\n",
      "Rejected: \t21\n",
      "Iteration: \t49 / 100\n",
      "Confirmed: \t2\n",
      "Tentative: \t1\n",
      "Rejected: \t21\n",
      "Iteration: \t50 / 100\n",
      "Confirmed: \t2\n",
      "Tentative: \t1\n",
      "Rejected: \t21\n",
      "Iteration: \t51 / 100\n",
      "Confirmed: \t2\n",
      "Tentative: \t1\n",
      "Rejected: \t21\n",
      "Iteration: \t52 / 100\n",
      "Confirmed: \t2\n",
      "Tentative: \t1\n",
      "Rejected: \t21\n",
      "Iteration: \t53 / 100\n",
      "Confirmed: \t2\n",
      "Tentative: \t1\n",
      "Rejected: \t21\n",
      "Iteration: \t54 / 100\n",
      "Confirmed: \t2\n",
      "Tentative: \t1\n",
      "Rejected: \t21\n",
      "Iteration: \t55 / 100\n",
      "Confirmed: \t2\n",
      "Tentative: \t1\n",
      "Rejected: \t21\n",
      "Iteration: \t56 / 100\n",
      "Confirmed: \t2\n",
      "Tentative: \t1\n",
      "Rejected: \t21\n",
      "Iteration: \t57 / 100\n",
      "Confirmed: \t2\n",
      "Tentative: \t1\n",
      "Rejected: \t21\n",
      "Iteration: \t58 / 100\n",
      "Confirmed: \t2\n",
      "Tentative: \t1\n",
      "Rejected: \t21\n",
      "Iteration: \t59 / 100\n",
      "Confirmed: \t2\n",
      "Tentative: \t1\n",
      "Rejected: \t21\n",
      "Iteration: \t60 / 100\n",
      "Confirmed: \t2\n",
      "Tentative: \t1\n",
      "Rejected: \t21\n",
      "Iteration: \t61 / 100\n",
      "Confirmed: \t2\n",
      "Tentative: \t1\n",
      "Rejected: \t21\n",
      "Iteration: \t62 / 100\n",
      "Confirmed: \t2\n",
      "Tentative: \t1\n",
      "Rejected: \t21\n",
      "Iteration: \t63 / 100\n",
      "Confirmed: \t2\n",
      "Tentative: \t1\n",
      "Rejected: \t21\n",
      "Iteration: \t64 / 100\n",
      "Confirmed: \t2\n",
      "Tentative: \t1\n",
      "Rejected: \t21\n",
      "Iteration: \t65 / 100\n",
      "Confirmed: \t2\n",
      "Tentative: \t1\n",
      "Rejected: \t21\n",
      "Iteration: \t66 / 100\n",
      "Confirmed: \t2\n",
      "Tentative: \t1\n",
      "Rejected: \t21\n",
      "Iteration: \t67 / 100\n",
      "Confirmed: \t2\n",
      "Tentative: \t1\n",
      "Rejected: \t21\n",
      "Iteration: \t68 / 100\n",
      "Confirmed: \t2\n",
      "Tentative: \t1\n",
      "Rejected: \t21\n",
      "Iteration: \t69 / 100\n",
      "Confirmed: \t2\n",
      "Tentative: \t1\n",
      "Rejected: \t21\n",
      "Iteration: \t70 / 100\n",
      "Confirmed: \t2\n",
      "Tentative: \t1\n",
      "Rejected: \t21\n",
      "Iteration: \t71 / 100\n",
      "Confirmed: \t2\n",
      "Tentative: \t1\n",
      "Rejected: \t21\n",
      "Iteration: \t72 / 100\n",
      "Confirmed: \t2\n",
      "Tentative: \t1\n",
      "Rejected: \t21\n",
      "Iteration: \t73 / 100\n",
      "Confirmed: \t2\n",
      "Tentative: \t1\n",
      "Rejected: \t21\n",
      "Iteration: \t74 / 100\n",
      "Confirmed: \t2\n",
      "Tentative: \t1\n",
      "Rejected: \t21\n",
      "Iteration: \t75 / 100\n",
      "Confirmed: \t2\n",
      "Tentative: \t1\n",
      "Rejected: \t21\n",
      "Iteration: \t76 / 100\n",
      "Confirmed: \t2\n",
      "Tentative: \t1\n",
      "Rejected: \t21\n",
      "Iteration: \t77 / 100\n",
      "Confirmed: \t2\n",
      "Tentative: \t1\n",
      "Rejected: \t21\n",
      "Iteration: \t78 / 100\n",
      "Confirmed: \t2\n",
      "Tentative: \t1\n",
      "Rejected: \t21\n",
      "Iteration: \t79 / 100\n",
      "Confirmed: \t2\n",
      "Tentative: \t1\n",
      "Rejected: \t21\n",
      "Iteration: \t80 / 100\n",
      "Confirmed: \t2\n",
      "Tentative: \t1\n",
      "Rejected: \t21\n",
      "Iteration: \t81 / 100\n",
      "Confirmed: \t2\n",
      "Tentative: \t1\n",
      "Rejected: \t21\n",
      "Iteration: \t82 / 100\n",
      "Confirmed: \t2\n",
      "Tentative: \t1\n",
      "Rejected: \t21\n",
      "Iteration: \t83 / 100\n",
      "Confirmed: \t2\n",
      "Tentative: \t1\n",
      "Rejected: \t21\n",
      "Iteration: \t84 / 100\n",
      "Confirmed: \t2\n",
      "Tentative: \t1\n",
      "Rejected: \t21\n",
      "Iteration: \t85 / 100\n",
      "Confirmed: \t2\n",
      "Tentative: \t1\n",
      "Rejected: \t21\n",
      "Iteration: \t86 / 100\n",
      "Confirmed: \t2\n",
      "Tentative: \t1\n",
      "Rejected: \t21\n",
      "Iteration: \t87 / 100\n",
      "Confirmed: \t2\n",
      "Tentative: \t1\n",
      "Rejected: \t21\n",
      "Iteration: \t88 / 100\n",
      "Confirmed: \t2\n",
      "Tentative: \t1\n",
      "Rejected: \t21\n",
      "Iteration: \t89 / 100\n",
      "Confirmed: \t2\n",
      "Tentative: \t1\n",
      "Rejected: \t21\n",
      "Iteration: \t90 / 100\n",
      "Confirmed: \t2\n",
      "Tentative: \t1\n",
      "Rejected: \t21\n",
      "Iteration: \t91 / 100\n",
      "Confirmed: \t2\n",
      "Tentative: \t1\n",
      "Rejected: \t21\n",
      "Iteration: \t92 / 100\n",
      "Confirmed: \t2\n",
      "Tentative: \t1\n",
      "Rejected: \t21\n",
      "Iteration: \t93 / 100\n",
      "Confirmed: \t2\n",
      "Tentative: \t1\n",
      "Rejected: \t21\n",
      "Iteration: \t94 / 100\n",
      "Confirmed: \t2\n",
      "Tentative: \t1\n",
      "Rejected: \t21\n",
      "Iteration: \t95 / 100\n",
      "Confirmed: \t2\n",
      "Tentative: \t1\n",
      "Rejected: \t21\n",
      "Iteration: \t96 / 100\n",
      "Confirmed: \t2\n",
      "Tentative: \t1\n",
      "Rejected: \t21\n",
      "Iteration: \t97 / 100\n",
      "Confirmed: \t2\n",
      "Tentative: \t1\n",
      "Rejected: \t21\n",
      "Iteration: \t98 / 100\n",
      "Confirmed: \t2\n",
      "Tentative: \t1\n",
      "Rejected: \t21\n",
      "Iteration: \t99 / 100\n",
      "Confirmed: \t2\n",
      "Tentative: \t1\n",
      "Rejected: \t21\n",
      "\n",
      "\n",
      "BorutaPy finished running.\n",
      "\n",
      "Iteration: \t100 / 100\n",
      "Confirmed: \t2\n",
      "Tentative: \t0\n",
      "Rejected: \t21\n",
      "Input data shape:  (120, 24)\n",
      "Output data shape:  (120, 2)\n",
      "Optimal number of features : 2\n",
      "Selected features:  [2, 3]\n",
      "Features ranking:  [ 2  5  1  1 11 16 22 16  3 16  9  6  4 16 16  7 11 22  9 16  9 16 22 16]\n",
      "Elapsed time: 21.37s\n"
     ]
    }
   ],
   "source": [
    "from boruta import BorutaPy\n",
    "\n",
    "start = time()\n",
    "\n",
    "rfc = RandomForestClassifier(n_estimators=1, n_jobs=-1, class_weight='balanced')\n",
    "selector = BorutaPy(rfc, n_estimators=1, verbose=2)\n",
    "selector.fit(X_train, y_train)\n",
    "\n",
    "print('Input data shape: ', X_train.shape)\n",
    "\n",
    "X_train_new = selector.transform(X_train)\n",
    "\n",
    "print('Output data shape: ', X_train_new.shape)\n",
    "print(\"Optimal number of features : %d\" % selector.n_features_)\n",
    "print('Selected features: ', [i for i, s in enumerate(selector.support_) if s == True])\n",
    "print('Features ranking: ', selector.ranking_)\n",
    "print('Elapsed time: %.2fs' % (time() - start))"
   ]
  },
  {
   "cell_type": "code",
   "execution_count": 24,
   "metadata": {},
   "outputs": [
    {
     "name": "stdout",
     "output_type": "stream",
     "text": [
      "Output data shape:  (30, 2)\n"
     ]
    }
   ],
   "source": [
    "X_test_new = selector.transform(X_test)\n",
    "print('Output data shape: ', X_test_new.shape)"
   ]
  },
  {
   "cell_type": "markdown",
   "metadata": {},
   "source": [
    "## 3 Embedded methods\n",
    "### 3.1 Lasso regression"
   ]
  },
  {
   "cell_type": "code",
   "execution_count": 25,
   "metadata": {},
   "outputs": [
    {
     "name": "stdout",
     "output_type": "stream",
     "text": [
      "Input data shape:  (120, 24)\n",
      "Output data shape:  (120, 4)\n",
      "Selected features:  [0 1 2 3]\n",
      "Elapsed time: 0.00s\n"
     ]
    },
    {
     "data": {
      "text/plain": [
       "<BarContainer object of 24 artists>"
      ]
     },
     "execution_count": 25,
     "metadata": {},
     "output_type": "execute_result"
    },
    {
     "data": {
      "image/png": "[encoded data removed]",
      "text/plain": [
       "<Figure size 432x288 with 1 Axes>"
      ]
     },
     "metadata": {
      "needs_background": "light"
     },
     "output_type": "display_data"
    }
   ],
   "source": [
    "from sklearn.linear_model import Lasso\n",
    "from sklearn.feature_selection import SelectFromModel\n",
    "\n",
    "start = time()\n",
    "\n",
    "rfc = Lasso(alpha=0.01)\n",
    "rfc.fit(X_train, y_train)\n",
    "sfm = SelectFromModel(rfc, prefit=True)\n",
    "\n",
    "print('Input data shape: ', X_train.shape)\n",
    "\n",
    "X_train_new = sfm.transform(X_train)\n",
    "\n",
    "print('Output data shape: ', X_train_new.shape)\n",
    "print('Selected features: ', sfm.get_support(indices=True))\n",
    "print('Elapsed time: %.2fs' % (time() - start))\n",
    "\n",
    "scores = abs(rfc.coef_)\n",
    "\n",
    "plt.bar(X_train_indices, scores, width=.2, color='black', edgecolor='black')"
   ]
  },
  {
   "cell_type": "code",
   "execution_count": 26,
   "metadata": {},
   "outputs": [
    {
     "name": "stdout",
     "output_type": "stream",
     "text": [
      "Output data shape:  (30, 4)\n"
     ]
    }
   ],
   "source": [
    "X_test_new = sfm.transform(X_test)\n",
    "print('Output data shape: ', X_test_new.shape)"
   ]
  },
  {
   "cell_type": "markdown",
   "metadata": {},
   "source": [
    "### 3.2 Ridge regression"
   ]
  },
  {
   "cell_type": "code",
   "execution_count": 27,
   "metadata": {},
   "outputs": [
    {
     "name": "stdout",
     "output_type": "stream",
     "text": [
      "Input data shape:  (120, 24)\n",
      "Output data shape:  (120, 5)\n",
      "Selected features:  [ 0  2  3 12 17]\n",
      "Elapsed time: 0.00s\n"
     ]
    },
    {
     "data": {
      "text/plain": [
       "<BarContainer object of 24 artists>"
      ]
     },
     "execution_count": 27,
     "metadata": {},
     "output_type": "execute_result"
    },
    {
     "data": {
      "image/png": "[encoded data removed]",
      "text/plain": [
       "<Figure size 432x288 with 1 Axes>"
      ]
     },
     "metadata": {
      "needs_background": "light"
     },
     "output_type": "display_data"
    }
   ],
   "source": [
    "from sklearn.linear_model import Ridge\n",
    "from sklearn.feature_selection import SelectFromModel\n",
    "\n",
    "start = time()\n",
    "\n",
    "rfc = Ridge(alpha=1)\n",
    "rfc.fit(X_train, y_train)\n",
    "sfm = SelectFromModel(rfc, prefit=True)\n",
    "\n",
    "print('Input data shape: ', X_train.shape)\n",
    "\n",
    "X_train_new = sfm.transform(X_train)\n",
    "\n",
    "print('Output data shape: ', X_train_new.shape)\n",
    "print('Selected features: ', sfm.get_support(indices=True))\n",
    "print('Elapsed time: %.2fs' % (time() - start))\n",
    "\n",
    "scores = abs(rfc.coef_)\n",
    "\n",
    "plt.bar(X_train_indices, scores, width=.2, color='black', edgecolor='black')"
   ]
  },
  {
   "cell_type": "code",
   "execution_count": 28,
   "metadata": {},
   "outputs": [
    {
     "name": "stdout",
     "output_type": "stream",
     "text": [
      "Output data shape:  (30, 5)\n"
     ]
    }
   ],
   "source": [
    "X_test_new = sfm.transform(X_test)\n",
    "print('Output data shape: ', X_test_new.shape)"
   ]
  },
  {
   "cell_type": "markdown",
   "metadata": {},
   "source": [
    "### 3.3 Logistic regression"
   ]
  },
  {
   "cell_type": "code",
   "execution_count": 29,
   "metadata": {},
   "outputs": [
    {
     "name": "stdout",
     "output_type": "stream",
     "text": [
      "Input data shape:  (120, 24)\n",
      "Output data shape:  (120, 4)\n",
      "Selected features:  [0 1 2 3]\n",
      "Elapsed time: 0.00s\n"
     ]
    },
    {
     "data": {
      "text/plain": [
       "<BarContainer object of 24 artists>"
      ]
     },
     "execution_count": 29,
     "metadata": {},
     "output_type": "execute_result"
    },
    {
     "data": {
      "image/png": "[encoded data removed]",
      "text/plain": [
       "<Figure size 432x288 with 1 Axes>"
      ]
     },
     "metadata": {
      "needs_background": "light"
     },
     "output_type": "display_data"
    }
   ],
   "source": [
    "from sklearn.linear_model import LogisticRegression\n",
    "from sklearn.feature_selection import SelectFromModel\n",
    "\n",
    "start = time()\n",
    "\n",
    "rfc = LogisticRegression()\n",
    "rfc.fit(X_train, y_train)\n",
    "sfm = SelectFromModel(rfc, prefit=True)\n",
    "\n",
    "print('Input data shape: ', X_train.shape)\n",
    "\n",
    "X_train_new = sfm.transform(X_train)\n",
    "\n",
    "print('Output data shape: ', X_train_new.shape)\n",
    "print('Selected features: ', sfm.get_support(indices=True))\n",
    "print('Elapsed time: %.2fs' % (time() - start))\n",
    "\n",
    "scores = abs(rfc.coef_)\n",
    "scores = [(scores[0][i] + scores[1][i] + scores[2][i])/3 for i in range(len(scores[0]))]\n",
    "\n",
    "plt.bar(X_train_indices, scores, width=.2, color='black', edgecolor='black')"
   ]
  },
  {
   "cell_type": "code",
   "execution_count": 30,
   "metadata": {},
   "outputs": [
    {
     "name": "stdout",
     "output_type": "stream",
     "text": [
      "Output data shape:  (30, 4)\n"
     ]
    }
   ],
   "source": [
    "X_test_new = sfm.transform(X_test)\n",
    "print('Output data shape: ', X_test_new.shape)"
   ]
  },
  {
   "cell_type": "markdown",
   "metadata": {},
   "source": [
    "### 3.4 Elastic Net"
   ]
  },
  {
   "cell_type": "code",
   "execution_count": 31,
   "metadata": {},
   "outputs": [
    {
     "name": "stdout",
     "output_type": "stream",
     "text": [
      "Input data shape:  (120, 24)\n",
      "Output data shape:  (120, 3)\n",
      "Selected features:  [0 2 3]\n",
      "Elapsed time: 0.00s\n"
     ]
    },
    {
     "data": {
      "text/plain": [
       "<BarContainer object of 24 artists>"
      ]
     },
     "execution_count": 31,
     "metadata": {},
     "output_type": "execute_result"
    },
    {
     "data": {
      "image/png": "[encoded data removed]",
      "text/plain": [
       "<Figure size 432x288 with 1 Axes>"
      ]
     },
     "metadata": {
      "needs_background": "light"
     },
     "output_type": "display_data"
    }
   ],
   "source": [
    "from sklearn.linear_model import ElasticNet\n",
    "from sklearn.feature_selection import SelectFromModel\n",
    "\n",
    "start = time()\n",
    "\n",
    "rfc = ElasticNet(alpha=0.01)\n",
    "rfc.fit(X_train, y_train)\n",
    "sfm = SelectFromModel(rfc, prefit=True)\n",
    "\n",
    "print('Input data shape: ', X_train.shape)\n",
    "\n",
    "X_train_new = sfm.transform(X_train)\n",
    "\n",
    "print('Output data shape: ', X_train_new.shape)\n",
    "print('Selected features: ', sfm.get_support(indices=True))\n",
    "print('Elapsed time: %.2fs' % (time() - start))\n",
    "\n",
    "scores = abs(rfc.coef_)\n",
    "\n",
    "plt.bar(X_train_indices, scores, width=.2, color='black', edgecolor='black')"
   ]
  },
  {
   "cell_type": "code",
   "execution_count": 32,
   "metadata": {},
   "outputs": [
    {
     "name": "stdout",
     "output_type": "stream",
     "text": [
      "Output data shape:  (30, 3)\n"
     ]
    }
   ],
   "source": [
    "X_test_new = sfm.transform(X_test)\n",
    "print('Output data shape: ', X_test_new.shape)"
   ]
  },
  {
   "cell_type": "markdown",
   "metadata": {},
   "source": [
    "### 3.5 Random Forest"
   ]
  },
  {
   "cell_type": "code",
   "execution_count": 33,
   "metadata": {},
   "outputs": [
    {
     "name": "stdout",
     "output_type": "stream",
     "text": [
      "Input data shape:  (120, 24)\n",
      "Output data shape:  (120, 4)\n",
      "Optimal number of features : 24\n",
      "Selected features:  [0 1 2 3]\n",
      "Elapsed time: 0.01s\n"
     ]
    },
    {
     "data": {
      "text/plain": [
       "<BarContainer object of 24 artists>"
      ]
     },
     "execution_count": 33,
     "metadata": {},
     "output_type": "execute_result"
    },
    {
     "data": {
      "image/png": "[encoded data removed]",
      "text/plain": [
       "<Figure size 432x288 with 1 Axes>"
      ]
     },
     "metadata": {
      "needs_background": "light"
     },
     "output_type": "display_data"
    }
   ],
   "source": [
    "from sklearn.ensemble import RandomForestClassifier\n",
    "from sklearn.feature_selection import SelectFromModel\n",
    "\n",
    "start = time()\n",
    "\n",
    "rfc = RandomForestClassifier()\n",
    "rfc.fit(X_train, y_train)\n",
    "sfm = SelectFromModel(rfc, prefit=True)\n",
    "\n",
    "print('Input data shape: ', X_train.shape)\n",
    "\n",
    "X_train_new = sfm.transform(X_train)\n",
    "\n",
    "print('Output data shape: ', X_train_new.shape)\n",
    "print(\"Optimal number of features : %d\" % rfc.n_features_)\n",
    "print('Selected features: ', sfm.get_support(indices=True))\n",
    "print('Elapsed time: %.2fs' % (time() - start))\n",
    "\n",
    "scores = rfc.feature_importances_\n",
    "\n",
    "plt.bar(X_train_indices, scores, width=.2, color='black', edgecolor='black')"
   ]
  },
  {
   "cell_type": "code",
   "execution_count": 34,
   "metadata": {},
   "outputs": [
    {
     "name": "stdout",
     "output_type": "stream",
     "text": [
      "Output data shape:  (30, 4)\n"
     ]
    }
   ],
   "source": [
    "X_test_new = sfm.transform(X_test)\n",
    "print('Output data shape: ', X_test_new.shape)"
   ]
  },
  {
   "cell_type": "markdown",
   "metadata": {},
   "source": [
    "### 3.6 LightGBM"
   ]
  },
  {
   "cell_type": "code",
   "execution_count": 35,
   "metadata": {},
   "outputs": [
    {
     "name": "stdout",
     "output_type": "stream",
     "text": [
      "Input data shape:  (120, 24)\n",
      "Output data shape:  (120, 2)\n",
      "Optimal number of features : 24\n",
      "Selected features:  [2 3]\n",
      "Elapsed time: 0.04s\n"
     ]
    },
    {
     "data": {
      "text/plain": [
       "<BarContainer object of 24 artists>"
      ]
     },
     "execution_count": 35,
     "metadata": {},
     "output_type": "execute_result"
    },
    {
     "data": {
      "image/png": "[encoded data removed]",
      "text/plain": [
       "<Figure size 432x288 with 1 Axes>"
      ]
     },
     "metadata": {
      "needs_background": "light"
     },
     "output_type": "display_data"
    }
   ],
   "source": [
    "from lightgbm import LGBMModel\n",
    "from sklearn.feature_selection import SelectFromModel\n",
    "\n",
    "start = time()\n",
    "\n",
    "rfc = LGBMModel(boosting_type='gbdt', objective='multiclass', num_class=3, importance_type='gain')\n",
    "rfc.fit(X_train, y_train)\n",
    "sfm = SelectFromModel(rfc, prefit=True)\n",
    "\n",
    "print('Input data shape: ', X_train.shape)\n",
    "\n",
    "X_train_new = sfm.transform(X_train)\n",
    "\n",
    "print('Output data shape: ', X_train_new.shape)\n",
    "print(\"Optimal number of features : %d\" % rfc.n_features_)\n",
    "print('Selected features: ', sfm.get_support(indices=True))\n",
    "print('Elapsed time: %.2fs' % (time() - start))\n",
    "\n",
    "scores = rfc.feature_importances_\n",
    "\n",
    "plt.bar(X_train_indices, scores, width=.2, color='black', edgecolor='black')"
   ]
  },
  {
   "cell_type": "code",
   "execution_count": 36,
   "metadata": {},
   "outputs": [
    {
     "name": "stdout",
     "output_type": "stream",
     "text": [
      "Output data shape:  (30, 2)\n"
     ]
    }
   ],
   "source": [
    "X_test_new = sfm.transform(X_test)\n",
    "print('Output data shape: ', X_test_new.shape)"
   ]
  },
  {
   "cell_type": "markdown",
   "metadata": {},
   "source": [
    "### 3.7 XGBoost"
   ]
  },
  {
   "cell_type": "code",
   "execution_count": 37,
   "metadata": {},
   "outputs": [
    {
     "name": "stdout",
     "output_type": "stream",
     "text": [
      "Input data shape:  (120, 24)\n",
      "Output data shape:  (120, 4)\n",
      "Selected features:  [2 3 4 8]\n",
      "Elapsed time: 0.35s\n"
     ]
    },
    {
     "data": {
      "text/plain": [
       "<BarContainer object of 24 artists>"
      ]
     },
     "execution_count": 37,
     "metadata": {},
     "output_type": "execute_result"
    },
    {
     "data": {
      "image/png": "[encoded data removed]",
      "text/plain": [
       "<Figure size 432x288 with 1 Axes>"
      ]
     },
     "metadata": {
      "needs_background": "light"
     },
     "output_type": "display_data"
    }
   ],
   "source": [
    "from xgboost import XGBClassifier\n",
    "from sklearn.feature_selection import SelectFromModel\n",
    "\n",
    "start = time()\n",
    "\n",
    "rfc = XGBClassifier()\n",
    "rfc.fit(X_train, y_train)\n",
    "sfm = SelectFromModel(rfc, prefit=True)\n",
    "\n",
    "print('Input data shape: ', X_train.shape)\n",
    "\n",
    "X_train_new = sfm.transform(X_train)\n",
    "\n",
    "print('Output data shape: ', X_train_new.shape)\n",
    "print('Selected features: ', sfm.get_support(indices=True))\n",
    "print('Elapsed time: %.2fs' % (time() - start))\n",
    "\n",
    "scores = rfc.feature_importances_\n",
    "\n",
    "plt.bar(X_train_indices, scores, width=.2, color='black', edgecolor='black')"
   ]
  },
  {
   "cell_type": "code",
   "execution_count": 38,
   "metadata": {},
   "outputs": [
    {
     "name": "stdout",
     "output_type": "stream",
     "text": [
      "Output data shape:  (30, 4)\n"
     ]
    }
   ],
   "source": [
    "X_test_new = sfm.transform(X_test)\n",
    "print('Output data shape: ', X_test_new.shape)"
   ]
  },
  {
   "cell_type": "markdown",
   "metadata": {},
   "source": [
    "### 3.8 CatBoost"
   ]
  },
  {
   "cell_type": "code",
   "execution_count": 39,
   "metadata": {},
   "outputs": [
    {
     "name": "stdout",
     "output_type": "stream",
     "text": [
      "0:\tlearn: -1.0682177\ttotal: 95.6ms\tremaining: 1m 35s\n",
      "1:\tlearn: -1.0470426\ttotal: 127ms\tremaining: 1m 3s\n",
      "2:\tlearn: -1.0204517\ttotal: 158ms\tremaining: 52.4s\n",
      "3:\tlearn: -0.9980899\ttotal: 190ms\tremaining: 47.3s\n",
      "4:\tlearn: -0.9736398\ttotal: 221ms\tremaining: 44.1s\n",
      "5:\tlearn: -0.9579683\ttotal: 252ms\tremaining: 41.8s\n",
      "6:\tlearn: -0.9340666\ttotal: 283ms\tremaining: 40.1s\n",
      "7:\tlearn: -0.9094446\ttotal: 315ms\tremaining: 39s\n",
      "8:\tlearn: -0.8891775\ttotal: 346ms\tremaining: 38.1s\n",
      "9:\tlearn: -0.8684452\ttotal: 353ms\tremaining: 35s\n",
      "10:\tlearn: -0.8448731\ttotal: 385ms\tremaining: 34.6s\n",
      "11:\tlearn: -0.8247209\ttotal: 414ms\tremaining: 34.1s\n",
      "12:\tlearn: -0.8081215\ttotal: 445ms\tremaining: 33.8s\n",
      "13:\tlearn: -0.7878245\ttotal: 477ms\tremaining: 33.6s\n",
      "14:\tlearn: -0.7701258\ttotal: 509ms\tremaining: 33.4s\n",
      "15:\tlearn: -0.7534964\ttotal: 540ms\tremaining: 33.2s\n",
      "16:\tlearn: -0.7365509\ttotal: 572ms\tremaining: 33.1s\n",
      "17:\tlearn: -0.7203880\ttotal: 602ms\tremaining: 32.8s\n",
      "18:\tlearn: -0.7080293\ttotal: 632ms\tremaining: 32.6s\n",
      "19:\tlearn: -0.6927050\ttotal: 662ms\tremaining: 32.4s\n",
      "20:\tlearn: -0.6796409\ttotal: 682ms\tremaining: 31.8s\n",
      "21:\tlearn: -0.6665287\ttotal: 711ms\tremaining: 31.6s\n",
      "22:\tlearn: -0.6511396\ttotal: 742ms\tremaining: 31.5s\n",
      "23:\tlearn: -0.6379176\ttotal: 775ms\tremaining: 31.5s\n",
      "24:\tlearn: -0.6246267\ttotal: 806ms\tremaining: 31.4s\n",
      "25:\tlearn: -0.6107034\ttotal: 837ms\tremaining: 31.3s\n",
      "26:\tlearn: -0.6001475\ttotal: 868ms\tremaining: 31.3s\n",
      "27:\tlearn: -0.5875782\ttotal: 900ms\tremaining: 31.3s\n",
      "28:\tlearn: -0.5755211\ttotal: 932ms\tremaining: 31.2s\n",
      "29:\tlearn: -0.5636551\ttotal: 966ms\tremaining: 31.2s\n",
      "30:\tlearn: -0.5507513\ttotal: 996ms\tremaining: 31.1s\n",
      "31:\tlearn: -0.5417398\ttotal: 1.03s\tremaining: 31.2s\n",
      "32:\tlearn: -0.5317991\ttotal: 1.07s\tremaining: 31.4s\n",
      "33:\tlearn: -0.5221368\ttotal: 1.1s\tremaining: 31.4s\n",
      "34:\tlearn: -0.5121838\ttotal: 1.14s\tremaining: 31.3s\n",
      "35:\tlearn: -0.5051878\ttotal: 1.17s\tremaining: 31.3s\n",
      "36:\tlearn: -0.4953187\ttotal: 1.2s\tremaining: 31.3s\n",
      "37:\tlearn: -0.4889782\ttotal: 1.23s\tremaining: 31.2s\n",
      "38:\tlearn: -0.4811671\ttotal: 1.26s\tremaining: 31.1s\n",
      "39:\tlearn: -0.4725184\ttotal: 1.29s\tremaining: 31.1s\n",
      "40:\tlearn: -0.4657682\ttotal: 1.32s\tremaining: 31s\n",
      "41:\tlearn: -0.4573357\ttotal: 1.36s\tremaining: 31.1s\n",
      "42:\tlearn: -0.4502674\ttotal: 1.4s\tremaining: 31.1s\n",
      "43:\tlearn: -0.4416875\ttotal: 1.43s\tremaining: 31s\n",
      "44:\tlearn: -0.4343900\ttotal: 1.46s\tremaining: 30.9s\n",
      "45:\tlearn: -0.4256261\ttotal: 1.48s\tremaining: 30.6s\n",
      "46:\tlearn: -0.4184441\ttotal: 1.5s\tremaining: 30.5s\n",
      "47:\tlearn: -0.4125405\ttotal: 1.54s\tremaining: 30.5s\n",
      "48:\tlearn: -0.4041928\ttotal: 1.57s\tremaining: 30.4s\n",
      "49:\tlearn: -0.3963357\ttotal: 1.6s\tremaining: 30.3s\n",
      "50:\tlearn: -0.3888562\ttotal: 1.63s\tremaining: 30.3s\n",
      "51:\tlearn: -0.3821102\ttotal: 1.66s\tremaining: 30.2s\n",
      "52:\tlearn: -0.3760618\ttotal: 1.69s\tremaining: 30.2s\n",
      "53:\tlearn: -0.3713561\ttotal: 1.72s\tremaining: 30.1s\n",
      "54:\tlearn: -0.3664313\ttotal: 1.75s\tremaining: 30.1s\n",
      "55:\tlearn: -0.3602817\ttotal: 1.78s\tremaining: 30s\n",
      "56:\tlearn: -0.3553038\ttotal: 1.81s\tremaining: 30s\n",
      "57:\tlearn: -0.3493569\ttotal: 1.84s\tremaining: 29.9s\n",
      "58:\tlearn: -0.3450299\ttotal: 1.88s\tremaining: 29.9s\n",
      "59:\tlearn: -0.3409810\ttotal: 1.91s\tremaining: 29.9s\n",
      "60:\tlearn: -0.3364747\ttotal: 1.94s\tremaining: 29.9s\n",
      "61:\tlearn: -0.3315878\ttotal: 1.97s\tremaining: 29.8s\n",
      "62:\tlearn: -0.3267498\ttotal: 2s\tremaining: 29.7s\n",
      "63:\tlearn: -0.3207727\ttotal: 2.03s\tremaining: 29.7s\n",
      "64:\tlearn: -0.3164027\ttotal: 2.06s\tremaining: 29.7s\n",
      "65:\tlearn: -0.3100423\ttotal: 2.09s\tremaining: 29.6s\n",
      "66:\tlearn: -0.3065844\ttotal: 2.13s\tremaining: 29.6s\n",
      "67:\tlearn: -0.3016168\ttotal: 2.16s\tremaining: 29.6s\n",
      "68:\tlearn: -0.2967054\ttotal: 2.19s\tremaining: 29.5s\n",
      "69:\tlearn: -0.2925159\ttotal: 2.23s\tremaining: 29.6s\n",
      "70:\tlearn: -0.2891964\ttotal: 2.26s\tremaining: 29.6s\n",
      "71:\tlearn: -0.2864872\ttotal: 2.29s\tremaining: 29.5s\n",
      "72:\tlearn: -0.2832849\ttotal: 2.32s\tremaining: 29.4s\n",
      "73:\tlearn: -0.2796214\ttotal: 2.35s\tremaining: 29.4s\n",
      "74:\tlearn: -0.2767097\ttotal: 2.38s\tremaining: 29.3s\n",
      "75:\tlearn: -0.2730663\ttotal: 2.41s\tremaining: 29.3s\n",
      "76:\tlearn: -0.2692803\ttotal: 2.44s\tremaining: 29.2s\n",
      "77:\tlearn: -0.2649124\ttotal: 2.47s\tremaining: 29.2s\n",
      "78:\tlearn: -0.2609389\ttotal: 2.5s\tremaining: 29.2s\n",
      "79:\tlearn: -0.2584525\ttotal: 2.53s\tremaining: 29.1s\n",
      "80:\tlearn: -0.2542200\ttotal: 2.56s\tremaining: 29.1s\n",
      "81:\tlearn: -0.2499267\ttotal: 2.57s\tremaining: 28.8s\n",
      "82:\tlearn: -0.2472876\ttotal: 2.6s\tremaining: 28.7s\n",
      "83:\tlearn: -0.2440563\ttotal: 2.63s\tremaining: 28.7s\n",
      "84:\tlearn: -0.2396756\ttotal: 2.66s\tremaining: 28.6s\n",
      "85:\tlearn: -0.2372534\ttotal: 2.69s\tremaining: 28.6s\n",
      "86:\tlearn: -0.2347893\ttotal: 2.72s\tremaining: 28.6s\n",
      "87:\tlearn: -0.2326857\ttotal: 2.75s\tremaining: 28.5s\n",
      "88:\tlearn: -0.2296981\ttotal: 2.78s\tremaining: 28.5s\n",
      "89:\tlearn: -0.2270791\ttotal: 2.81s\tremaining: 28.5s\n",
      "90:\tlearn: -0.2244856\ttotal: 2.85s\tremaining: 28.4s\n",
      "91:\tlearn: -0.2217259\ttotal: 2.88s\tremaining: 28.4s\n",
      "92:\tlearn: -0.2191478\ttotal: 2.91s\tremaining: 28.4s\n",
      "93:\tlearn: -0.2167989\ttotal: 2.94s\tremaining: 28.3s\n",
      "94:\tlearn: -0.2147047\ttotal: 2.97s\tremaining: 28.3s\n",
      "95:\tlearn: -0.2120653\ttotal: 3s\tremaining: 28.3s\n",
      "96:\tlearn: -0.2093690\ttotal: 3.04s\tremaining: 28.3s\n",
      "97:\tlearn: -0.2065326\ttotal: 3.07s\tremaining: 28.3s\n",
      "98:\tlearn: -0.2047837\ttotal: 3.1s\tremaining: 28.2s\n",
      "99:\tlearn: -0.2023262\ttotal: 3.13s\tremaining: 28.2s\n",
      "100:\tlearn: -0.2002521\ttotal: 3.16s\tremaining: 28.2s\n",
      "101:\tlearn: -0.1979079\ttotal: 3.19s\tremaining: 28.1s\n",
      "102:\tlearn: -0.1958019\ttotal: 3.23s\tremaining: 28.1s\n",
      "103:\tlearn: -0.1939073\ttotal: 3.26s\tremaining: 28.1s\n",
      "104:\tlearn: -0.1919510\ttotal: 3.29s\tremaining: 28.1s\n",
      "105:\tlearn: -0.1902264\ttotal: 3.32s\tremaining: 28s\n",
      "106:\tlearn: -0.1884346\ttotal: 3.35s\tremaining: 28s\n",
      "107:\tlearn: -0.1866774\ttotal: 3.38s\tremaining: 27.9s\n",
      "108:\tlearn: -0.1846510\ttotal: 3.41s\tremaining: 27.9s\n",
      "109:\tlearn: -0.1824309\ttotal: 3.45s\tremaining: 27.9s\n",
      "110:\tlearn: -0.1802968\ttotal: 3.48s\tremaining: 27.9s\n",
      "111:\tlearn: -0.1779627\ttotal: 3.51s\tremaining: 27.9s\n",
      "112:\tlearn: -0.1761458\ttotal: 3.54s\tremaining: 27.8s\n",
      "113:\tlearn: -0.1745755\ttotal: 3.57s\tremaining: 27.8s\n",
      "114:\tlearn: -0.1725861\ttotal: 3.61s\tremaining: 27.8s\n",
      "115:\tlearn: -0.1703868\ttotal: 3.63s\tremaining: 27.6s\n",
      "116:\tlearn: -0.1686009\ttotal: 3.66s\tremaining: 27.6s\n",
      "117:\tlearn: -0.1673154\ttotal: 3.69s\tremaining: 27.6s\n",
      "118:\tlearn: -0.1656574\ttotal: 3.72s\tremaining: 27.5s\n",
      "119:\tlearn: -0.1645024\ttotal: 3.75s\tremaining: 27.5s\n",
      "120:\tlearn: -0.1624618\ttotal: 3.78s\tremaining: 27.4s\n",
      "121:\tlearn: -0.1614754\ttotal: 3.81s\tremaining: 27.4s\n",
      "122:\tlearn: -0.1600983\ttotal: 3.84s\tremaining: 27.4s\n",
      "123:\tlearn: -0.1584805\ttotal: 3.88s\tremaining: 27.4s\n",
      "124:\tlearn: -0.1571101\ttotal: 3.91s\tremaining: 27.3s\n",
      "125:\tlearn: -0.1556587\ttotal: 3.94s\tremaining: 27.3s\n",
      "126:\tlearn: -0.1542131\ttotal: 3.97s\tremaining: 27.3s\n",
      "127:\tlearn: -0.1529145\ttotal: 4s\tremaining: 27.3s\n",
      "128:\tlearn: -0.1517383\ttotal: 4.03s\tremaining: 27.2s\n",
      "129:\tlearn: -0.1504336\ttotal: 4.07s\tremaining: 27.2s\n",
      "130:\tlearn: -0.1486663\ttotal: 4.1s\tremaining: 27.2s\n",
      "131:\tlearn: -0.1475299\ttotal: 4.13s\tremaining: 27.1s\n",
      "132:\tlearn: -0.1463182\ttotal: 4.16s\tremaining: 27.1s\n",
      "133:\tlearn: -0.1447814\ttotal: 4.19s\tremaining: 27.1s\n",
      "134:\tlearn: -0.1433309\ttotal: 4.22s\tremaining: 27.1s\n",
      "135:\tlearn: -0.1419105\ttotal: 4.26s\tremaining: 27s\n",
      "136:\tlearn: -0.1406622\ttotal: 4.29s\tremaining: 27s\n",
      "137:\tlearn: -0.1394217\ttotal: 4.32s\tremaining: 27s\n",
      "138:\tlearn: -0.1386560\ttotal: 4.35s\tremaining: 26.9s\n",
      "139:\tlearn: -0.1369844\ttotal: 4.38s\tremaining: 26.9s\n",
      "140:\tlearn: -0.1359142\ttotal: 4.41s\tremaining: 26.9s\n",
      "141:\tlearn: -0.1346108\ttotal: 4.44s\tremaining: 26.8s\n",
      "142:\tlearn: -0.1336491\ttotal: 4.47s\tremaining: 26.8s\n",
      "143:\tlearn: -0.1324421\ttotal: 4.5s\tremaining: 26.8s\n",
      "144:\tlearn: -0.1308107\ttotal: 4.54s\tremaining: 26.7s\n",
      "145:\tlearn: -0.1296853\ttotal: 4.57s\tremaining: 26.7s\n",
      "146:\tlearn: -0.1286753\ttotal: 4.6s\tremaining: 26.7s\n",
      "147:\tlearn: -0.1278527\ttotal: 4.63s\tremaining: 26.7s\n",
      "148:\tlearn: -0.1265354\ttotal: 4.66s\tremaining: 26.6s\n",
      "149:\tlearn: -0.1256434\ttotal: 4.69s\tremaining: 26.6s\n",
      "150:\tlearn: -0.1242961\ttotal: 4.72s\tremaining: 26.5s\n",
      "151:\tlearn: -0.1231994\ttotal: 4.75s\tremaining: 26.5s\n",
      "152:\tlearn: -0.1219658\ttotal: 4.78s\tremaining: 26.5s\n",
      "153:\tlearn: -0.1206731\ttotal: 4.81s\tremaining: 26.4s\n",
      "154:\tlearn: -0.1193324\ttotal: 4.84s\tremaining: 26.4s\n",
      "155:\tlearn: -0.1183435\ttotal: 4.87s\tremaining: 26.4s\n",
      "156:\tlearn: -0.1175468\ttotal: 4.9s\tremaining: 26.3s\n",
      "157:\tlearn: -0.1165616\ttotal: 4.93s\tremaining: 26.3s\n"
     ]
    },
    {
     "name": "stdout",
     "output_type": "stream",
     "text": [
      "158:\tlearn: -0.1157215\ttotal: 4.96s\tremaining: 26.3s\n",
      "159:\tlearn: -0.1147376\ttotal: 5s\tremaining: 26.2s\n",
      "160:\tlearn: -0.1137590\ttotal: 5.03s\tremaining: 26.2s\n",
      "161:\tlearn: -0.1130587\ttotal: 5.06s\tremaining: 26.2s\n",
      "162:\tlearn: -0.1119500\ttotal: 5.09s\tremaining: 26.2s\n",
      "163:\tlearn: -0.1111337\ttotal: 5.12s\tremaining: 26.1s\n",
      "164:\tlearn: -0.1098654\ttotal: 5.16s\tremaining: 26.1s\n",
      "165:\tlearn: -0.1085745\ttotal: 5.19s\tremaining: 26.1s\n",
      "166:\tlearn: -0.1075778\ttotal: 5.22s\tremaining: 26s\n",
      "167:\tlearn: -0.1067545\ttotal: 5.25s\tremaining: 26s\n",
      "168:\tlearn: -0.1056642\ttotal: 5.28s\tremaining: 26s\n",
      "169:\tlearn: -0.1047586\ttotal: 5.31s\tremaining: 25.9s\n",
      "170:\tlearn: -0.1039390\ttotal: 5.35s\tremaining: 25.9s\n",
      "171:\tlearn: -0.1030255\ttotal: 5.38s\tremaining: 25.9s\n",
      "172:\tlearn: -0.1021934\ttotal: 5.42s\tremaining: 25.9s\n",
      "173:\tlearn: -0.1014411\ttotal: 5.45s\tremaining: 25.9s\n",
      "174:\tlearn: -0.1007431\ttotal: 5.48s\tremaining: 25.8s\n",
      "175:\tlearn: -0.0999445\ttotal: 5.51s\tremaining: 25.8s\n",
      "176:\tlearn: -0.0990795\ttotal: 5.54s\tremaining: 25.8s\n",
      "177:\tlearn: -0.0985038\ttotal: 5.58s\tremaining: 25.8s\n",
      "178:\tlearn: -0.0977378\ttotal: 5.61s\tremaining: 25.7s\n",
      "179:\tlearn: -0.0968204\ttotal: 5.64s\tremaining: 25.7s\n",
      "180:\tlearn: -0.0959517\ttotal: 5.67s\tremaining: 25.6s\n",
      "181:\tlearn: -0.0951870\ttotal: 5.7s\tremaining: 25.6s\n",
      "182:\tlearn: -0.0944059\ttotal: 5.73s\tremaining: 25.6s\n",
      "183:\tlearn: -0.0933026\ttotal: 5.76s\tremaining: 25.5s\n",
      "184:\tlearn: -0.0926370\ttotal: 5.79s\tremaining: 25.5s\n",
      "185:\tlearn: -0.0920082\ttotal: 5.82s\tremaining: 25.5s\n",
      "186:\tlearn: -0.0913826\ttotal: 5.85s\tremaining: 25.4s\n",
      "187:\tlearn: -0.0907938\ttotal: 5.88s\tremaining: 25.4s\n",
      "188:\tlearn: -0.0900528\ttotal: 5.92s\tremaining: 25.4s\n",
      "189:\tlearn: -0.0890936\ttotal: 5.95s\tremaining: 25.4s\n",
      "190:\tlearn: -0.0884485\ttotal: 5.98s\tremaining: 25.3s\n",
      "191:\tlearn: -0.0876929\ttotal: 6.01s\tremaining: 25.3s\n",
      "192:\tlearn: -0.0868009\ttotal: 6.04s\tremaining: 25.3s\n",
      "193:\tlearn: -0.0860474\ttotal: 6.08s\tremaining: 25.2s\n",
      "194:\tlearn: -0.0853346\ttotal: 6.11s\tremaining: 25.2s\n",
      "195:\tlearn: -0.0846551\ttotal: 6.14s\tremaining: 25.2s\n",
      "196:\tlearn: -0.0841877\ttotal: 6.18s\tremaining: 25.2s\n",
      "197:\tlearn: -0.0835960\ttotal: 6.19s\tremaining: 25.1s\n",
      "198:\tlearn: -0.0831363\ttotal: 6.22s\tremaining: 25.1s\n",
      "199:\tlearn: -0.0821284\ttotal: 6.25s\tremaining: 25s\n",
      "200:\tlearn: -0.0816591\ttotal: 6.28s\tremaining: 25s\n",
      "201:\tlearn: -0.0810843\ttotal: 6.32s\tremaining: 24.9s\n",
      "202:\tlearn: -0.0805412\ttotal: 6.35s\tremaining: 24.9s\n",
      "203:\tlearn: -0.0800765\ttotal: 6.38s\tremaining: 24.9s\n",
      "204:\tlearn: -0.0795274\ttotal: 6.41s\tremaining: 24.8s\n",
      "205:\tlearn: -0.0790573\ttotal: 6.44s\tremaining: 24.8s\n",
      "206:\tlearn: -0.0783298\ttotal: 6.47s\tremaining: 24.8s\n",
      "207:\tlearn: -0.0776633\ttotal: 6.5s\tremaining: 24.7s\n",
      "208:\tlearn: -0.0768648\ttotal: 6.51s\tremaining: 24.6s\n",
      "209:\tlearn: -0.0760904\ttotal: 6.54s\tremaining: 24.6s\n",
      "210:\tlearn: -0.0754264\ttotal: 6.57s\tremaining: 24.6s\n",
      "211:\tlearn: -0.0749952\ttotal: 6.6s\tremaining: 24.5s\n",
      "212:\tlearn: -0.0743557\ttotal: 6.64s\tremaining: 24.5s\n",
      "213:\tlearn: -0.0736931\ttotal: 6.67s\tremaining: 24.5s\n",
      "214:\tlearn: -0.0732408\ttotal: 6.7s\tremaining: 24.5s\n",
      "215:\tlearn: -0.0729437\ttotal: 6.73s\tremaining: 24.4s\n",
      "216:\tlearn: -0.0725168\ttotal: 6.76s\tremaining: 24.4s\n",
      "217:\tlearn: -0.0718849\ttotal: 6.79s\tremaining: 24.4s\n",
      "218:\tlearn: -0.0715206\ttotal: 6.82s\tremaining: 24.3s\n",
      "219:\tlearn: -0.0709490\ttotal: 6.85s\tremaining: 24.3s\n",
      "220:\tlearn: -0.0704560\ttotal: 6.88s\tremaining: 24.3s\n",
      "221:\tlearn: -0.0699073\ttotal: 6.91s\tremaining: 24.2s\n",
      "222:\tlearn: -0.0694273\ttotal: 6.95s\tremaining: 24.2s\n",
      "223:\tlearn: -0.0689699\ttotal: 6.98s\tremaining: 24.2s\n",
      "224:\tlearn: -0.0683385\ttotal: 7.01s\tremaining: 24.1s\n",
      "225:\tlearn: -0.0678152\ttotal: 7.04s\tremaining: 24.1s\n",
      "226:\tlearn: -0.0673737\ttotal: 7.07s\tremaining: 24.1s\n",
      "227:\tlearn: -0.0668148\ttotal: 7.1s\tremaining: 24.1s\n",
      "228:\tlearn: -0.0664927\ttotal: 7.14s\tremaining: 24s\n",
      "229:\tlearn: -0.0661537\ttotal: 7.17s\tremaining: 24s\n",
      "230:\tlearn: -0.0656074\ttotal: 7.2s\tremaining: 24s\n",
      "231:\tlearn: -0.0652280\ttotal: 7.23s\tremaining: 23.9s\n",
      "232:\tlearn: -0.0646677\ttotal: 7.26s\tremaining: 23.9s\n",
      "233:\tlearn: -0.0641505\ttotal: 7.29s\tremaining: 23.9s\n",
      "234:\tlearn: -0.0637013\ttotal: 7.32s\tremaining: 23.8s\n",
      "235:\tlearn: -0.0632579\ttotal: 7.35s\tremaining: 23.8s\n",
      "236:\tlearn: -0.0628774\ttotal: 7.38s\tremaining: 23.8s\n",
      "237:\tlearn: -0.0623816\ttotal: 7.42s\tremaining: 23.7s\n",
      "238:\tlearn: -0.0617720\ttotal: 7.45s\tremaining: 23.7s\n",
      "239:\tlearn: -0.0612619\ttotal: 7.47s\tremaining: 23.6s\n",
      "240:\tlearn: -0.0609439\ttotal: 7.5s\tremaining: 23.6s\n",
      "241:\tlearn: -0.0606750\ttotal: 7.53s\tremaining: 23.6s\n",
      "242:\tlearn: -0.0601485\ttotal: 7.56s\tremaining: 23.5s\n",
      "243:\tlearn: -0.0597765\ttotal: 7.59s\tremaining: 23.5s\n",
      "244:\tlearn: -0.0593719\ttotal: 7.61s\tremaining: 23.4s\n",
      "245:\tlearn: -0.0589421\ttotal: 7.64s\tremaining: 23.4s\n",
      "246:\tlearn: -0.0586945\ttotal: 7.67s\tremaining: 23.4s\n",
      "247:\tlearn: -0.0583363\ttotal: 7.7s\tremaining: 23.4s\n",
      "248:\tlearn: -0.0578098\ttotal: 7.73s\tremaining: 23.3s\n",
      "249:\tlearn: -0.0574369\ttotal: 7.76s\tremaining: 23.3s\n",
      "250:\tlearn: -0.0570713\ttotal: 7.79s\tremaining: 23.3s\n",
      "251:\tlearn: -0.0565782\ttotal: 7.83s\tremaining: 23.2s\n",
      "252:\tlearn: -0.0562076\ttotal: 7.86s\tremaining: 23.2s\n",
      "253:\tlearn: -0.0559185\ttotal: 7.89s\tremaining: 23.2s\n",
      "254:\tlearn: -0.0553907\ttotal: 7.92s\tremaining: 23.1s\n",
      "255:\tlearn: -0.0549578\ttotal: 7.95s\tremaining: 23.1s\n",
      "256:\tlearn: -0.0546607\ttotal: 7.99s\tremaining: 23.1s\n",
      "257:\tlearn: -0.0542939\ttotal: 8.02s\tremaining: 23.1s\n",
      "258:\tlearn: -0.0539443\ttotal: 8.05s\tremaining: 23s\n",
      "259:\tlearn: -0.0537402\ttotal: 8.08s\tremaining: 23s\n",
      "260:\tlearn: -0.0532379\ttotal: 8.11s\tremaining: 23s\n",
      "261:\tlearn: -0.0528912\ttotal: 8.14s\tremaining: 22.9s\n",
      "262:\tlearn: -0.0525111\ttotal: 8.17s\tremaining: 22.9s\n",
      "263:\tlearn: -0.0520946\ttotal: 8.21s\tremaining: 22.9s\n",
      "264:\tlearn: -0.0516763\ttotal: 8.24s\tremaining: 22.9s\n",
      "265:\tlearn: -0.0513167\ttotal: 8.27s\tremaining: 22.8s\n",
      "266:\tlearn: -0.0510103\ttotal: 8.3s\tremaining: 22.8s\n",
      "267:\tlearn: -0.0507279\ttotal: 8.34s\tremaining: 22.8s\n",
      "268:\tlearn: -0.0503961\ttotal: 8.37s\tremaining: 22.7s\n",
      "269:\tlearn: -0.0499979\ttotal: 8.4s\tremaining: 22.7s\n",
      "270:\tlearn: -0.0495866\ttotal: 8.43s\tremaining: 22.7s\n",
      "271:\tlearn: -0.0492707\ttotal: 8.46s\tremaining: 22.7s\n",
      "272:\tlearn: -0.0489115\ttotal: 8.49s\tremaining: 22.6s\n",
      "273:\tlearn: -0.0485043\ttotal: 8.52s\tremaining: 22.6s\n",
      "274:\tlearn: -0.0484040\ttotal: 8.55s\tremaining: 22.6s\n",
      "275:\tlearn: -0.0480432\ttotal: 8.59s\tremaining: 22.5s\n",
      "276:\tlearn: -0.0477810\ttotal: 8.62s\tremaining: 22.5s\n",
      "277:\tlearn: -0.0473063\ttotal: 8.65s\tremaining: 22.5s\n",
      "278:\tlearn: -0.0470619\ttotal: 8.68s\tremaining: 22.4s\n",
      "279:\tlearn: -0.0468263\ttotal: 8.71s\tremaining: 22.4s\n",
      "280:\tlearn: -0.0466691\ttotal: 8.74s\tremaining: 22.4s\n",
      "281:\tlearn: -0.0464512\ttotal: 8.77s\tremaining: 22.3s\n",
      "282:\tlearn: -0.0461474\ttotal: 8.8s\tremaining: 22.3s\n",
      "283:\tlearn: -0.0458789\ttotal: 8.83s\tremaining: 22.3s\n",
      "284:\tlearn: -0.0455777\ttotal: 8.86s\tremaining: 22.2s\n",
      "285:\tlearn: -0.0452772\ttotal: 8.89s\tremaining: 22.2s\n",
      "286:\tlearn: -0.0450478\ttotal: 8.93s\tremaining: 22.2s\n",
      "287:\tlearn: -0.0447938\ttotal: 8.96s\tremaining: 22.2s\n",
      "288:\tlearn: -0.0444670\ttotal: 8.99s\tremaining: 22.1s\n",
      "289:\tlearn: -0.0442366\ttotal: 9.02s\tremaining: 22.1s\n",
      "290:\tlearn: -0.0438969\ttotal: 9.06s\tremaining: 22.1s\n",
      "291:\tlearn: -0.0436864\ttotal: 9.09s\tremaining: 22s\n",
      "292:\tlearn: -0.0435339\ttotal: 9.12s\tremaining: 22s\n",
      "293:\tlearn: -0.0432144\ttotal: 9.15s\tremaining: 22s\n",
      "294:\tlearn: -0.0429636\ttotal: 9.19s\tremaining: 22s\n",
      "295:\tlearn: -0.0426987\ttotal: 9.22s\tremaining: 21.9s\n",
      "296:\tlearn: -0.0425126\ttotal: 9.25s\tremaining: 21.9s\n",
      "297:\tlearn: -0.0421506\ttotal: 9.28s\tremaining: 21.9s\n",
      "298:\tlearn: -0.0419993\ttotal: 9.31s\tremaining: 21.8s\n",
      "299:\tlearn: -0.0416437\ttotal: 9.34s\tremaining: 21.8s\n",
      "300:\tlearn: -0.0415332\ttotal: 9.37s\tremaining: 21.8s\n",
      "301:\tlearn: -0.0413399\ttotal: 9.4s\tremaining: 21.7s\n",
      "302:\tlearn: -0.0412126\ttotal: 9.44s\tremaining: 21.7s\n",
      "303:\tlearn: -0.0409810\ttotal: 9.48s\tremaining: 21.7s\n",
      "304:\tlearn: -0.0407819\ttotal: 9.51s\tremaining: 21.7s\n",
      "305:\tlearn: -0.0405820\ttotal: 9.54s\tremaining: 21.6s\n",
      "306:\tlearn: -0.0403066\ttotal: 9.57s\tremaining: 21.6s\n",
      "307:\tlearn: -0.0401495\ttotal: 9.6s\tremaining: 21.6s\n",
      "308:\tlearn: -0.0399169\ttotal: 9.63s\tremaining: 21.5s\n",
      "309:\tlearn: -0.0396548\ttotal: 9.66s\tremaining: 21.5s\n",
      "310:\tlearn: -0.0394544\ttotal: 9.69s\tremaining: 21.5s\n",
      "311:\tlearn: -0.0392203\ttotal: 9.72s\tremaining: 21.4s\n",
      "312:\tlearn: -0.0390909\ttotal: 9.75s\tremaining: 21.4s\n",
      "313:\tlearn: -0.0389558\ttotal: 9.79s\tremaining: 21.4s\n",
      "314:\tlearn: -0.0387326\ttotal: 9.83s\tremaining: 21.4s\n",
      "315:\tlearn: -0.0385967\ttotal: 9.86s\tremaining: 21.3s\n"
     ]
    },
    {
     "name": "stdout",
     "output_type": "stream",
     "text": [
      "316:\tlearn: -0.0384648\ttotal: 9.89s\tremaining: 21.3s\n",
      "317:\tlearn: -0.0381974\ttotal: 9.92s\tremaining: 21.3s\n",
      "318:\tlearn: -0.0380419\ttotal: 9.96s\tremaining: 21.3s\n",
      "319:\tlearn: -0.0378700\ttotal: 9.98s\tremaining: 21.2s\n",
      "320:\tlearn: -0.0377040\ttotal: 10s\tremaining: 21.2s\n",
      "321:\tlearn: -0.0374640\ttotal: 10s\tremaining: 21.2s\n",
      "322:\tlearn: -0.0372196\ttotal: 10.1s\tremaining: 21.1s\n",
      "323:\tlearn: -0.0370171\ttotal: 10.1s\tremaining: 21.1s\n",
      "324:\tlearn: -0.0367220\ttotal: 10.1s\tremaining: 21.1s\n",
      "325:\tlearn: -0.0364847\ttotal: 10.2s\tremaining: 21s\n",
      "326:\tlearn: -0.0363197\ttotal: 10.2s\tremaining: 21s\n",
      "327:\tlearn: -0.0361501\ttotal: 10.2s\tremaining: 21s\n",
      "328:\tlearn: -0.0359091\ttotal: 10.3s\tremaining: 20.9s\n",
      "329:\tlearn: -0.0356056\ttotal: 10.3s\tremaining: 20.9s\n",
      "330:\tlearn: -0.0354583\ttotal: 10.3s\tremaining: 20.9s\n",
      "331:\tlearn: -0.0353821\ttotal: 10.4s\tremaining: 20.8s\n",
      "332:\tlearn: -0.0351341\ttotal: 10.4s\tremaining: 20.8s\n",
      "333:\tlearn: -0.0349286\ttotal: 10.4s\tremaining: 20.8s\n",
      "334:\tlearn: -0.0347299\ttotal: 10.4s\tremaining: 20.7s\n",
      "335:\tlearn: -0.0345929\ttotal: 10.5s\tremaining: 20.7s\n",
      "336:\tlearn: -0.0344638\ttotal: 10.5s\tremaining: 20.7s\n",
      "337:\tlearn: -0.0342783\ttotal: 10.5s\tremaining: 20.6s\n",
      "338:\tlearn: -0.0341400\ttotal: 10.6s\tremaining: 20.6s\n",
      "339:\tlearn: -0.0339471\ttotal: 10.6s\tremaining: 20.6s\n",
      "340:\tlearn: -0.0338426\ttotal: 10.6s\tremaining: 20.5s\n",
      "341:\tlearn: -0.0336879\ttotal: 10.7s\tremaining: 20.5s\n",
      "342:\tlearn: -0.0335284\ttotal: 10.7s\tremaining: 20.5s\n",
      "343:\tlearn: -0.0333941\ttotal: 10.7s\tremaining: 20.4s\n",
      "344:\tlearn: -0.0332189\ttotal: 10.7s\tremaining: 20.4s\n",
      "345:\tlearn: -0.0331041\ttotal: 10.8s\tremaining: 20.4s\n",
      "346:\tlearn: -0.0329634\ttotal: 10.8s\tremaining: 20.3s\n",
      "347:\tlearn: -0.0328569\ttotal: 10.8s\tremaining: 20.3s\n",
      "348:\tlearn: -0.0326979\ttotal: 10.9s\tremaining: 20.3s\n",
      "349:\tlearn: -0.0325465\ttotal: 10.9s\tremaining: 20.3s\n",
      "350:\tlearn: -0.0323285\ttotal: 10.9s\tremaining: 20.2s\n",
      "351:\tlearn: -0.0321668\ttotal: 11s\tremaining: 20.2s\n",
      "352:\tlearn: -0.0320145\ttotal: 11s\tremaining: 20.2s\n",
      "353:\tlearn: -0.0318930\ttotal: 11s\tremaining: 20.1s\n",
      "354:\tlearn: -0.0318205\ttotal: 11.1s\tremaining: 20.1s\n",
      "355:\tlearn: -0.0317088\ttotal: 11.1s\tremaining: 20.1s\n",
      "356:\tlearn: -0.0316037\ttotal: 11.1s\tremaining: 20s\n",
      "357:\tlearn: -0.0314544\ttotal: 11.2s\tremaining: 20s\n",
      "358:\tlearn: -0.0313323\ttotal: 11.2s\tremaining: 20s\n",
      "359:\tlearn: -0.0312426\ttotal: 11.2s\tremaining: 19.9s\n",
      "360:\tlearn: -0.0310753\ttotal: 11.2s\tremaining: 19.9s\n",
      "361:\tlearn: -0.0309545\ttotal: 11.3s\tremaining: 19.9s\n",
      "362:\tlearn: -0.0308087\ttotal: 11.3s\tremaining: 19.8s\n",
      "363:\tlearn: -0.0307186\ttotal: 11.3s\tremaining: 19.8s\n",
      "364:\tlearn: -0.0305411\ttotal: 11.4s\tremaining: 19.8s\n",
      "365:\tlearn: -0.0304357\ttotal: 11.4s\tremaining: 19.7s\n",
      "366:\tlearn: -0.0303672\ttotal: 11.4s\tremaining: 19.7s\n",
      "367:\tlearn: -0.0302364\ttotal: 11.5s\tremaining: 19.7s\n",
      "368:\tlearn: -0.0301351\ttotal: 11.5s\tremaining: 19.6s\n",
      "369:\tlearn: -0.0300056\ttotal: 11.5s\tremaining: 19.6s\n",
      "370:\tlearn: -0.0298895\ttotal: 11.5s\tremaining: 19.6s\n",
      "371:\tlearn: -0.0297830\ttotal: 11.6s\tremaining: 19.5s\n",
      "372:\tlearn: -0.0296201\ttotal: 11.6s\tremaining: 19.5s\n",
      "373:\tlearn: -0.0294097\ttotal: 11.6s\tremaining: 19.5s\n",
      "374:\tlearn: -0.0293090\ttotal: 11.7s\tremaining: 19.5s\n",
      "375:\tlearn: -0.0291725\ttotal: 11.7s\tremaining: 19.4s\n",
      "376:\tlearn: -0.0290711\ttotal: 11.7s\tremaining: 19.4s\n",
      "377:\tlearn: -0.0289217\ttotal: 11.8s\tremaining: 19.4s\n",
      "378:\tlearn: -0.0288176\ttotal: 11.8s\tremaining: 19.3s\n",
      "379:\tlearn: -0.0287243\ttotal: 11.8s\tremaining: 19.3s\n",
      "380:\tlearn: -0.0286250\ttotal: 11.9s\tremaining: 19.3s\n",
      "381:\tlearn: -0.0285460\ttotal: 11.9s\tremaining: 19.2s\n",
      "382:\tlearn: -0.0284346\ttotal: 11.9s\tremaining: 19.2s\n",
      "383:\tlearn: -0.0283462\ttotal: 11.9s\tremaining: 19.2s\n",
      "384:\tlearn: -0.0281908\ttotal: 12s\tremaining: 19.1s\n",
      "385:\tlearn: -0.0281238\ttotal: 12s\tremaining: 19.1s\n",
      "386:\tlearn: -0.0280363\ttotal: 12s\tremaining: 19.1s\n",
      "387:\tlearn: -0.0279047\ttotal: 12.1s\tremaining: 19s\n",
      "388:\tlearn: -0.0278530\ttotal: 12.1s\tremaining: 19s\n",
      "389:\tlearn: -0.0277813\ttotal: 12.1s\tremaining: 19s\n",
      "390:\tlearn: -0.0276731\ttotal: 12.2s\tremaining: 18.9s\n",
      "391:\tlearn: -0.0275780\ttotal: 12.2s\tremaining: 18.9s\n",
      "392:\tlearn: -0.0274724\ttotal: 12.2s\tremaining: 18.9s\n",
      "393:\tlearn: -0.0273751\ttotal: 12.3s\tremaining: 18.8s\n",
      "394:\tlearn: -0.0273329\ttotal: 12.3s\tremaining: 18.8s\n",
      "395:\tlearn: -0.0272355\ttotal: 12.3s\tremaining: 18.8s\n",
      "396:\tlearn: -0.0271563\ttotal: 12.3s\tremaining: 18.7s\n",
      "397:\tlearn: -0.0270433\ttotal: 12.4s\tremaining: 18.7s\n",
      "398:\tlearn: -0.0269588\ttotal: 12.4s\tremaining: 18.7s\n",
      "399:\tlearn: -0.0268220\ttotal: 12.4s\tremaining: 18.7s\n",
      "400:\tlearn: -0.0267137\ttotal: 12.5s\tremaining: 18.6s\n",
      "401:\tlearn: -0.0265980\ttotal: 12.5s\tremaining: 18.6s\n",
      "402:\tlearn: -0.0265157\ttotal: 12.5s\tremaining: 18.6s\n",
      "403:\tlearn: -0.0263943\ttotal: 12.6s\tremaining: 18.5s\n",
      "404:\tlearn: -0.0263267\ttotal: 12.6s\tremaining: 18.5s\n",
      "405:\tlearn: -0.0262505\ttotal: 12.6s\tremaining: 18.5s\n",
      "406:\tlearn: -0.0261433\ttotal: 12.6s\tremaining: 18.4s\n",
      "407:\tlearn: -0.0260716\ttotal: 12.7s\tremaining: 18.4s\n",
      "408:\tlearn: -0.0259263\ttotal: 12.7s\tremaining: 18.4s\n",
      "409:\tlearn: -0.0257785\ttotal: 12.7s\tremaining: 18.3s\n",
      "410:\tlearn: -0.0256565\ttotal: 12.8s\tremaining: 18.3s\n",
      "411:\tlearn: -0.0255880\ttotal: 12.8s\tremaining: 18.3s\n",
      "412:\tlearn: -0.0254918\ttotal: 12.8s\tremaining: 18.2s\n",
      "413:\tlearn: -0.0253552\ttotal: 12.9s\tremaining: 18.2s\n",
      "414:\tlearn: -0.0252240\ttotal: 12.9s\tremaining: 18.2s\n",
      "415:\tlearn: -0.0251533\ttotal: 12.9s\tremaining: 18.1s\n",
      "416:\tlearn: -0.0250673\ttotal: 13s\tremaining: 18.1s\n",
      "417:\tlearn: -0.0249455\ttotal: 13s\tremaining: 18.1s\n",
      "418:\tlearn: -0.0248704\ttotal: 13s\tremaining: 18.1s\n",
      "419:\tlearn: -0.0247773\ttotal: 13.1s\tremaining: 18s\n",
      "420:\tlearn: -0.0247307\ttotal: 13.1s\tremaining: 18s\n",
      "421:\tlearn: -0.0246615\ttotal: 13.1s\tremaining: 18s\n",
      "422:\tlearn: -0.0245723\ttotal: 13.2s\tremaining: 17.9s\n",
      "423:\tlearn: -0.0244348\ttotal: 13.2s\tremaining: 17.9s\n",
      "424:\tlearn: -0.0243353\ttotal: 13.2s\tremaining: 17.9s\n",
      "425:\tlearn: -0.0242410\ttotal: 13.2s\tremaining: 17.8s\n",
      "426:\tlearn: -0.0240971\ttotal: 13.3s\tremaining: 17.8s\n",
      "427:\tlearn: -0.0239861\ttotal: 13.3s\tremaining: 17.8s\n",
      "428:\tlearn: -0.0239346\ttotal: 13.3s\tremaining: 17.8s\n",
      "429:\tlearn: -0.0238756\ttotal: 13.4s\tremaining: 17.7s\n",
      "430:\tlearn: -0.0237897\ttotal: 13.4s\tremaining: 17.7s\n",
      "431:\tlearn: -0.0237191\ttotal: 13.4s\tremaining: 17.7s\n",
      "432:\tlearn: -0.0236401\ttotal: 13.5s\tremaining: 17.6s\n",
      "433:\tlearn: -0.0235677\ttotal: 13.5s\tremaining: 17.6s\n",
      "434:\tlearn: -0.0235177\ttotal: 13.5s\tremaining: 17.6s\n",
      "435:\tlearn: -0.0234039\ttotal: 13.6s\tremaining: 17.5s\n",
      "436:\tlearn: -0.0233755\ttotal: 13.6s\tremaining: 17.5s\n",
      "437:\tlearn: -0.0233086\ttotal: 13.6s\tremaining: 17.5s\n",
      "438:\tlearn: -0.0232522\ttotal: 13.6s\tremaining: 17.4s\n",
      "439:\tlearn: -0.0231768\ttotal: 13.7s\tremaining: 17.4s\n",
      "440:\tlearn: -0.0231279\ttotal: 13.7s\tremaining: 17.4s\n",
      "441:\tlearn: -0.0229936\ttotal: 13.7s\tremaining: 17.3s\n",
      "442:\tlearn: -0.0229021\ttotal: 13.8s\tremaining: 17.3s\n",
      "443:\tlearn: -0.0228388\ttotal: 13.8s\tremaining: 17.3s\n",
      "444:\tlearn: -0.0227977\ttotal: 13.8s\tremaining: 17.3s\n",
      "445:\tlearn: -0.0227556\ttotal: 13.9s\tremaining: 17.2s\n",
      "446:\tlearn: -0.0226889\ttotal: 13.9s\tremaining: 17.2s\n",
      "447:\tlearn: -0.0226463\ttotal: 13.9s\tremaining: 17.2s\n",
      "448:\tlearn: -0.0225599\ttotal: 14s\tremaining: 17.1s\n",
      "449:\tlearn: -0.0224608\ttotal: 14s\tremaining: 17.1s\n",
      "450:\tlearn: -0.0223857\ttotal: 14s\tremaining: 17.1s\n",
      "451:\tlearn: -0.0222641\ttotal: 14.1s\tremaining: 17s\n",
      "452:\tlearn: -0.0221957\ttotal: 14.1s\tremaining: 17s\n",
      "453:\tlearn: -0.0221390\ttotal: 14.1s\tremaining: 17s\n",
      "454:\tlearn: -0.0220639\ttotal: 14.1s\tremaining: 16.9s\n",
      "455:\tlearn: -0.0220081\ttotal: 14.2s\tremaining: 16.9s\n",
      "456:\tlearn: -0.0218924\ttotal: 14.2s\tremaining: 16.9s\n",
      "457:\tlearn: -0.0217986\ttotal: 14.2s\tremaining: 16.9s\n",
      "458:\tlearn: -0.0217350\ttotal: 14.3s\tremaining: 16.8s\n",
      "459:\tlearn: -0.0216595\ttotal: 14.3s\tremaining: 16.8s\n",
      "460:\tlearn: -0.0215303\ttotal: 14.3s\tremaining: 16.8s\n",
      "461:\tlearn: -0.0214718\ttotal: 14.4s\tremaining: 16.7s\n",
      "462:\tlearn: -0.0214181\ttotal: 14.4s\tremaining: 16.7s\n",
      "463:\tlearn: -0.0213465\ttotal: 14.4s\tremaining: 16.7s\n",
      "464:\tlearn: -0.0212611\ttotal: 14.5s\tremaining: 16.6s\n",
      "465:\tlearn: -0.0211950\ttotal: 14.5s\tremaining: 16.6s\n",
      "466:\tlearn: -0.0211100\ttotal: 14.5s\tremaining: 16.6s\n",
      "467:\tlearn: -0.0210190\ttotal: 14.5s\tremaining: 16.5s\n",
      "468:\tlearn: -0.0209444\ttotal: 14.6s\tremaining: 16.5s\n",
      "469:\tlearn: -0.0208831\ttotal: 14.6s\tremaining: 16.5s\n",
      "470:\tlearn: -0.0208187\ttotal: 14.6s\tremaining: 16.4s\n",
      "471:\tlearn: -0.0207698\ttotal: 14.7s\tremaining: 16.4s\n",
      "472:\tlearn: -0.0207013\ttotal: 14.7s\tremaining: 16.4s\n"
     ]
    },
    {
     "name": "stdout",
     "output_type": "stream",
     "text": [
      "473:\tlearn: -0.0206210\ttotal: 14.7s\tremaining: 16.4s\n",
      "474:\tlearn: -0.0205838\ttotal: 14.8s\tremaining: 16.3s\n",
      "475:\tlearn: -0.0205182\ttotal: 14.8s\tremaining: 16.3s\n",
      "476:\tlearn: -0.0204526\ttotal: 14.8s\tremaining: 16.3s\n",
      "477:\tlearn: -0.0203595\ttotal: 14.9s\tremaining: 16.2s\n",
      "478:\tlearn: -0.0203093\ttotal: 14.9s\tremaining: 16.2s\n",
      "479:\tlearn: -0.0202273\ttotal: 14.9s\tremaining: 16.2s\n",
      "480:\tlearn: -0.0201831\ttotal: 15s\tremaining: 16.1s\n",
      "481:\tlearn: -0.0201354\ttotal: 15s\tremaining: 16.1s\n",
      "482:\tlearn: -0.0200489\ttotal: 15s\tremaining: 16.1s\n",
      "483:\tlearn: -0.0199728\ttotal: 15s\tremaining: 16s\n",
      "484:\tlearn: -0.0199341\ttotal: 15.1s\tremaining: 16s\n",
      "485:\tlearn: -0.0198833\ttotal: 15.1s\tremaining: 16s\n",
      "486:\tlearn: -0.0198243\ttotal: 15.1s\tremaining: 16s\n",
      "487:\tlearn: -0.0197537\ttotal: 15.2s\tremaining: 15.9s\n",
      "488:\tlearn: -0.0197173\ttotal: 15.2s\tremaining: 15.9s\n",
      "489:\tlearn: -0.0196562\ttotal: 15.2s\tremaining: 15.9s\n",
      "490:\tlearn: -0.0195970\ttotal: 15.3s\tremaining: 15.8s\n",
      "491:\tlearn: -0.0195378\ttotal: 15.3s\tremaining: 15.8s\n",
      "492:\tlearn: -0.0194856\ttotal: 15.3s\tremaining: 15.8s\n",
      "493:\tlearn: -0.0194390\ttotal: 15.4s\tremaining: 15.7s\n",
      "494:\tlearn: -0.0193706\ttotal: 15.4s\tremaining: 15.7s\n",
      "495:\tlearn: -0.0193281\ttotal: 15.4s\tremaining: 15.7s\n",
      "496:\tlearn: -0.0192915\ttotal: 15.5s\tremaining: 15.6s\n",
      "497:\tlearn: -0.0192288\ttotal: 15.5s\tremaining: 15.6s\n",
      "498:\tlearn: -0.0191944\ttotal: 15.5s\tremaining: 15.6s\n",
      "499:\tlearn: -0.0191444\ttotal: 15.6s\tremaining: 15.6s\n",
      "500:\tlearn: -0.0191051\ttotal: 15.6s\tremaining: 15.5s\n",
      "501:\tlearn: -0.0190430\ttotal: 15.6s\tremaining: 15.5s\n",
      "502:\tlearn: -0.0189733\ttotal: 15.6s\tremaining: 15.5s\n",
      "503:\tlearn: -0.0188726\ttotal: 15.7s\tremaining: 15.4s\n",
      "504:\tlearn: -0.0188175\ttotal: 15.7s\tremaining: 15.4s\n",
      "505:\tlearn: -0.0187619\ttotal: 15.7s\tremaining: 15.4s\n",
      "506:\tlearn: -0.0186998\ttotal: 15.8s\tremaining: 15.3s\n",
      "507:\tlearn: -0.0186623\ttotal: 15.8s\tremaining: 15.3s\n",
      "508:\tlearn: -0.0185862\ttotal: 15.8s\tremaining: 15.3s\n",
      "509:\tlearn: -0.0185261\ttotal: 15.9s\tremaining: 15.2s\n",
      "510:\tlearn: -0.0184811\ttotal: 15.9s\tremaining: 15.2s\n",
      "511:\tlearn: -0.0184451\ttotal: 15.9s\tremaining: 15.2s\n",
      "512:\tlearn: -0.0183853\ttotal: 16s\tremaining: 15.1s\n",
      "513:\tlearn: -0.0183222\ttotal: 16s\tremaining: 15.1s\n",
      "514:\tlearn: -0.0182871\ttotal: 16s\tremaining: 15.1s\n",
      "515:\tlearn: -0.0182434\ttotal: 16s\tremaining: 15s\n",
      "516:\tlearn: -0.0182131\ttotal: 16.1s\tremaining: 15s\n",
      "517:\tlearn: -0.0181541\ttotal: 16.1s\tremaining: 15s\n",
      "518:\tlearn: -0.0180860\ttotal: 16.1s\tremaining: 15s\n",
      "519:\tlearn: -0.0180464\ttotal: 16.2s\tremaining: 14.9s\n",
      "520:\tlearn: -0.0180024\ttotal: 16.2s\tremaining: 14.9s\n",
      "521:\tlearn: -0.0179525\ttotal: 16.2s\tremaining: 14.9s\n",
      "522:\tlearn: -0.0178946\ttotal: 16.3s\tremaining: 14.8s\n",
      "523:\tlearn: -0.0178141\ttotal: 16.3s\tremaining: 14.8s\n",
      "524:\tlearn: -0.0177464\ttotal: 16.3s\tremaining: 14.8s\n",
      "525:\tlearn: -0.0176999\ttotal: 16.4s\tremaining: 14.7s\n",
      "526:\tlearn: -0.0176641\ttotal: 16.4s\tremaining: 14.7s\n",
      "527:\tlearn: -0.0176006\ttotal: 16.4s\tremaining: 14.7s\n",
      "528:\tlearn: -0.0175524\ttotal: 16.4s\tremaining: 14.6s\n",
      "529:\tlearn: -0.0175152\ttotal: 16.5s\tremaining: 14.6s\n",
      "530:\tlearn: -0.0174851\ttotal: 16.5s\tremaining: 14.6s\n",
      "531:\tlearn: -0.0174551\ttotal: 16.5s\tremaining: 14.6s\n",
      "532:\tlearn: -0.0173860\ttotal: 16.6s\tremaining: 14.5s\n",
      "533:\tlearn: -0.0173118\ttotal: 16.6s\tremaining: 14.5s\n",
      "534:\tlearn: -0.0172742\ttotal: 16.6s\tremaining: 14.5s\n",
      "535:\tlearn: -0.0172247\ttotal: 16.7s\tremaining: 14.4s\n",
      "536:\tlearn: -0.0171964\ttotal: 16.7s\tremaining: 14.4s\n",
      "537:\tlearn: -0.0171510\ttotal: 16.7s\tremaining: 14.4s\n",
      "538:\tlearn: -0.0171181\ttotal: 16.8s\tremaining: 14.3s\n",
      "539:\tlearn: -0.0170911\ttotal: 16.8s\tremaining: 14.3s\n",
      "540:\tlearn: -0.0170640\ttotal: 16.8s\tremaining: 14.3s\n",
      "541:\tlearn: -0.0170288\ttotal: 16.8s\tremaining: 14.2s\n",
      "542:\tlearn: -0.0169698\ttotal: 16.9s\tremaining: 14.2s\n",
      "543:\tlearn: -0.0169174\ttotal: 16.9s\tremaining: 14.2s\n",
      "544:\tlearn: -0.0168870\ttotal: 17s\tremaining: 14.2s\n",
      "545:\tlearn: -0.0168511\ttotal: 17s\tremaining: 14.1s\n",
      "546:\tlearn: -0.0168012\ttotal: 17s\tremaining: 14.1s\n",
      "547:\tlearn: -0.0167522\ttotal: 17s\tremaining: 14.1s\n",
      "548:\tlearn: -0.0167112\ttotal: 17.1s\tremaining: 14s\n",
      "549:\tlearn: -0.0166715\ttotal: 17.1s\tremaining: 14s\n",
      "550:\tlearn: -0.0166068\ttotal: 17.1s\tremaining: 14s\n",
      "551:\tlearn: -0.0165661\ttotal: 17.2s\tremaining: 13.9s\n",
      "552:\tlearn: -0.0165524\ttotal: 17.2s\tremaining: 13.9s\n",
      "553:\tlearn: -0.0165174\ttotal: 17.2s\tremaining: 13.9s\n",
      "554:\tlearn: -0.0164924\ttotal: 17.3s\tremaining: 13.8s\n",
      "555:\tlearn: -0.0164399\ttotal: 17.3s\tremaining: 13.8s\n",
      "556:\tlearn: -0.0164057\ttotal: 17.3s\tremaining: 13.8s\n",
      "557:\tlearn: -0.0163679\ttotal: 17.4s\tremaining: 13.8s\n",
      "558:\tlearn: -0.0163397\ttotal: 17.4s\tremaining: 13.7s\n",
      "559:\tlearn: -0.0163082\ttotal: 17.4s\tremaining: 13.7s\n",
      "560:\tlearn: -0.0162792\ttotal: 17.5s\tremaining: 13.7s\n",
      "561:\tlearn: -0.0162471\ttotal: 17.5s\tremaining: 13.6s\n",
      "562:\tlearn: -0.0161980\ttotal: 17.5s\tremaining: 13.6s\n",
      "563:\tlearn: -0.0161391\ttotal: 17.6s\tremaining: 13.6s\n",
      "564:\tlearn: -0.0160929\ttotal: 17.6s\tremaining: 13.5s\n",
      "565:\tlearn: -0.0160499\ttotal: 17.6s\tremaining: 13.5s\n",
      "566:\tlearn: -0.0160007\ttotal: 17.6s\tremaining: 13.5s\n",
      "567:\tlearn: -0.0159652\ttotal: 17.7s\tremaining: 13.4s\n",
      "568:\tlearn: -0.0159299\ttotal: 17.7s\tremaining: 13.4s\n",
      "569:\tlearn: -0.0158941\ttotal: 17.7s\tremaining: 13.4s\n",
      "570:\tlearn: -0.0158509\ttotal: 17.8s\tremaining: 13.3s\n",
      "571:\tlearn: -0.0158236\ttotal: 17.8s\tremaining: 13.3s\n",
      "572:\tlearn: -0.0157831\ttotal: 17.8s\tremaining: 13.3s\n",
      "573:\tlearn: -0.0157477\ttotal: 17.9s\tremaining: 13.3s\n",
      "574:\tlearn: -0.0156774\ttotal: 17.9s\tremaining: 13.2s\n",
      "575:\tlearn: -0.0156333\ttotal: 17.9s\tremaining: 13.2s\n",
      "576:\tlearn: -0.0155879\ttotal: 17.9s\tremaining: 13.2s\n",
      "577:\tlearn: -0.0155421\ttotal: 18s\tremaining: 13.1s\n",
      "578:\tlearn: -0.0155219\ttotal: 18s\tremaining: 13.1s\n",
      "579:\tlearn: -0.0154926\ttotal: 18s\tremaining: 13.1s\n",
      "580:\tlearn: -0.0154514\ttotal: 18.1s\tremaining: 13s\n",
      "581:\tlearn: -0.0154169\ttotal: 18.1s\tremaining: 13s\n",
      "582:\tlearn: -0.0153830\ttotal: 18.1s\tremaining: 13s\n",
      "583:\tlearn: -0.0153140\ttotal: 18.2s\tremaining: 13s\n",
      "584:\tlearn: -0.0152978\ttotal: 18.2s\tremaining: 12.9s\n",
      "585:\tlearn: -0.0152739\ttotal: 18.2s\tremaining: 12.9s\n",
      "586:\tlearn: -0.0152393\ttotal: 18.3s\tremaining: 12.9s\n",
      "587:\tlearn: -0.0152083\ttotal: 18.3s\tremaining: 12.8s\n",
      "588:\tlearn: -0.0151595\ttotal: 18.3s\tremaining: 12.8s\n",
      "589:\tlearn: -0.0151179\ttotal: 18.4s\tremaining: 12.8s\n",
      "590:\tlearn: -0.0150918\ttotal: 18.4s\tremaining: 12.7s\n",
      "591:\tlearn: -0.0150580\ttotal: 18.4s\tremaining: 12.7s\n",
      "592:\tlearn: -0.0150302\ttotal: 18.5s\tremaining: 12.7s\n",
      "593:\tlearn: -0.0150025\ttotal: 18.5s\tremaining: 12.6s\n",
      "594:\tlearn: -0.0149728\ttotal: 18.5s\tremaining: 12.6s\n",
      "595:\tlearn: -0.0149416\ttotal: 18.6s\tremaining: 12.6s\n",
      "596:\tlearn: -0.0149060\ttotal: 18.6s\tremaining: 12.5s\n",
      "597:\tlearn: -0.0148558\ttotal: 18.6s\tremaining: 12.5s\n",
      "598:\tlearn: -0.0148326\ttotal: 18.6s\tremaining: 12.5s\n",
      "599:\tlearn: -0.0148044\ttotal: 18.7s\tremaining: 12.4s\n",
      "600:\tlearn: -0.0147796\ttotal: 18.7s\tremaining: 12.4s\n",
      "601:\tlearn: -0.0147431\ttotal: 18.7s\tremaining: 12.4s\n",
      "602:\tlearn: -0.0146970\ttotal: 18.8s\tremaining: 12.4s\n",
      "603:\tlearn: -0.0146683\ttotal: 18.8s\tremaining: 12.3s\n",
      "604:\tlearn: -0.0146556\ttotal: 18.8s\tremaining: 12.3s\n",
      "605:\tlearn: -0.0146335\ttotal: 18.9s\tremaining: 12.3s\n",
      "606:\tlearn: -0.0146004\ttotal: 18.9s\tremaining: 12.2s\n",
      "607:\tlearn: -0.0145547\ttotal: 18.9s\tremaining: 12.2s\n",
      "608:\tlearn: -0.0145250\ttotal: 19s\tremaining: 12.2s\n",
      "609:\tlearn: -0.0144714\ttotal: 19s\tremaining: 12.1s\n",
      "610:\tlearn: -0.0144392\ttotal: 19s\tremaining: 12.1s\n",
      "611:\tlearn: -0.0144079\ttotal: 19.1s\tremaining: 12.1s\n",
      "612:\tlearn: -0.0143864\ttotal: 19.1s\tremaining: 12s\n",
      "613:\tlearn: -0.0143533\ttotal: 19.1s\tremaining: 12s\n",
      "614:\tlearn: -0.0143186\ttotal: 19.1s\tremaining: 12s\n",
      "615:\tlearn: -0.0143040\ttotal: 19.2s\tremaining: 12s\n",
      "616:\tlearn: -0.0142897\ttotal: 19.2s\tremaining: 11.9s\n",
      "617:\tlearn: -0.0142584\ttotal: 19.2s\tremaining: 11.9s\n",
      "618:\tlearn: -0.0142270\ttotal: 19.3s\tremaining: 11.9s\n",
      "619:\tlearn: -0.0141832\ttotal: 19.3s\tremaining: 11.8s\n",
      "620:\tlearn: -0.0141454\ttotal: 19.3s\tremaining: 11.8s\n",
      "621:\tlearn: -0.0141036\ttotal: 19.4s\tremaining: 11.8s\n",
      "622:\tlearn: -0.0140727\ttotal: 19.4s\tremaining: 11.7s\n",
      "623:\tlearn: -0.0140469\ttotal: 19.4s\tremaining: 11.7s\n",
      "624:\tlearn: -0.0140268\ttotal: 19.5s\tremaining: 11.7s\n",
      "625:\tlearn: -0.0140011\ttotal: 19.5s\tremaining: 11.6s\n",
      "626:\tlearn: -0.0139778\ttotal: 19.5s\tremaining: 11.6s\n",
      "627:\tlearn: -0.0139563\ttotal: 19.5s\tremaining: 11.6s\n",
      "628:\tlearn: -0.0139282\ttotal: 19.6s\tremaining: 11.5s\n"
     ]
    },
    {
     "name": "stdout",
     "output_type": "stream",
     "text": [
      "629:\tlearn: -0.0139026\ttotal: 19.6s\tremaining: 11.5s\n",
      "630:\tlearn: -0.0138639\ttotal: 19.6s\tremaining: 11.5s\n",
      "631:\tlearn: -0.0138470\ttotal: 19.7s\tremaining: 11.5s\n",
      "632:\tlearn: -0.0138112\ttotal: 19.7s\tremaining: 11.4s\n",
      "633:\tlearn: -0.0137588\ttotal: 19.7s\tremaining: 11.4s\n",
      "634:\tlearn: -0.0137340\ttotal: 19.8s\tremaining: 11.4s\n",
      "635:\tlearn: -0.0137008\ttotal: 19.8s\tremaining: 11.3s\n",
      "636:\tlearn: -0.0136617\ttotal: 19.8s\tremaining: 11.3s\n",
      "637:\tlearn: -0.0136354\ttotal: 19.9s\tremaining: 11.3s\n",
      "638:\tlearn: -0.0135958\ttotal: 19.9s\tremaining: 11.2s\n",
      "639:\tlearn: -0.0135567\ttotal: 19.9s\tremaining: 11.2s\n",
      "640:\tlearn: -0.0135392\ttotal: 19.9s\tremaining: 11.2s\n",
      "641:\tlearn: -0.0135059\ttotal: 20s\tremaining: 11.1s\n",
      "642:\tlearn: -0.0134970\ttotal: 20s\tremaining: 11.1s\n",
      "643:\tlearn: -0.0134651\ttotal: 20s\tremaining: 11.1s\n",
      "644:\tlearn: -0.0134346\ttotal: 20.1s\tremaining: 11s\n",
      "645:\tlearn: -0.0134109\ttotal: 20.1s\tremaining: 11s\n",
      "646:\tlearn: -0.0133938\ttotal: 20.1s\tremaining: 11s\n",
      "647:\tlearn: -0.0133628\ttotal: 20.2s\tremaining: 10.9s\n",
      "648:\tlearn: -0.0133322\ttotal: 20.2s\tremaining: 10.9s\n",
      "649:\tlearn: -0.0133083\ttotal: 20.2s\tremaining: 10.9s\n",
      "650:\tlearn: -0.0132915\ttotal: 20.3s\tremaining: 10.9s\n",
      "651:\tlearn: -0.0132649\ttotal: 20.3s\tremaining: 10.8s\n",
      "652:\tlearn: -0.0132289\ttotal: 20.3s\tremaining: 10.8s\n",
      "653:\tlearn: -0.0132097\ttotal: 20.4s\tremaining: 10.8s\n",
      "654:\tlearn: -0.0131813\ttotal: 20.4s\tremaining: 10.7s\n",
      "655:\tlearn: -0.0131551\ttotal: 20.4s\tremaining: 10.7s\n",
      "656:\tlearn: -0.0131177\ttotal: 20.4s\tremaining: 10.7s\n",
      "657:\tlearn: -0.0130887\ttotal: 20.5s\tremaining: 10.6s\n",
      "658:\tlearn: -0.0130740\ttotal: 20.5s\tremaining: 10.6s\n",
      "659:\tlearn: -0.0130270\ttotal: 20.5s\tremaining: 10.6s\n",
      "660:\tlearn: -0.0129824\ttotal: 20.6s\tremaining: 10.5s\n",
      "661:\tlearn: -0.0129609\ttotal: 20.6s\tremaining: 10.5s\n",
      "662:\tlearn: -0.0129256\ttotal: 20.6s\tremaining: 10.5s\n",
      "663:\tlearn: -0.0128911\ttotal: 20.7s\tremaining: 10.5s\n",
      "664:\tlearn: -0.0128560\ttotal: 20.7s\tremaining: 10.4s\n",
      "665:\tlearn: -0.0128268\ttotal: 20.7s\tremaining: 10.4s\n",
      "666:\tlearn: -0.0128071\ttotal: 20.8s\tremaining: 10.4s\n",
      "667:\tlearn: -0.0127876\ttotal: 20.8s\tremaining: 10.3s\n",
      "668:\tlearn: -0.0127535\ttotal: 20.8s\tremaining: 10.3s\n",
      "669:\tlearn: -0.0127305\ttotal: 20.8s\tremaining: 10.3s\n",
      "670:\tlearn: -0.0126955\ttotal: 20.9s\tremaining: 10.2s\n",
      "671:\tlearn: -0.0126693\ttotal: 20.9s\tremaining: 10.2s\n",
      "672:\tlearn: -0.0126528\ttotal: 20.9s\tremaining: 10.2s\n",
      "673:\tlearn: -0.0126237\ttotal: 21s\tremaining: 10.1s\n",
      "674:\tlearn: -0.0125991\ttotal: 21s\tremaining: 10.1s\n",
      "675:\tlearn: -0.0125760\ttotal: 21s\tremaining: 10.1s\n",
      "676:\tlearn: -0.0125452\ttotal: 21.1s\tremaining: 10s\n",
      "677:\tlearn: -0.0125122\ttotal: 21.1s\tremaining: 10s\n",
      "678:\tlearn: -0.0124749\ttotal: 21.1s\tremaining: 9.98s\n",
      "679:\tlearn: -0.0124617\ttotal: 21.1s\tremaining: 9.95s\n",
      "680:\tlearn: -0.0124243\ttotal: 21.2s\tremaining: 9.92s\n",
      "681:\tlearn: -0.0124022\ttotal: 21.2s\tremaining: 9.89s\n",
      "682:\tlearn: -0.0123803\ttotal: 21.2s\tremaining: 9.86s\n",
      "683:\tlearn: -0.0123529\ttotal: 21.3s\tremaining: 9.83s\n",
      "684:\tlearn: -0.0123346\ttotal: 21.3s\tremaining: 9.8s\n",
      "685:\tlearn: -0.0123120\ttotal: 21.3s\tremaining: 9.77s\n",
      "686:\tlearn: -0.0122826\ttotal: 21.4s\tremaining: 9.73s\n",
      "687:\tlearn: -0.0122357\ttotal: 21.4s\tremaining: 9.7s\n",
      "688:\tlearn: -0.0122086\ttotal: 21.4s\tremaining: 9.67s\n",
      "689:\tlearn: -0.0121875\ttotal: 21.5s\tremaining: 9.64s\n",
      "690:\tlearn: -0.0121614\ttotal: 21.5s\tremaining: 9.61s\n",
      "691:\tlearn: -0.0121424\ttotal: 21.5s\tremaining: 9.58s\n",
      "692:\tlearn: -0.0121211\ttotal: 21.6s\tremaining: 9.55s\n",
      "693:\tlearn: -0.0120999\ttotal: 21.6s\tremaining: 9.52s\n",
      "694:\tlearn: -0.0120786\ttotal: 21.6s\tremaining: 9.48s\n",
      "695:\tlearn: -0.0120363\ttotal: 21.6s\tremaining: 9.45s\n",
      "696:\tlearn: -0.0120179\ttotal: 21.7s\tremaining: 9.42s\n",
      "697:\tlearn: -0.0119931\ttotal: 21.7s\tremaining: 9.39s\n",
      "698:\tlearn: -0.0119638\ttotal: 21.7s\tremaining: 9.37s\n",
      "699:\tlearn: -0.0119378\ttotal: 21.8s\tremaining: 9.33s\n",
      "700:\tlearn: -0.0119079\ttotal: 21.8s\tremaining: 9.3s\n",
      "701:\tlearn: -0.0118797\ttotal: 21.8s\tremaining: 9.27s\n",
      "702:\tlearn: -0.0118707\ttotal: 21.9s\tremaining: 9.24s\n",
      "703:\tlearn: -0.0118616\ttotal: 21.9s\tremaining: 9.21s\n",
      "704:\tlearn: -0.0118407\ttotal: 21.9s\tremaining: 9.18s\n",
      "705:\tlearn: -0.0118227\ttotal: 22s\tremaining: 9.14s\n",
      "706:\tlearn: -0.0117918\ttotal: 22s\tremaining: 9.11s\n",
      "707:\tlearn: -0.0117739\ttotal: 22s\tremaining: 9.08s\n",
      "708:\tlearn: -0.0117504\ttotal: 22.1s\tremaining: 9.05s\n",
      "709:\tlearn: -0.0117381\ttotal: 22.1s\tremaining: 9.02s\n",
      "710:\tlearn: -0.0117174\ttotal: 22.1s\tremaining: 8.99s\n",
      "711:\tlearn: -0.0117020\ttotal: 22.1s\tremaining: 8.96s\n",
      "712:\tlearn: -0.0116865\ttotal: 22.2s\tremaining: 8.93s\n",
      "713:\tlearn: -0.0116696\ttotal: 22.2s\tremaining: 8.89s\n",
      "714:\tlearn: -0.0116515\ttotal: 22.2s\tremaining: 8.86s\n",
      "715:\tlearn: -0.0116290\ttotal: 22.3s\tremaining: 8.83s\n",
      "716:\tlearn: -0.0116113\ttotal: 22.3s\tremaining: 8.8s\n",
      "717:\tlearn: -0.0115893\ttotal: 22.3s\tremaining: 8.77s\n",
      "718:\tlearn: -0.0115647\ttotal: 22.4s\tremaining: 8.74s\n",
      "719:\tlearn: -0.0115448\ttotal: 22.4s\tremaining: 8.71s\n",
      "720:\tlearn: -0.0115184\ttotal: 22.4s\tremaining: 8.67s\n",
      "721:\tlearn: -0.0114917\ttotal: 22.4s\tremaining: 8.64s\n",
      "722:\tlearn: -0.0114796\ttotal: 22.5s\tremaining: 8.61s\n",
      "723:\tlearn: -0.0114607\ttotal: 22.5s\tremaining: 8.58s\n",
      "724:\tlearn: -0.0114196\ttotal: 22.5s\tremaining: 8.55s\n",
      "725:\tlearn: -0.0113990\ttotal: 22.6s\tremaining: 8.52s\n",
      "726:\tlearn: -0.0113860\ttotal: 22.6s\tremaining: 8.48s\n",
      "727:\tlearn: -0.0113588\ttotal: 22.6s\tremaining: 8.46s\n",
      "728:\tlearn: -0.0113420\ttotal: 22.7s\tremaining: 8.42s\n",
      "729:\tlearn: -0.0113212\ttotal: 22.7s\tremaining: 8.39s\n",
      "730:\tlearn: -0.0112988\ttotal: 22.7s\tremaining: 8.36s\n",
      "731:\tlearn: -0.0112749\ttotal: 22.8s\tremaining: 8.33s\n",
      "732:\tlearn: -0.0112448\ttotal: 22.8s\tremaining: 8.3s\n",
      "733:\tlearn: -0.0112127\ttotal: 22.8s\tremaining: 8.27s\n",
      "734:\tlearn: -0.0111926\ttotal: 22.8s\tremaining: 8.24s\n",
      "735:\tlearn: -0.0111771\ttotal: 22.9s\tremaining: 8.2s\n",
      "736:\tlearn: -0.0111636\ttotal: 22.9s\tremaining: 8.17s\n",
      "737:\tlearn: -0.0111398\ttotal: 22.9s\tremaining: 8.14s\n",
      "738:\tlearn: -0.0111161\ttotal: 23s\tremaining: 8.11s\n",
      "739:\tlearn: -0.0110912\ttotal: 23s\tremaining: 8.08s\n",
      "740:\tlearn: -0.0110639\ttotal: 23s\tremaining: 8.05s\n",
      "741:\tlearn: -0.0110487\ttotal: 23.1s\tremaining: 8.02s\n",
      "742:\tlearn: -0.0110352\ttotal: 23.1s\tremaining: 7.99s\n",
      "743:\tlearn: -0.0110140\ttotal: 23.1s\tremaining: 7.95s\n",
      "744:\tlearn: -0.0109909\ttotal: 23.1s\tremaining: 7.92s\n",
      "745:\tlearn: -0.0109761\ttotal: 23.2s\tremaining: 7.89s\n",
      "746:\tlearn: -0.0109591\ttotal: 23.2s\tremaining: 7.86s\n",
      "747:\tlearn: -0.0109408\ttotal: 23.2s\tremaining: 7.83s\n",
      "748:\tlearn: -0.0109214\ttotal: 23.3s\tremaining: 7.8s\n",
      "749:\tlearn: -0.0109031\ttotal: 23.3s\tremaining: 7.76s\n",
      "750:\tlearn: -0.0108837\ttotal: 23.3s\tremaining: 7.73s\n",
      "751:\tlearn: -0.0108534\ttotal: 23.4s\tremaining: 7.7s\n",
      "752:\tlearn: -0.0108418\ttotal: 23.4s\tremaining: 7.67s\n",
      "753:\tlearn: -0.0108153\ttotal: 23.4s\tremaining: 7.64s\n",
      "754:\tlearn: -0.0108002\ttotal: 23.4s\tremaining: 7.61s\n",
      "755:\tlearn: -0.0107805\ttotal: 23.5s\tremaining: 7.58s\n",
      "756:\tlearn: -0.0107655\ttotal: 23.5s\tremaining: 7.54s\n",
      "757:\tlearn: -0.0107479\ttotal: 23.5s\tremaining: 7.51s\n",
      "758:\tlearn: -0.0107296\ttotal: 23.6s\tremaining: 7.48s\n",
      "759:\tlearn: -0.0107034\ttotal: 23.6s\tremaining: 7.45s\n",
      "760:\tlearn: -0.0106882\ttotal: 23.6s\tremaining: 7.42s\n",
      "761:\tlearn: -0.0106777\ttotal: 23.7s\tremaining: 7.39s\n",
      "762:\tlearn: -0.0106584\ttotal: 23.7s\tremaining: 7.36s\n",
      "763:\tlearn: -0.0106312\ttotal: 23.7s\tremaining: 7.33s\n",
      "764:\tlearn: -0.0106223\ttotal: 23.8s\tremaining: 7.3s\n",
      "765:\tlearn: -0.0106048\ttotal: 23.8s\tremaining: 7.26s\n",
      "766:\tlearn: -0.0105941\ttotal: 23.8s\tremaining: 7.23s\n",
      "767:\tlearn: -0.0105774\ttotal: 23.8s\tremaining: 7.2s\n",
      "768:\tlearn: -0.0105615\ttotal: 23.9s\tremaining: 7.17s\n",
      "769:\tlearn: -0.0105367\ttotal: 23.9s\tremaining: 7.14s\n",
      "770:\tlearn: -0.0105207\ttotal: 23.9s\tremaining: 7.11s\n",
      "771:\tlearn: -0.0105039\ttotal: 24s\tremaining: 7.08s\n",
      "772:\tlearn: -0.0104713\ttotal: 24s\tremaining: 7.04s\n",
      "773:\tlearn: -0.0104651\ttotal: 24s\tremaining: 7.01s\n",
      "774:\tlearn: -0.0104526\ttotal: 24s\tremaining: 6.98s\n",
      "775:\tlearn: -0.0104364\ttotal: 24.1s\tremaining: 6.95s\n",
      "776:\tlearn: -0.0104254\ttotal: 24.1s\tremaining: 6.92s\n",
      "777:\tlearn: -0.0104056\ttotal: 24.1s\tremaining: 6.89s\n",
      "778:\tlearn: -0.0103902\ttotal: 24.2s\tremaining: 6.86s\n",
      "779:\tlearn: -0.0103706\ttotal: 24.2s\tremaining: 6.83s\n",
      "780:\tlearn: -0.0103529\ttotal: 24.2s\tremaining: 6.79s\n",
      "781:\tlearn: -0.0103319\ttotal: 24.3s\tremaining: 6.76s\n",
      "782:\tlearn: -0.0103188\ttotal: 24.3s\tremaining: 6.73s\n",
      "783:\tlearn: -0.0103005\ttotal: 24.3s\tremaining: 6.7s\n",
      "784:\tlearn: -0.0102811\ttotal: 24.3s\tremaining: 6.67s\n",
      "785:\tlearn: -0.0102700\ttotal: 24.4s\tremaining: 6.64s\n",
      "786:\tlearn: -0.0102561\ttotal: 24.4s\tremaining: 6.61s\n"
     ]
    },
    {
     "name": "stdout",
     "output_type": "stream",
     "text": [
      "787:\tlearn: -0.0102393\ttotal: 24.4s\tremaining: 6.57s\n",
      "788:\tlearn: -0.0102242\ttotal: 24.5s\tremaining: 6.54s\n",
      "789:\tlearn: -0.0102097\ttotal: 24.5s\tremaining: 6.51s\n",
      "790:\tlearn: -0.0101906\ttotal: 24.5s\tremaining: 6.48s\n",
      "791:\tlearn: -0.0101679\ttotal: 24.6s\tremaining: 6.45s\n",
      "792:\tlearn: -0.0101584\ttotal: 24.6s\tremaining: 6.42s\n",
      "793:\tlearn: -0.0101355\ttotal: 24.6s\tremaining: 6.39s\n",
      "794:\tlearn: -0.0101204\ttotal: 24.7s\tremaining: 6.36s\n",
      "795:\tlearn: -0.0101117\ttotal: 24.7s\tremaining: 6.33s\n",
      "796:\tlearn: -0.0100876\ttotal: 24.7s\tremaining: 6.29s\n",
      "797:\tlearn: -0.0100651\ttotal: 24.7s\tremaining: 6.26s\n",
      "798:\tlearn: -0.0100477\ttotal: 24.8s\tremaining: 6.23s\n",
      "799:\tlearn: -0.0100270\ttotal: 24.8s\tremaining: 6.2s\n",
      "800:\tlearn: -0.0100118\ttotal: 24.8s\tremaining: 6.17s\n",
      "801:\tlearn: -0.0099962\ttotal: 24.9s\tremaining: 6.14s\n",
      "802:\tlearn: -0.0099798\ttotal: 24.9s\tremaining: 6.11s\n",
      "803:\tlearn: -0.0099606\ttotal: 24.9s\tremaining: 6.08s\n",
      "804:\tlearn: -0.0099374\ttotal: 25s\tremaining: 6.04s\n",
      "805:\tlearn: -0.0099266\ttotal: 25s\tremaining: 6.01s\n",
      "806:\tlearn: -0.0099128\ttotal: 25s\tremaining: 5.98s\n",
      "807:\tlearn: -0.0098996\ttotal: 25.1s\tremaining: 5.95s\n",
      "808:\tlearn: -0.0098798\ttotal: 25.1s\tremaining: 5.92s\n",
      "809:\tlearn: -0.0098528\ttotal: 25.1s\tremaining: 5.89s\n",
      "810:\tlearn: -0.0098430\ttotal: 25.1s\tremaining: 5.86s\n",
      "811:\tlearn: -0.0098239\ttotal: 25.2s\tremaining: 5.83s\n",
      "812:\tlearn: -0.0098058\ttotal: 25.2s\tremaining: 5.8s\n",
      "813:\tlearn: -0.0097936\ttotal: 25.2s\tremaining: 5.77s\n",
      "814:\tlearn: -0.0097790\ttotal: 25.3s\tremaining: 5.73s\n",
      "815:\tlearn: -0.0097624\ttotal: 25.3s\tremaining: 5.7s\n",
      "816:\tlearn: -0.0097489\ttotal: 25.3s\tremaining: 5.67s\n",
      "817:\tlearn: -0.0097322\ttotal: 25.4s\tremaining: 5.64s\n",
      "818:\tlearn: -0.0097102\ttotal: 25.4s\tremaining: 5.61s\n",
      "819:\tlearn: -0.0096946\ttotal: 25.4s\tremaining: 5.58s\n",
      "820:\tlearn: -0.0096829\ttotal: 25.4s\tremaining: 5.55s\n",
      "821:\tlearn: -0.0096671\ttotal: 25.5s\tremaining: 5.52s\n",
      "822:\tlearn: -0.0096533\ttotal: 25.5s\tremaining: 5.49s\n",
      "823:\tlearn: -0.0096323\ttotal: 25.5s\tremaining: 5.46s\n",
      "824:\tlearn: -0.0096170\ttotal: 25.6s\tremaining: 5.42s\n",
      "825:\tlearn: -0.0095996\ttotal: 25.6s\tremaining: 5.39s\n",
      "826:\tlearn: -0.0095890\ttotal: 25.6s\tremaining: 5.36s\n",
      "827:\tlearn: -0.0095783\ttotal: 25.7s\tremaining: 5.33s\n",
      "828:\tlearn: -0.0095688\ttotal: 25.7s\tremaining: 5.3s\n",
      "829:\tlearn: -0.0095496\ttotal: 25.7s\tremaining: 5.27s\n",
      "830:\tlearn: -0.0095418\ttotal: 25.8s\tremaining: 5.24s\n",
      "831:\tlearn: -0.0095277\ttotal: 25.8s\tremaining: 5.21s\n",
      "832:\tlearn: -0.0095133\ttotal: 25.8s\tremaining: 5.18s\n",
      "833:\tlearn: -0.0095020\ttotal: 25.9s\tremaining: 5.14s\n",
      "834:\tlearn: -0.0094873\ttotal: 25.9s\tremaining: 5.11s\n",
      "835:\tlearn: -0.0094719\ttotal: 25.9s\tremaining: 5.08s\n",
      "836:\tlearn: -0.0094655\ttotal: 25.9s\tremaining: 5.05s\n",
      "837:\tlearn: -0.0094374\ttotal: 26s\tremaining: 5.02s\n",
      "838:\tlearn: -0.0094214\ttotal: 26s\tremaining: 4.99s\n",
      "839:\tlearn: -0.0094079\ttotal: 26s\tremaining: 4.96s\n",
      "840:\tlearn: -0.0093910\ttotal: 26.1s\tremaining: 4.93s\n",
      "841:\tlearn: -0.0093738\ttotal: 26.1s\tremaining: 4.9s\n",
      "842:\tlearn: -0.0093571\ttotal: 26.1s\tremaining: 4.87s\n",
      "843:\tlearn: -0.0093405\ttotal: 26.2s\tremaining: 4.83s\n",
      "844:\tlearn: -0.0093226\ttotal: 26.2s\tremaining: 4.8s\n",
      "845:\tlearn: -0.0093114\ttotal: 26.2s\tremaining: 4.77s\n",
      "846:\tlearn: -0.0093029\ttotal: 26.3s\tremaining: 4.74s\n",
      "847:\tlearn: -0.0092886\ttotal: 26.3s\tremaining: 4.71s\n",
      "848:\tlearn: -0.0092796\ttotal: 26.3s\tremaining: 4.68s\n",
      "849:\tlearn: -0.0092740\ttotal: 26.3s\tremaining: 4.65s\n",
      "850:\tlearn: -0.0092662\ttotal: 26.4s\tremaining: 4.62s\n",
      "851:\tlearn: -0.0092534\ttotal: 26.4s\tremaining: 4.59s\n",
      "852:\tlearn: -0.0092357\ttotal: 26.4s\tremaining: 4.55s\n",
      "853:\tlearn: -0.0092242\ttotal: 26.5s\tremaining: 4.52s\n",
      "854:\tlearn: -0.0092041\ttotal: 26.5s\tremaining: 4.49s\n",
      "855:\tlearn: -0.0091912\ttotal: 26.5s\tremaining: 4.46s\n",
      "856:\tlearn: -0.0091668\ttotal: 26.6s\tremaining: 4.43s\n",
      "857:\tlearn: -0.0091514\ttotal: 26.6s\tremaining: 4.4s\n",
      "858:\tlearn: -0.0091435\ttotal: 26.6s\tremaining: 4.37s\n",
      "859:\tlearn: -0.0091231\ttotal: 26.7s\tremaining: 4.34s\n",
      "860:\tlearn: -0.0091113\ttotal: 26.7s\tremaining: 4.31s\n",
      "861:\tlearn: -0.0090930\ttotal: 26.7s\tremaining: 4.28s\n",
      "862:\tlearn: -0.0090780\ttotal: 26.7s\tremaining: 4.25s\n",
      "863:\tlearn: -0.0090681\ttotal: 26.8s\tremaining: 4.21s\n",
      "864:\tlearn: -0.0090593\ttotal: 26.8s\tremaining: 4.18s\n",
      "865:\tlearn: -0.0090403\ttotal: 26.8s\tremaining: 4.15s\n",
      "866:\tlearn: -0.0090212\ttotal: 26.9s\tremaining: 4.12s\n",
      "867:\tlearn: -0.0090119\ttotal: 26.9s\tremaining: 4.09s\n",
      "868:\tlearn: -0.0089888\ttotal: 26.9s\tremaining: 4.06s\n",
      "869:\tlearn: -0.0089783\ttotal: 27s\tremaining: 4.03s\n",
      "870:\tlearn: -0.0089651\ttotal: 27s\tremaining: 4s\n",
      "871:\tlearn: -0.0089463\ttotal: 27s\tremaining: 3.97s\n",
      "872:\tlearn: -0.0089410\ttotal: 27.1s\tremaining: 3.94s\n",
      "873:\tlearn: -0.0089342\ttotal: 27.1s\tremaining: 3.9s\n",
      "874:\tlearn: -0.0089252\ttotal: 27.1s\tremaining: 3.87s\n",
      "875:\tlearn: -0.0089147\ttotal: 27.2s\tremaining: 3.84s\n",
      "876:\tlearn: -0.0088993\ttotal: 27.2s\tremaining: 3.81s\n",
      "877:\tlearn: -0.0088866\ttotal: 27.2s\tremaining: 3.78s\n",
      "878:\tlearn: -0.0088744\ttotal: 27.2s\tremaining: 3.75s\n",
      "879:\tlearn: -0.0088603\ttotal: 27.3s\tremaining: 3.72s\n",
      "880:\tlearn: -0.0088512\ttotal: 27.3s\tremaining: 3.69s\n",
      "881:\tlearn: -0.0088462\ttotal: 27.3s\tremaining: 3.66s\n",
      "882:\tlearn: -0.0088379\ttotal: 27.4s\tremaining: 3.63s\n",
      "883:\tlearn: -0.0088257\ttotal: 27.4s\tremaining: 3.6s\n",
      "884:\tlearn: -0.0088149\ttotal: 27.4s\tremaining: 3.56s\n",
      "885:\tlearn: -0.0087990\ttotal: 27.5s\tremaining: 3.53s\n",
      "886:\tlearn: -0.0087862\ttotal: 27.5s\tremaining: 3.5s\n",
      "887:\tlearn: -0.0087782\ttotal: 27.5s\tremaining: 3.47s\n",
      "888:\tlearn: -0.0087566\ttotal: 27.6s\tremaining: 3.44s\n",
      "889:\tlearn: -0.0087422\ttotal: 27.6s\tremaining: 3.41s\n",
      "890:\tlearn: -0.0087294\ttotal: 27.6s\tremaining: 3.38s\n",
      "891:\tlearn: -0.0087211\ttotal: 27.7s\tremaining: 3.35s\n",
      "892:\tlearn: -0.0087073\ttotal: 27.7s\tremaining: 3.32s\n",
      "893:\tlearn: -0.0086972\ttotal: 27.7s\tremaining: 3.29s\n",
      "894:\tlearn: -0.0086864\ttotal: 27.8s\tremaining: 3.26s\n",
      "895:\tlearn: -0.0086672\ttotal: 27.8s\tremaining: 3.23s\n",
      "896:\tlearn: -0.0086570\ttotal: 27.8s\tremaining: 3.19s\n",
      "897:\tlearn: -0.0086406\ttotal: 27.9s\tremaining: 3.16s\n",
      "898:\tlearn: -0.0086306\ttotal: 27.9s\tremaining: 3.13s\n",
      "899:\tlearn: -0.0086190\ttotal: 27.9s\tremaining: 3.1s\n",
      "900:\tlearn: -0.0086097\ttotal: 27.9s\tremaining: 3.07s\n",
      "901:\tlearn: -0.0085978\ttotal: 28s\tremaining: 3.04s\n",
      "902:\tlearn: -0.0085863\ttotal: 28s\tremaining: 3.01s\n",
      "903:\tlearn: -0.0085752\ttotal: 28s\tremaining: 2.98s\n",
      "904:\tlearn: -0.0085644\ttotal: 28.1s\tremaining: 2.94s\n",
      "905:\tlearn: -0.0085572\ttotal: 28.1s\tremaining: 2.92s\n",
      "906:\tlearn: -0.0085411\ttotal: 28.1s\tremaining: 2.88s\n",
      "907:\tlearn: -0.0085314\ttotal: 28.2s\tremaining: 2.85s\n",
      "908:\tlearn: -0.0085210\ttotal: 28.2s\tremaining: 2.82s\n",
      "909:\tlearn: -0.0085113\ttotal: 28.2s\tremaining: 2.79s\n",
      "910:\tlearn: -0.0084986\ttotal: 28.3s\tremaining: 2.76s\n",
      "911:\tlearn: -0.0084913\ttotal: 28.3s\tremaining: 2.73s\n",
      "912:\tlearn: -0.0084829\ttotal: 28.3s\tremaining: 2.7s\n",
      "913:\tlearn: -0.0084763\ttotal: 28.3s\tremaining: 2.67s\n",
      "914:\tlearn: -0.0084630\ttotal: 28.4s\tremaining: 2.64s\n",
      "915:\tlearn: -0.0084467\ttotal: 28.4s\tremaining: 2.6s\n",
      "916:\tlearn: -0.0084327\ttotal: 28.4s\tremaining: 2.57s\n",
      "917:\tlearn: -0.0084159\ttotal: 28.5s\tremaining: 2.54s\n",
      "918:\tlearn: -0.0084060\ttotal: 28.5s\tremaining: 2.51s\n",
      "919:\tlearn: -0.0083917\ttotal: 28.5s\tremaining: 2.48s\n",
      "920:\tlearn: -0.0083801\ttotal: 28.6s\tremaining: 2.45s\n",
      "921:\tlearn: -0.0083671\ttotal: 28.6s\tremaining: 2.42s\n",
      "922:\tlearn: -0.0083575\ttotal: 28.6s\tremaining: 2.39s\n",
      "923:\tlearn: -0.0083474\ttotal: 28.7s\tremaining: 2.36s\n",
      "924:\tlearn: -0.0083362\ttotal: 28.7s\tremaining: 2.33s\n",
      "925:\tlearn: -0.0083276\ttotal: 28.7s\tremaining: 2.29s\n",
      "926:\tlearn: -0.0083191\ttotal: 28.8s\tremaining: 2.26s\n",
      "927:\tlearn: -0.0083087\ttotal: 28.8s\tremaining: 2.23s\n",
      "928:\tlearn: -0.0082989\ttotal: 28.8s\tremaining: 2.2s\n",
      "929:\tlearn: -0.0082926\ttotal: 28.9s\tremaining: 2.17s\n",
      "930:\tlearn: -0.0082877\ttotal: 28.9s\tremaining: 2.14s\n",
      "931:\tlearn: -0.0082753\ttotal: 28.9s\tremaining: 2.11s\n",
      "932:\tlearn: -0.0082638\ttotal: 29s\tremaining: 2.08s\n",
      "933:\tlearn: -0.0082489\ttotal: 29s\tremaining: 2.05s\n",
      "934:\tlearn: -0.0082380\ttotal: 29s\tremaining: 2.02s\n",
      "935:\tlearn: -0.0082236\ttotal: 29s\tremaining: 1.99s\n",
      "936:\tlearn: -0.0082123\ttotal: 29.1s\tremaining: 1.95s\n",
      "937:\tlearn: -0.0082037\ttotal: 29.1s\tremaining: 1.92s\n",
      "938:\tlearn: -0.0081894\ttotal: 29.1s\tremaining: 1.89s\n",
      "939:\tlearn: -0.0081718\ttotal: 29.2s\tremaining: 1.86s\n",
      "940:\tlearn: -0.0081632\ttotal: 29.2s\tremaining: 1.83s\n",
      "941:\tlearn: -0.0081528\ttotal: 29.2s\tremaining: 1.8s\n",
      "942:\tlearn: -0.0081433\ttotal: 29.3s\tremaining: 1.77s\n",
      "943:\tlearn: -0.0081364\ttotal: 29.3s\tremaining: 1.74s\n"
     ]
    },
    {
     "name": "stdout",
     "output_type": "stream",
     "text": [
      "944:\tlearn: -0.0081288\ttotal: 29.3s\tremaining: 1.71s\n",
      "945:\tlearn: -0.0081143\ttotal: 29.3s\tremaining: 1.68s\n",
      "946:\tlearn: -0.0081010\ttotal: 29.4s\tremaining: 1.64s\n",
      "947:\tlearn: -0.0080970\ttotal: 29.4s\tremaining: 1.61s\n",
      "948:\tlearn: -0.0080832\ttotal: 29.4s\tremaining: 1.58s\n",
      "949:\tlearn: -0.0080754\ttotal: 29.5s\tremaining: 1.55s\n",
      "950:\tlearn: -0.0080666\ttotal: 29.5s\tremaining: 1.52s\n",
      "951:\tlearn: -0.0080548\ttotal: 29.5s\tremaining: 1.49s\n",
      "952:\tlearn: -0.0080417\ttotal: 29.6s\tremaining: 1.46s\n",
      "953:\tlearn: -0.0080355\ttotal: 29.6s\tremaining: 1.43s\n",
      "954:\tlearn: -0.0080294\ttotal: 29.6s\tremaining: 1.4s\n",
      "955:\tlearn: -0.0080197\ttotal: 29.7s\tremaining: 1.36s\n",
      "956:\tlearn: -0.0080001\ttotal: 29.7s\tremaining: 1.33s\n",
      "957:\tlearn: -0.0079844\ttotal: 29.7s\tremaining: 1.3s\n",
      "958:\tlearn: -0.0079776\ttotal: 29.7s\tremaining: 1.27s\n",
      "959:\tlearn: -0.0079628\ttotal: 29.8s\tremaining: 1.24s\n",
      "960:\tlearn: -0.0079548\ttotal: 29.8s\tremaining: 1.21s\n",
      "961:\tlearn: -0.0079405\ttotal: 29.8s\tremaining: 1.18s\n",
      "962:\tlearn: -0.0079273\ttotal: 29.9s\tremaining: 1.15s\n",
      "963:\tlearn: -0.0079183\ttotal: 29.9s\tremaining: 1.12s\n",
      "964:\tlearn: -0.0079084\ttotal: 29.9s\tremaining: 1.08s\n",
      "965:\tlearn: -0.0079013\ttotal: 30s\tremaining: 1.05s\n",
      "966:\tlearn: -0.0078934\ttotal: 30s\tremaining: 1.02s\n",
      "967:\tlearn: -0.0078861\ttotal: 30s\tremaining: 992ms\n",
      "968:\tlearn: -0.0078789\ttotal: 30.1s\tremaining: 961ms\n",
      "969:\tlearn: -0.0078678\ttotal: 30.1s\tremaining: 930ms\n",
      "970:\tlearn: -0.0078589\ttotal: 30.1s\tremaining: 899ms\n",
      "971:\tlearn: -0.0078387\ttotal: 30.1s\tremaining: 868ms\n",
      "972:\tlearn: -0.0078307\ttotal: 30.2s\tremaining: 837ms\n",
      "973:\tlearn: -0.0078222\ttotal: 30.2s\tremaining: 806ms\n",
      "974:\tlearn: -0.0078167\ttotal: 30.2s\tremaining: 775ms\n",
      "975:\tlearn: -0.0078065\ttotal: 30.3s\tremaining: 744ms\n",
      "976:\tlearn: -0.0077981\ttotal: 30.3s\tremaining: 713ms\n",
      "977:\tlearn: -0.0077895\ttotal: 30.3s\tremaining: 682ms\n",
      "978:\tlearn: -0.0077792\ttotal: 30.4s\tremaining: 651ms\n",
      "979:\tlearn: -0.0077587\ttotal: 30.4s\tremaining: 620ms\n",
      "980:\tlearn: -0.0077485\ttotal: 30.4s\tremaining: 589ms\n",
      "981:\tlearn: -0.0077441\ttotal: 30.5s\tremaining: 558ms\n",
      "982:\tlearn: -0.0077379\ttotal: 30.5s\tremaining: 527ms\n",
      "983:\tlearn: -0.0077317\ttotal: 30.5s\tremaining: 496ms\n",
      "984:\tlearn: -0.0077232\ttotal: 30.5s\tremaining: 465ms\n",
      "985:\tlearn: -0.0077120\ttotal: 30.6s\tremaining: 434ms\n",
      "986:\tlearn: -0.0077043\ttotal: 30.6s\tremaining: 403ms\n",
      "987:\tlearn: -0.0076968\ttotal: 30.6s\tremaining: 372ms\n",
      "988:\tlearn: -0.0076881\ttotal: 30.7s\tremaining: 341ms\n",
      "989:\tlearn: -0.0076784\ttotal: 30.7s\tremaining: 310ms\n",
      "990:\tlearn: -0.0076698\ttotal: 30.7s\tremaining: 279ms\n",
      "991:\tlearn: -0.0076604\ttotal: 30.8s\tremaining: 248ms\n",
      "992:\tlearn: -0.0076523\ttotal: 30.8s\tremaining: 217ms\n",
      "993:\tlearn: -0.0076446\ttotal: 30.8s\tremaining: 186ms\n",
      "994:\tlearn: -0.0076299\ttotal: 30.9s\tremaining: 155ms\n",
      "995:\tlearn: -0.0076232\ttotal: 30.9s\tremaining: 124ms\n",
      "996:\tlearn: -0.0076181\ttotal: 30.9s\tremaining: 93ms\n",
      "997:\tlearn: -0.0076106\ttotal: 30.9s\tremaining: 62ms\n",
      "998:\tlearn: -0.0076003\ttotal: 31s\tremaining: 31ms\n",
      "999:\tlearn: -0.0075911\ttotal: 31s\tremaining: 0us\n",
      "Input data shape:  (120, 24)\n",
      "Output data shape:  (120, 2)\n",
      "Selected features:  [2 3]\n",
      "Elapsed time: 31.78s\n"
     ]
    },
    {
     "data": {
      "text/plain": [
       "<BarContainer object of 24 artists>"
      ]
     },
     "execution_count": 39,
     "metadata": {},
     "output_type": "execute_result"
    },
    {
     "data": {
      "image/png": "[encoded data removed]",
      "text/plain": [
       "<Figure size 432x288 with 1 Axes>"
      ]
     },
     "metadata": {
      "needs_background": "light"
     },
     "output_type": "display_data"
    }
   ],
   "source": [
    "from catboost import CatBoostClassifier\n",
    "from sklearn.feature_selection import SelectFromModel\n",
    "\n",
    "start = time()\n",
    "\n",
    "rfc = CatBoostClassifier()\n",
    "rfc.fit(X_train, y_train)\n",
    "sfm = SelectFromModel(rfc, prefit=True)\n",
    "\n",
    "print('Input data shape: ', X_train.shape)\n",
    "\n",
    "X_train_new = sfm.transform(X_train)\n",
    "\n",
    "print('Output data shape: ', X_train_new.shape)\n",
    "print('Selected features: ', sfm.get_support(indices=True))\n",
    "print('Elapsed time: %.2fs' % (time() - start))\n",
    "\n",
    "scores = rfc.feature_importances_\n",
    "\n",
    "plt.bar(X_train_indices, scores, width=.2, color='black', edgecolor='black')"
   ]
  },
  {
   "cell_type": "code",
   "execution_count": 40,
   "metadata": {},
   "outputs": [
    {
     "name": "stdout",
     "output_type": "stream",
     "text": [
      "Output data shape:  (30, 2)\n"
     ]
    }
   ],
   "source": [
    "X_test_new = sfm.transform(X_test)\n",
    "print('Output data shape: ', X_test_new.shape)"
   ]
  },
  {
   "cell_type": "markdown",
   "metadata": {},
   "source": [
    "## Testing"
   ]
  },
  {
   "cell_type": "code",
   "execution_count": 41,
   "metadata": {},
   "outputs": [],
   "source": [
    "# Use it if you selected features using small subset of data and want to train using 80% of dataset\n",
    "\n",
    "X_train2 = np.concatenate((X_train, X_test[:14000]))\n",
    "X_test2 = X_test[14000:18000]\n",
    "\n",
    "y_train2 = np.concatenate((y_train, y_test[:14000]))\n",
    "y_test2 = y_test[14000:18000]\n",
    "\n",
    "X_train_new2 = np.concatenate((X_train_new, X_test_new[:14000]))\n",
    "X_test_new2 = X_test_new[14000:18000]"
   ]
  },
  {
   "cell_type": "markdown",
   "metadata": {},
   "source": [
    "### Original dataset:"
   ]
  },
  {
   "cell_type": "code",
   "execution_count": 42,
   "metadata": {},
   "outputs": [],
   "source": [
    "from sklearn.ensemble import RandomForestClassifier\n",
    "from sklearn.metrics import roc_auc_score, accuracy_score"
   ]
  },
  {
   "cell_type": "code",
   "execution_count": 46,
   "metadata": {},
   "outputs": [
    {
     "name": "stdout",
     "output_type": "stream",
     "text": [
      "Accuracy score:0.9\n"
     ]
    }
   ],
   "source": [
    "rfc = RandomForestClassifier(n_estimators=1000, random_state=0, n_jobs=-1)\n",
    "\n",
    "rfc.fit(X_train, y_train)\n",
    "pred = rfc.predict(X_test)\n",
    "# pred = rfc.predict_proba(X_test)[:,1]\n",
    "\n",
    "print(\"Accuracy score:\" + str(accuracy_score(y_test, pred)))\n",
    "# print(\"AUC score:\" + str(roc_auc_score(y_test, pred)))"
   ]
  },
  {
   "cell_type": "markdown",
   "metadata": {},
   "source": [
    "### Modified dataset:"
   ]
  },
  {
   "cell_type": "code",
   "execution_count": 45,
   "metadata": {},
   "outputs": [
    {
     "name": "stdout",
     "output_type": "stream",
     "text": [
      "Accuracy score:0.9666666666666667\n"
     ]
    }
   ],
   "source": [
    "rfc = RandomForestClassifier(n_estimators=1000, random_state=0, n_jobs=-1)\n",
    "\n",
    "rfc.fit(X_train_new, y_train)\n",
    "pred = rfc.predict(X_test_new)\n",
    "\n",
    "print(\"Accuracy score:\" + str(accuracy_score(y_test, pred)))"
   ]
  },
  {
   "cell_type": "code",
   "execution_count": null,
   "metadata": {},
   "outputs": [],
   "source": []
  },
  {
   "cell_type": "code",
   "execution_count": null,
   "metadata": {},
   "outputs": [],
   "source": [
    "# Santander train: 0.8, test: 0.2\n",
    "\n",
    "# Original(200): 0.8489\n",
    "\n",
    "# Pearson's correlation(81): 0.8419\n",
    "# LDA(1): 0.7716\n",
    "# Anova(81): 0.8419\n",
    "# Chi-Square(81): 0.8413\n",
    "# Variance threshold(186): 0.8376\n",
    "# Information gain(81): 0.8266\n",
    "\n",
    "# RFE(81): 0.8361 (1) 0.8396 (10)\n",
    "# RFECV(46): 0.8153 (1)\n",
    "# Boruta(29): 0.7891 (1)\n",
    "\n",
    "\n",
    "\n"
   ]
  },
  {
   "cell_type": "code",
   "execution_count": null,
   "metadata": {},
   "outputs": [],
   "source": [
    "# Santander train: 0.1, test: 0.9\n",
    "\n",
    "# Original(200): 0.8297\n",
    "\n",
    "# RFECV(181): 0.83 (10)"
   ]
  },
  {
   "cell_type": "code",
   "execution_count": null,
   "metadata": {},
   "outputs": [],
   "source": [
    "# Santander train: 0.1, test: 0.9 -> train: 0.8, test: 0.2\n",
    "# Features selected using 10% of dataset, model trained on 80% of dataset\n",
    "\n",
    "# Original(200): 0.8474\n",
    "\n",
    "# RFECV(181): 0.8511 (10)"
   ]
  },
  {
   "cell_type": "markdown",
   "metadata": {},
   "source": [
    "## References:\n"
   ]
  },
  {
   "cell_type": "code",
   "execution_count": null,
   "metadata": {},
   "outputs": [],
   "source": [
    "# https://scikit-learn.org/stable/modules/feature_selection.html\n",
    "# https://scikit-learn.org/stable/modules/classes.html#module-sklearn.feature_selection"
   ]
  }
 ],
 "metadata": {
  "kernelspec": {
   "display_name": "Python 3",
   "language": "python",
   "name": "python3"
  },
  "language_info": {
   "codemirror_mode": {
    "name": "ipython",
    "version": 3
   },
   "file_extension": ".py",
   "mimetype": "text/x-python",
   "name": "python",
   "nbconvert_exporter": "python",
   "pygments_lexer": "ipython3",
   "version": "3.6.6"
  }
 },
 "nbformat": 4,
 "nbformat_minor": 2
}
